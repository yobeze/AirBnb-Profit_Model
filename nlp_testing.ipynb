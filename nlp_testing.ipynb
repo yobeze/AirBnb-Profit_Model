{
 "cells": [
  {
   "cell_type": "code",
   "execution_count": 7,
   "metadata": {},
   "outputs": [],
   "source": [
    "import numpy as np\n",
    "import pandas as pd\n",
    "import seaborn as sns\n",
    "import csv"
   ]
  },
  {
   "cell_type": "code",
   "execution_count": 8,
   "metadata": {},
   "outputs": [],
   "source": [
    "# pd.set_option('display.max_rows', 100)\n",
    "# pd.set_option('max_colwidth', 500)\n",
    "# pd.set_option('display.max_columns', 500)\n",
    "\n",
    "reviews = pd.read_csv('reviews.csv')\n",
    "# reviews.head()\n",
    "df_host = pd.read_csv('listings_cleaned.csv')\n",
    "# df_host.head(10)"
   ]
  },
  {
   "cell_type": "code",
   "execution_count": 9,
   "metadata": {},
   "outputs": [
    {
     "data": {
      "text/html": [
       "<div>\n",
       "<style scoped>\n",
       "    .dataframe tbody tr th:only-of-type {\n",
       "        vertical-align: middle;\n",
       "    }\n",
       "\n",
       "    .dataframe tbody tr th {\n",
       "        vertical-align: top;\n",
       "    }\n",
       "\n",
       "    .dataframe thead th {\n",
       "        text-align: right;\n",
       "    }\n",
       "</style>\n",
       "<table border=\"1\" class=\"dataframe\">\n",
       "  <thead>\n",
       "    <tr style=\"text-align: right;\">\n",
       "      <th></th>\n",
       "      <th>id</th>\n",
       "      <th>listing_url</th>\n",
       "      <th>scrape_id</th>\n",
       "      <th>last_scraped</th>\n",
       "      <th>name</th>\n",
       "      <th>description</th>\n",
       "      <th>neighborhood_overview</th>\n",
       "      <th>picture_url</th>\n",
       "      <th>host_id</th>\n",
       "      <th>host_url</th>\n",
       "      <th>...</th>\n",
       "      <th>review_scores_value</th>\n",
       "      <th>license</th>\n",
       "      <th>instant_bookable</th>\n",
       "      <th>calculated_host_listings_count</th>\n",
       "      <th>calculated_host_listings_count_entire_homes</th>\n",
       "      <th>calculated_host_listings_count_private_rooms</th>\n",
       "      <th>calculated_host_listings_count_shared_rooms</th>\n",
       "      <th>reviews_per_month</th>\n",
       "      <th>n_bathrooms</th>\n",
       "      <th>shared_private</th>\n",
       "    </tr>\n",
       "  </thead>\n",
       "  <tbody>\n",
       "    <tr>\n",
       "      <th>0</th>\n",
       "      <td>177</td>\n",
       "      <td>https://www.airbnb.com/rooms/177</td>\n",
       "      <td>20210722142814</td>\n",
       "      <td>2021-07-23</td>\n",
       "      <td>Tiny Home in the Heart of the City- ECO FRIENDLY</td>\n",
       "      <td>160 sq ft + 80 sq ft loft for sleeping, Sleeps...</td>\n",
       "      <td>Quiet neighborhood next to park, creeks and bi...</td>\n",
       "      <td>https://a0.muscache.com/pictures/a1745ab2-b3a0...</td>\n",
       "      <td>615</td>\n",
       "      <td>https://www.airbnb.com/users/show/615</td>\n",
       "      <td>...</td>\n",
       "      <td>4.76</td>\n",
       "      <td>2016-BFN-0004968</td>\n",
       "      <td>f</td>\n",
       "      <td>2</td>\n",
       "      <td>2</td>\n",
       "      <td>0</td>\n",
       "      <td>0</td>\n",
       "      <td>1.49</td>\n",
       "      <td>1.0</td>\n",
       "      <td>private</td>\n",
       "    </tr>\n",
       "    <tr>\n",
       "      <th>1</th>\n",
       "      <td>360</td>\n",
       "      <td>https://www.airbnb.com/rooms/360</td>\n",
       "      <td>20210722142814</td>\n",
       "      <td>2021-07-23</td>\n",
       "      <td>Sit in the Peaceful Garden of the Chickadee Co...</td>\n",
       "      <td>Enjoy the famous Colorado weather and unplug i...</td>\n",
       "      <td>The cottage is located in the center of Lower ...</td>\n",
       "      <td>https://a0.muscache.com/pictures/monet/Select-...</td>\n",
       "      <td>666</td>\n",
       "      <td>https://www.airbnb.com/users/show/666</td>\n",
       "      <td>...</td>\n",
       "      <td>4.91</td>\n",
       "      <td>2017-BFN-0002177</td>\n",
       "      <td>f</td>\n",
       "      <td>2</td>\n",
       "      <td>2</td>\n",
       "      <td>0</td>\n",
       "      <td>0</td>\n",
       "      <td>8.98</td>\n",
       "      <td>1.0</td>\n",
       "      <td>private</td>\n",
       "    </tr>\n",
       "    <tr>\n",
       "      <th>2</th>\n",
       "      <td>364</td>\n",
       "      <td>https://www.airbnb.com/rooms/364</td>\n",
       "      <td>20210722142814</td>\n",
       "      <td>2021-07-23</td>\n",
       "      <td>Lodo / RiNo LOFT  via airport train</td>\n",
       "      <td>Modern 1,000 square foot loft in the heart of ...</td>\n",
       "      <td>Ten brewpubs within walking distance, two grea...</td>\n",
       "      <td>https://a0.muscache.com/pictures/11766413/a2c5...</td>\n",
       "      <td>783</td>\n",
       "      <td>https://www.airbnb.com/users/show/783</td>\n",
       "      <td>...</td>\n",
       "      <td>4.71</td>\n",
       "      <td>NaN</td>\n",
       "      <td>f</td>\n",
       "      <td>1</td>\n",
       "      <td>1</td>\n",
       "      <td>0</td>\n",
       "      <td>0</td>\n",
       "      <td>0.70</td>\n",
       "      <td>1.5</td>\n",
       "      <td>private</td>\n",
       "    </tr>\n",
       "    <tr>\n",
       "      <th>3</th>\n",
       "      <td>590</td>\n",
       "      <td>https://www.airbnb.com/rooms/590</td>\n",
       "      <td>20210722142814</td>\n",
       "      <td>2021-07-23</td>\n",
       "      <td>Comfortable  - and a great value!</td>\n",
       "      <td>Large guest room in my home, where I also live...</td>\n",
       "      <td>I love the diversity of my neighborhood and it...</td>\n",
       "      <td>https://a0.muscache.com/pictures/110931/30991c...</td>\n",
       "      <td>933</td>\n",
       "      <td>https://www.airbnb.com/users/show/933</td>\n",
       "      <td>...</td>\n",
       "      <td>4.84</td>\n",
       "      <td>2021-BFN-0000578</td>\n",
       "      <td>f</td>\n",
       "      <td>2</td>\n",
       "      <td>0</td>\n",
       "      <td>2</td>\n",
       "      <td>0</td>\n",
       "      <td>7.26</td>\n",
       "      <td>1.0</td>\n",
       "      <td>shared</td>\n",
       "    </tr>\n",
       "    <tr>\n",
       "      <th>4</th>\n",
       "      <td>592</td>\n",
       "      <td>https://www.airbnb.com/rooms/592</td>\n",
       "      <td>20210722142814</td>\n",
       "      <td>2021-07-23</td>\n",
       "      <td>private</td>\n",
       "      <td>This room is in the basement.  It does not hav...</td>\n",
       "      <td>NaN</td>\n",
       "      <td>https://a0.muscache.com/pictures/miso/Hosting-...</td>\n",
       "      <td>933</td>\n",
       "      <td>https://www.airbnb.com/users/show/933</td>\n",
       "      <td>...</td>\n",
       "      <td>4.85</td>\n",
       "      <td>2021-BFN-0000578</td>\n",
       "      <td>f</td>\n",
       "      <td>2</td>\n",
       "      <td>0</td>\n",
       "      <td>2</td>\n",
       "      <td>0</td>\n",
       "      <td>1.14</td>\n",
       "      <td>1.0</td>\n",
       "      <td>shared</td>\n",
       "    </tr>\n",
       "  </tbody>\n",
       "</table>\n",
       "<p>5 rows × 28 columns</p>\n",
       "</div>"
      ],
      "text/plain": [
       "    id                       listing_url       scrape_id last_scraped  \\\n",
       "0  177  https://www.airbnb.com/rooms/177  20210722142814   2021-07-23   \n",
       "1  360  https://www.airbnb.com/rooms/360  20210722142814   2021-07-23   \n",
       "2  364  https://www.airbnb.com/rooms/364  20210722142814   2021-07-23   \n",
       "3  590  https://www.airbnb.com/rooms/590  20210722142814   2021-07-23   \n",
       "4  592  https://www.airbnb.com/rooms/592  20210722142814   2021-07-23   \n",
       "\n",
       "                                                name  \\\n",
       "0   Tiny Home in the Heart of the City- ECO FRIENDLY   \n",
       "1  Sit in the Peaceful Garden of the Chickadee Co...   \n",
       "2                Lodo / RiNo LOFT  via airport train   \n",
       "3                  Comfortable  - and a great value!   \n",
       "4                                            private   \n",
       "\n",
       "                                         description  \\\n",
       "0  160 sq ft + 80 sq ft loft for sleeping, Sleeps...   \n",
       "1  Enjoy the famous Colorado weather and unplug i...   \n",
       "2  Modern 1,000 square foot loft in the heart of ...   \n",
       "3  Large guest room in my home, where I also live...   \n",
       "4  This room is in the basement.  It does not hav...   \n",
       "\n",
       "                               neighborhood_overview  \\\n",
       "0  Quiet neighborhood next to park, creeks and bi...   \n",
       "1  The cottage is located in the center of Lower ...   \n",
       "2  Ten brewpubs within walking distance, two grea...   \n",
       "3  I love the diversity of my neighborhood and it...   \n",
       "4                                                NaN   \n",
       "\n",
       "                                         picture_url  host_id  \\\n",
       "0  https://a0.muscache.com/pictures/a1745ab2-b3a0...      615   \n",
       "1  https://a0.muscache.com/pictures/monet/Select-...      666   \n",
       "2  https://a0.muscache.com/pictures/11766413/a2c5...      783   \n",
       "3  https://a0.muscache.com/pictures/110931/30991c...      933   \n",
       "4  https://a0.muscache.com/pictures/miso/Hosting-...      933   \n",
       "\n",
       "                                host_url  ... review_scores_value  \\\n",
       "0  https://www.airbnb.com/users/show/615  ...                4.76   \n",
       "1  https://www.airbnb.com/users/show/666  ...                4.91   \n",
       "2  https://www.airbnb.com/users/show/783  ...                4.71   \n",
       "3  https://www.airbnb.com/users/show/933  ...                4.84   \n",
       "4  https://www.airbnb.com/users/show/933  ...                4.85   \n",
       "\n",
       "            license  instant_bookable  calculated_host_listings_count  \\\n",
       "0  2016-BFN-0004968                 f                               2   \n",
       "1  2017-BFN-0002177                 f                               2   \n",
       "2               NaN                 f                               1   \n",
       "3  2021-BFN-0000578                 f                               2   \n",
       "4  2021-BFN-0000578                 f                               2   \n",
       "\n",
       "   calculated_host_listings_count_entire_homes  \\\n",
       "0                                            2   \n",
       "1                                            2   \n",
       "2                                            1   \n",
       "3                                            0   \n",
       "4                                            0   \n",
       "\n",
       "   calculated_host_listings_count_private_rooms  \\\n",
       "0                                             0   \n",
       "1                                             0   \n",
       "2                                             0   \n",
       "3                                             2   \n",
       "4                                             2   \n",
       "\n",
       "   calculated_host_listings_count_shared_rooms  reviews_per_month  \\\n",
       "0                                            0               1.49   \n",
       "1                                            0               8.98   \n",
       "2                                            0               0.70   \n",
       "3                                            0               7.26   \n",
       "4                                            0               1.14   \n",
       "\n",
       "   n_bathrooms shared_private  \n",
       "0          1.0        private  \n",
       "1          1.0        private  \n",
       "2          1.5        private  \n",
       "3          1.0         shared  \n",
       "4          1.0         shared  \n",
       "\n",
       "[5 rows x 28 columns]"
      ]
     },
     "execution_count": 9,
     "metadata": {},
     "output_type": "execute_result"
    }
   ],
   "source": [
    "#removing unnecessary columns\n",
    "#can do this much more efficiently later\n",
    "host_filtered = df_host.drop(df_host.iloc[:, 11:59], axis = 1)\n",
    "host_filtered.head()\n",
    "# reviews.head()"
   ]
  },
  {
   "cell_type": "code",
   "execution_count": 10,
   "metadata": {},
   "outputs": [],
   "source": [
    "host_filtered.drop(['scrape_id', 'last_scraped', 'name', 'description', 'neighborhood_overview', 'picture_url', 'host_id', 'host_url', 'last_review'], axis = 1, inplace = True)"
   ]
  },
  {
   "cell_type": "code",
   "execution_count": 11,
   "metadata": {},
   "outputs": [
    {
     "data": {
      "text/html": [
       "<div>\n",
       "<style scoped>\n",
       "    .dataframe tbody tr th:only-of-type {\n",
       "        vertical-align: middle;\n",
       "    }\n",
       "\n",
       "    .dataframe tbody tr th {\n",
       "        vertical-align: top;\n",
       "    }\n",
       "\n",
       "    .dataframe thead th {\n",
       "        text-align: right;\n",
       "    }\n",
       "</style>\n",
       "<table border=\"1\" class=\"dataframe\">\n",
       "  <thead>\n",
       "    <tr style=\"text-align: right;\">\n",
       "      <th></th>\n",
       "      <th>id</th>\n",
       "      <th>listing_url</th>\n",
       "      <th>host_name</th>\n",
       "      <th>review_scores_rating</th>\n",
       "      <th>review_scores_accuracy</th>\n",
       "      <th>review_scores_cleanliness</th>\n",
       "      <th>review_scores_checkin</th>\n",
       "      <th>review_scores_communication</th>\n",
       "      <th>review_scores_location</th>\n",
       "      <th>review_scores_value</th>\n",
       "    </tr>\n",
       "  </thead>\n",
       "  <tbody>\n",
       "    <tr>\n",
       "      <th>0</th>\n",
       "      <td>177</td>\n",
       "      <td>https://www.airbnb.com/rooms/177</td>\n",
       "      <td>Joe</td>\n",
       "      <td>4.80</td>\n",
       "      <td>4.96</td>\n",
       "      <td>4.86</td>\n",
       "      <td>4.96</td>\n",
       "      <td>4.93</td>\n",
       "      <td>4.83</td>\n",
       "      <td>4.76</td>\n",
       "    </tr>\n",
       "    <tr>\n",
       "      <th>1</th>\n",
       "      <td>360</td>\n",
       "      <td>https://www.airbnb.com/rooms/360</td>\n",
       "      <td>Jennifer &amp; Giovanni</td>\n",
       "      <td>4.99</td>\n",
       "      <td>4.99</td>\n",
       "      <td>4.96</td>\n",
       "      <td>5.00</td>\n",
       "      <td>5.00</td>\n",
       "      <td>5.00</td>\n",
       "      <td>4.91</td>\n",
       "    </tr>\n",
       "    <tr>\n",
       "      <th>2</th>\n",
       "      <td>364</td>\n",
       "      <td>https://www.airbnb.com/rooms/364</td>\n",
       "      <td>Jason</td>\n",
       "      <td>4.85</td>\n",
       "      <td>4.78</td>\n",
       "      <td>4.81</td>\n",
       "      <td>4.95</td>\n",
       "      <td>4.96</td>\n",
       "      <td>4.65</td>\n",
       "      <td>4.71</td>\n",
       "    </tr>\n",
       "    <tr>\n",
       "      <th>3</th>\n",
       "      <td>590</td>\n",
       "      <td>https://www.airbnb.com/rooms/590</td>\n",
       "      <td>Jill</td>\n",
       "      <td>4.84</td>\n",
       "      <td>4.76</td>\n",
       "      <td>4.56</td>\n",
       "      <td>4.92</td>\n",
       "      <td>4.95</td>\n",
       "      <td>4.74</td>\n",
       "      <td>4.84</td>\n",
       "    </tr>\n",
       "    <tr>\n",
       "      <th>4</th>\n",
       "      <td>592</td>\n",
       "      <td>https://www.airbnb.com/rooms/592</td>\n",
       "      <td>Jill</td>\n",
       "      <td>4.85</td>\n",
       "      <td>4.75</td>\n",
       "      <td>4.55</td>\n",
       "      <td>4.94</td>\n",
       "      <td>4.94</td>\n",
       "      <td>4.80</td>\n",
       "      <td>4.85</td>\n",
       "    </tr>\n",
       "  </tbody>\n",
       "</table>\n",
       "</div>"
      ],
      "text/plain": [
       "    id                       listing_url            host_name  \\\n",
       "0  177  https://www.airbnb.com/rooms/177                  Joe   \n",
       "1  360  https://www.airbnb.com/rooms/360  Jennifer & Giovanni   \n",
       "2  364  https://www.airbnb.com/rooms/364                Jason   \n",
       "3  590  https://www.airbnb.com/rooms/590                 Jill   \n",
       "4  592  https://www.airbnb.com/rooms/592                 Jill   \n",
       "\n",
       "   review_scores_rating  review_scores_accuracy  review_scores_cleanliness  \\\n",
       "0                  4.80                    4.96                       4.86   \n",
       "1                  4.99                    4.99                       4.96   \n",
       "2                  4.85                    4.78                       4.81   \n",
       "3                  4.84                    4.76                       4.56   \n",
       "4                  4.85                    4.75                       4.55   \n",
       "\n",
       "   review_scores_checkin  review_scores_communication  review_scores_location  \\\n",
       "0                   4.96                         4.93                    4.83   \n",
       "1                   5.00                         5.00                    5.00   \n",
       "2                   4.95                         4.96                    4.65   \n",
       "3                   4.92                         4.95                    4.74   \n",
       "4                   4.94                         4.94                    4.80   \n",
       "\n",
       "   review_scores_value  \n",
       "0                 4.76  \n",
       "1                 4.91  \n",
       "2                 4.71  \n",
       "3                 4.84  \n",
       "4                 4.85  "
      ]
     },
     "execution_count": 11,
     "metadata": {},
     "output_type": "execute_result"
    }
   ],
   "source": [
    "host_filtered.drop(host_filtered.iloc[:, 10:], axis = 1, inplace = True)\n",
    "host_filtered.head()"
   ]
  },
  {
   "cell_type": "code",
   "execution_count": 12,
   "metadata": {},
   "outputs": [
    {
     "data": {
      "text/html": [
       "<div>\n",
       "<style scoped>\n",
       "    .dataframe tbody tr th:only-of-type {\n",
       "        vertical-align: middle;\n",
       "    }\n",
       "\n",
       "    .dataframe tbody tr th {\n",
       "        vertical-align: top;\n",
       "    }\n",
       "\n",
       "    .dataframe thead th {\n",
       "        text-align: right;\n",
       "    }\n",
       "</style>\n",
       "<table border=\"1\" class=\"dataframe\">\n",
       "  <thead>\n",
       "    <tr style=\"text-align: right;\">\n",
       "      <th></th>\n",
       "      <th>id</th>\n",
       "      <th>date</th>\n",
       "      <th>reviewer_name</th>\n",
       "      <th>comments</th>\n",
       "    </tr>\n",
       "  </thead>\n",
       "  <tbody>\n",
       "    <tr>\n",
       "      <th>0</th>\n",
       "      <td>177</td>\n",
       "      <td>2016-09-04</td>\n",
       "      <td>Brenna</td>\n",
       "      <td>Great place to stay! Definitely a tiny home, b...</td>\n",
       "    </tr>\n",
       "    <tr>\n",
       "      <th>1</th>\n",
       "      <td>177</td>\n",
       "      <td>2016-09-13</td>\n",
       "      <td>Rachael</td>\n",
       "      <td>Joe was very friendly and gave us all the info...</td>\n",
       "    </tr>\n",
       "    <tr>\n",
       "      <th>2</th>\n",
       "      <td>177</td>\n",
       "      <td>2016-09-14</td>\n",
       "      <td>Haley</td>\n",
       "      <td>Amazing property and Joe was a great host! Eve...</td>\n",
       "    </tr>\n",
       "    <tr>\n",
       "      <th>3</th>\n",
       "      <td>177</td>\n",
       "      <td>2016-09-19</td>\n",
       "      <td>Mike</td>\n",
       "      <td>Joe was a great host, the description of this ...</td>\n",
       "    </tr>\n",
       "    <tr>\n",
       "      <th>4</th>\n",
       "      <td>177</td>\n",
       "      <td>2016-09-22</td>\n",
       "      <td>Carol</td>\n",
       "      <td>He welcomes us when we first arrived and gave ...</td>\n",
       "    </tr>\n",
       "  </tbody>\n",
       "</table>\n",
       "</div>"
      ],
      "text/plain": [
       "    id        date reviewer_name  \\\n",
       "0  177  2016-09-04        Brenna   \n",
       "1  177  2016-09-13       Rachael   \n",
       "2  177  2016-09-14         Haley   \n",
       "3  177  2016-09-19          Mike   \n",
       "4  177  2016-09-22         Carol   \n",
       "\n",
       "                                            comments  \n",
       "0  Great place to stay! Definitely a tiny home, b...  \n",
       "1  Joe was very friendly and gave us all the info...  \n",
       "2  Amazing property and Joe was a great host! Eve...  \n",
       "3  Joe was a great host, the description of this ...  \n",
       "4  He welcomes us when we first arrived and gave ...  "
      ]
     },
     "execution_count": 12,
     "metadata": {},
     "output_type": "execute_result"
    }
   ],
   "source": [
    "#renaming columns for merge on ID/listng ID\n",
    "reviews.drop(['reviewer_id', 'id'], axis = 1, inplace = True)\n",
    "reviews.rename(columns = {'listing_id': 'id'}, inplace = True)\n",
    "reviews.head()"
   ]
  },
  {
   "cell_type": "code",
   "execution_count": 13,
   "metadata": {},
   "outputs": [
    {
     "data": {
      "text/html": [
       "<div>\n",
       "<style scoped>\n",
       "    .dataframe tbody tr th:only-of-type {\n",
       "        vertical-align: middle;\n",
       "    }\n",
       "\n",
       "    .dataframe tbody tr th {\n",
       "        vertical-align: top;\n",
       "    }\n",
       "\n",
       "    .dataframe thead th {\n",
       "        text-align: right;\n",
       "    }\n",
       "</style>\n",
       "<table border=\"1\" class=\"dataframe\">\n",
       "  <thead>\n",
       "    <tr style=\"text-align: right;\">\n",
       "      <th></th>\n",
       "      <th>id</th>\n",
       "      <th>host_name</th>\n",
       "      <th>review_scores_rating</th>\n",
       "      <th>review_scores_accuracy</th>\n",
       "      <th>review_scores_cleanliness</th>\n",
       "      <th>review_scores_checkin</th>\n",
       "      <th>review_scores_communication</th>\n",
       "      <th>review_scores_location</th>\n",
       "      <th>review_scores_value</th>\n",
       "    </tr>\n",
       "  </thead>\n",
       "  <tbody>\n",
       "    <tr>\n",
       "      <th>0</th>\n",
       "      <td>177</td>\n",
       "      <td>Joe</td>\n",
       "      <td>4.80</td>\n",
       "      <td>4.96</td>\n",
       "      <td>4.86</td>\n",
       "      <td>4.96</td>\n",
       "      <td>4.93</td>\n",
       "      <td>4.83</td>\n",
       "      <td>4.76</td>\n",
       "    </tr>\n",
       "    <tr>\n",
       "      <th>1</th>\n",
       "      <td>360</td>\n",
       "      <td>Jennifer &amp; Giovanni</td>\n",
       "      <td>4.99</td>\n",
       "      <td>4.99</td>\n",
       "      <td>4.96</td>\n",
       "      <td>5.00</td>\n",
       "      <td>5.00</td>\n",
       "      <td>5.00</td>\n",
       "      <td>4.91</td>\n",
       "    </tr>\n",
       "    <tr>\n",
       "      <th>2</th>\n",
       "      <td>364</td>\n",
       "      <td>Jason</td>\n",
       "      <td>4.85</td>\n",
       "      <td>4.78</td>\n",
       "      <td>4.81</td>\n",
       "      <td>4.95</td>\n",
       "      <td>4.96</td>\n",
       "      <td>4.65</td>\n",
       "      <td>4.71</td>\n",
       "    </tr>\n",
       "    <tr>\n",
       "      <th>3</th>\n",
       "      <td>590</td>\n",
       "      <td>Jill</td>\n",
       "      <td>4.84</td>\n",
       "      <td>4.76</td>\n",
       "      <td>4.56</td>\n",
       "      <td>4.92</td>\n",
       "      <td>4.95</td>\n",
       "      <td>4.74</td>\n",
       "      <td>4.84</td>\n",
       "    </tr>\n",
       "    <tr>\n",
       "      <th>4</th>\n",
       "      <td>592</td>\n",
       "      <td>Jill</td>\n",
       "      <td>4.85</td>\n",
       "      <td>4.75</td>\n",
       "      <td>4.55</td>\n",
       "      <td>4.94</td>\n",
       "      <td>4.94</td>\n",
       "      <td>4.80</td>\n",
       "      <td>4.85</td>\n",
       "    </tr>\n",
       "    <tr>\n",
       "      <th>5</th>\n",
       "      <td>686</td>\n",
       "      <td>Alexandra</td>\n",
       "      <td>4.77</td>\n",
       "      <td>4.77</td>\n",
       "      <td>4.81</td>\n",
       "      <td>4.86</td>\n",
       "      <td>4.92</td>\n",
       "      <td>4.87</td>\n",
       "      <td>4.83</td>\n",
       "    </tr>\n",
       "    <tr>\n",
       "      <th>6</th>\n",
       "      <td>1940</td>\n",
       "      <td>Joanne</td>\n",
       "      <td>4.93</td>\n",
       "      <td>4.93</td>\n",
       "      <td>4.93</td>\n",
       "      <td>5.00</td>\n",
       "      <td>4.97</td>\n",
       "      <td>4.92</td>\n",
       "      <td>4.88</td>\n",
       "    </tr>\n",
       "    <tr>\n",
       "      <th>7</th>\n",
       "      <td>31503</td>\n",
       "      <td>Rick</td>\n",
       "      <td>4.89</td>\n",
       "      <td>4.89</td>\n",
       "      <td>5.00</td>\n",
       "      <td>4.93</td>\n",
       "      <td>4.99</td>\n",
       "      <td>4.86</td>\n",
       "      <td>4.89</td>\n",
       "    </tr>\n",
       "    <tr>\n",
       "      <th>8</th>\n",
       "      <td>39405</td>\n",
       "      <td>Jennifer &amp; Giovanni</td>\n",
       "      <td>4.91</td>\n",
       "      <td>4.88</td>\n",
       "      <td>4.93</td>\n",
       "      <td>4.98</td>\n",
       "      <td>4.97</td>\n",
       "      <td>4.84</td>\n",
       "      <td>4.85</td>\n",
       "    </tr>\n",
       "    <tr>\n",
       "      <th>9</th>\n",
       "      <td>74125</td>\n",
       "      <td>Joe</td>\n",
       "      <td>4.73</td>\n",
       "      <td>4.80</td>\n",
       "      <td>4.30</td>\n",
       "      <td>4.91</td>\n",
       "      <td>4.97</td>\n",
       "      <td>4.86</td>\n",
       "      <td>4.71</td>\n",
       "    </tr>\n",
       "  </tbody>\n",
       "</table>\n",
       "</div>"
      ],
      "text/plain": [
       "      id            host_name  review_scores_rating  review_scores_accuracy  \\\n",
       "0    177                  Joe                  4.80                    4.96   \n",
       "1    360  Jennifer & Giovanni                  4.99                    4.99   \n",
       "2    364                Jason                  4.85                    4.78   \n",
       "3    590                 Jill                  4.84                    4.76   \n",
       "4    592                 Jill                  4.85                    4.75   \n",
       "5    686            Alexandra                  4.77                    4.77   \n",
       "6   1940               Joanne                  4.93                    4.93   \n",
       "7  31503                 Rick                  4.89                    4.89   \n",
       "8  39405  Jennifer & Giovanni                  4.91                    4.88   \n",
       "9  74125                  Joe                  4.73                    4.80   \n",
       "\n",
       "   review_scores_cleanliness  review_scores_checkin  \\\n",
       "0                       4.86                   4.96   \n",
       "1                       4.96                   5.00   \n",
       "2                       4.81                   4.95   \n",
       "3                       4.56                   4.92   \n",
       "4                       4.55                   4.94   \n",
       "5                       4.81                   4.86   \n",
       "6                       4.93                   5.00   \n",
       "7                       5.00                   4.93   \n",
       "8                       4.93                   4.98   \n",
       "9                       4.30                   4.91   \n",
       "\n",
       "   review_scores_communication  review_scores_location  review_scores_value  \n",
       "0                         4.93                    4.83                 4.76  \n",
       "1                         5.00                    5.00                 4.91  \n",
       "2                         4.96                    4.65                 4.71  \n",
       "3                         4.95                    4.74                 4.84  \n",
       "4                         4.94                    4.80                 4.85  \n",
       "5                         4.92                    4.87                 4.83  \n",
       "6                         4.97                    4.92                 4.88  \n",
       "7                         4.99                    4.86                 4.89  \n",
       "8                         4.97                    4.84                 4.85  \n",
       "9                         4.97                    4.86                 4.71  "
      ]
     },
     "execution_count": 13,
     "metadata": {},
     "output_type": "execute_result"
    }
   ],
   "source": [
    "df_stars = host_filtered.drop(df_host.iloc[:, 1:2], axis = 1)\n",
    "df_stars.head(10)"
   ]
  },
  {
   "cell_type": "code",
   "execution_count": 14,
   "metadata": {},
   "outputs": [
    {
     "data": {
      "image/png": "[encoded data removed]",
      "text/plain": [
       "<Figure size 432x288 with 6 Axes>"
      ]
     },
     "metadata": {
      "needs_background": "light"
     },
     "output_type": "display_data"
    }
   ],
   "source": [
    "import matplotlib.pyplot as plt\n",
    "\n",
    "fig, ax = plt.subplots(2, 3)\n",
    "fig.tight_layout()\n",
    "\n",
    "ax[0, 0].hist(df_stars[\"review_scores_value\"]) #row=0, col=0\n",
    "ax[0, 0].set_title('Value')\n",
    "ax[1, 0].hist(df_stars[\"review_scores_checkin\"]) #row=1, col=0\n",
    "ax[1, 0].set_title('Check In')\n",
    "ax[0, 1].hist(df_stars[\"review_scores_cleanliness\"]) #row=0, col=1\n",
    "ax[0, 1].set_title('Cleanliness')\n",
    "ax[1, 1].hist(df_stars[\"review_scores_communication\"]) #row=1, col=1\n",
    "ax[1, 1].set_title('Communication')\n",
    "ax[1, 2].hist(df_stars[\"review_scores_location\"]) #row=1, col=2\n",
    "ax[1 ,2].set_title('Location')\n",
    "plt.show()"
   ]
  },
  {
   "cell_type": "code",
   "execution_count": 15,
   "metadata": {},
   "outputs": [
    {
     "data": {
      "text/html": [
       "<div>\n",
       "<style scoped>\n",
       "    .dataframe tbody tr th:only-of-type {\n",
       "        vertical-align: middle;\n",
       "    }\n",
       "\n",
       "    .dataframe tbody tr th {\n",
       "        vertical-align: top;\n",
       "    }\n",
       "\n",
       "    .dataframe thead th {\n",
       "        text-align: right;\n",
       "    }\n",
       "</style>\n",
       "<table border=\"1\" class=\"dataframe\">\n",
       "  <thead>\n",
       "    <tr style=\"text-align: right;\">\n",
       "      <th></th>\n",
       "      <th>id</th>\n",
       "      <th>listing_url</th>\n",
       "      <th>host_name</th>\n",
       "      <th>review_scores_rating</th>\n",
       "      <th>review_scores_accuracy</th>\n",
       "      <th>review_scores_cleanliness</th>\n",
       "      <th>review_scores_checkin</th>\n",
       "      <th>review_scores_communication</th>\n",
       "      <th>review_scores_location</th>\n",
       "      <th>review_scores_value</th>\n",
       "      <th>price</th>\n",
       "    </tr>\n",
       "  </thead>\n",
       "  <tbody>\n",
       "    <tr>\n",
       "      <th>0</th>\n",
       "      <td>177</td>\n",
       "      <td>https://www.airbnb.com/rooms/177</td>\n",
       "      <td>Joe</td>\n",
       "      <td>4.80</td>\n",
       "      <td>4.96</td>\n",
       "      <td>4.86</td>\n",
       "      <td>4.96</td>\n",
       "      <td>4.93</td>\n",
       "      <td>4.83</td>\n",
       "      <td>4.76</td>\n",
       "      <td>99.0</td>\n",
       "    </tr>\n",
       "    <tr>\n",
       "      <th>1</th>\n",
       "      <td>360</td>\n",
       "      <td>https://www.airbnb.com/rooms/360</td>\n",
       "      <td>Jennifer &amp; Giovanni</td>\n",
       "      <td>4.99</td>\n",
       "      <td>4.99</td>\n",
       "      <td>4.96</td>\n",
       "      <td>5.00</td>\n",
       "      <td>5.00</td>\n",
       "      <td>5.00</td>\n",
       "      <td>4.91</td>\n",
       "      <td>135.0</td>\n",
       "    </tr>\n",
       "    <tr>\n",
       "      <th>2</th>\n",
       "      <td>364</td>\n",
       "      <td>https://www.airbnb.com/rooms/364</td>\n",
       "      <td>Jason</td>\n",
       "      <td>4.85</td>\n",
       "      <td>4.78</td>\n",
       "      <td>4.81</td>\n",
       "      <td>4.95</td>\n",
       "      <td>4.96</td>\n",
       "      <td>4.65</td>\n",
       "      <td>4.71</td>\n",
       "      <td>179.0</td>\n",
       "    </tr>\n",
       "    <tr>\n",
       "      <th>3</th>\n",
       "      <td>590</td>\n",
       "      <td>https://www.airbnb.com/rooms/590</td>\n",
       "      <td>Jill</td>\n",
       "      <td>4.84</td>\n",
       "      <td>4.76</td>\n",
       "      <td>4.56</td>\n",
       "      <td>4.92</td>\n",
       "      <td>4.95</td>\n",
       "      <td>4.74</td>\n",
       "      <td>4.84</td>\n",
       "      <td>55.0</td>\n",
       "    </tr>\n",
       "    <tr>\n",
       "      <th>4</th>\n",
       "      <td>592</td>\n",
       "      <td>https://www.airbnb.com/rooms/592</td>\n",
       "      <td>Jill</td>\n",
       "      <td>4.85</td>\n",
       "      <td>4.75</td>\n",
       "      <td>4.55</td>\n",
       "      <td>4.94</td>\n",
       "      <td>4.94</td>\n",
       "      <td>4.80</td>\n",
       "      <td>4.85</td>\n",
       "      <td>52.0</td>\n",
       "    </tr>\n",
       "  </tbody>\n",
       "</table>\n",
       "</div>"
      ],
      "text/plain": [
       "    id                       listing_url            host_name  \\\n",
       "0  177  https://www.airbnb.com/rooms/177                  Joe   \n",
       "1  360  https://www.airbnb.com/rooms/360  Jennifer & Giovanni   \n",
       "2  364  https://www.airbnb.com/rooms/364                Jason   \n",
       "3  590  https://www.airbnb.com/rooms/590                 Jill   \n",
       "4  592  https://www.airbnb.com/rooms/592                 Jill   \n",
       "\n",
       "   review_scores_rating  review_scores_accuracy  review_scores_cleanliness  \\\n",
       "0                  4.80                    4.96                       4.86   \n",
       "1                  4.99                    4.99                       4.96   \n",
       "2                  4.85                    4.78                       4.81   \n",
       "3                  4.84                    4.76                       4.56   \n",
       "4                  4.85                    4.75                       4.55   \n",
       "\n",
       "   review_scores_checkin  review_scores_communication  review_scores_location  \\\n",
       "0                   4.96                         4.93                    4.83   \n",
       "1                   5.00                         5.00                    5.00   \n",
       "2                   4.95                         4.96                    4.65   \n",
       "3                   4.92                         4.95                    4.74   \n",
       "4                   4.94                         4.94                    4.80   \n",
       "\n",
       "   review_scores_value  price  \n",
       "0                 4.76   99.0  \n",
       "1                 4.91  135.0  \n",
       "2                 4.71  179.0  \n",
       "3                 4.84   55.0  \n",
       "4                 4.85   52.0  "
      ]
     },
     "execution_count": 15,
     "metadata": {},
     "output_type": "execute_result"
    }
   ],
   "source": [
    "#plot score rating by loc\n",
    "#if host has multiple listings, take average\n",
    "\n",
    "#appending price col to host_filtered\n",
    "price = df_host['price']\n",
    "\n",
    "host_filtered = host_filtered.join(price)\n",
    "host_filtered.head()\n"
   ]
  },
  {
   "cell_type": "code",
   "execution_count": 16,
   "metadata": {},
   "outputs": [
    {
     "data": {
      "text/html": [
       "<div>\n",
       "<style scoped>\n",
       "    .dataframe tbody tr th:only-of-type {\n",
       "        vertical-align: middle;\n",
       "    }\n",
       "\n",
       "    .dataframe tbody tr th {\n",
       "        vertical-align: top;\n",
       "    }\n",
       "\n",
       "    .dataframe thead th {\n",
       "        text-align: right;\n",
       "    }\n",
       "</style>\n",
       "<table border=\"1\" class=\"dataframe\">\n",
       "  <thead>\n",
       "    <tr style=\"text-align: right;\">\n",
       "      <th></th>\n",
       "      <th>id</th>\n",
       "      <th>date</th>\n",
       "      <th>reviewer_name</th>\n",
       "      <th>comments</th>\n",
       "      <th>listing_url</th>\n",
       "      <th>host_name</th>\n",
       "      <th>review_scores_rating</th>\n",
       "      <th>review_scores_value</th>\n",
       "      <th>price</th>\n",
       "    </tr>\n",
       "  </thead>\n",
       "  <tbody>\n",
       "    <tr>\n",
       "      <th>0</th>\n",
       "      <td>177</td>\n",
       "      <td>2016-09-04</td>\n",
       "      <td>Brenna</td>\n",
       "      <td>Great place to stay! Definitely a tiny home, b...</td>\n",
       "      <td>https://www.airbnb.com/rooms/177</td>\n",
       "      <td>Joe</td>\n",
       "      <td>4.8</td>\n",
       "      <td>4.76</td>\n",
       "      <td>99.0</td>\n",
       "    </tr>\n",
       "    <tr>\n",
       "      <th>1</th>\n",
       "      <td>177</td>\n",
       "      <td>2016-09-13</td>\n",
       "      <td>Rachael</td>\n",
       "      <td>Joe was very friendly and gave us all the info...</td>\n",
       "      <td>https://www.airbnb.com/rooms/177</td>\n",
       "      <td>Joe</td>\n",
       "      <td>4.8</td>\n",
       "      <td>4.76</td>\n",
       "      <td>99.0</td>\n",
       "    </tr>\n",
       "    <tr>\n",
       "      <th>2</th>\n",
       "      <td>177</td>\n",
       "      <td>2016-09-14</td>\n",
       "      <td>Haley</td>\n",
       "      <td>Amazing property and Joe was a great host! Eve...</td>\n",
       "      <td>https://www.airbnb.com/rooms/177</td>\n",
       "      <td>Joe</td>\n",
       "      <td>4.8</td>\n",
       "      <td>4.76</td>\n",
       "      <td>99.0</td>\n",
       "    </tr>\n",
       "    <tr>\n",
       "      <th>3</th>\n",
       "      <td>177</td>\n",
       "      <td>2016-09-19</td>\n",
       "      <td>Mike</td>\n",
       "      <td>Joe was a great host, the description of this ...</td>\n",
       "      <td>https://www.airbnb.com/rooms/177</td>\n",
       "      <td>Joe</td>\n",
       "      <td>4.8</td>\n",
       "      <td>4.76</td>\n",
       "      <td>99.0</td>\n",
       "    </tr>\n",
       "    <tr>\n",
       "      <th>4</th>\n",
       "      <td>177</td>\n",
       "      <td>2016-09-22</td>\n",
       "      <td>Carol</td>\n",
       "      <td>He welcomes us when we first arrived and gave ...</td>\n",
       "      <td>https://www.airbnb.com/rooms/177</td>\n",
       "      <td>Joe</td>\n",
       "      <td>4.8</td>\n",
       "      <td>4.76</td>\n",
       "      <td>99.0</td>\n",
       "    </tr>\n",
       "  </tbody>\n",
       "</table>\n",
       "</div>"
      ],
      "text/plain": [
       "    id        date reviewer_name  \\\n",
       "0  177  2016-09-04        Brenna   \n",
       "1  177  2016-09-13       Rachael   \n",
       "2  177  2016-09-14         Haley   \n",
       "3  177  2016-09-19          Mike   \n",
       "4  177  2016-09-22         Carol   \n",
       "\n",
       "                                            comments  \\\n",
       "0  Great place to stay! Definitely a tiny home, b...   \n",
       "1  Joe was very friendly and gave us all the info...   \n",
       "2  Amazing property and Joe was a great host! Eve...   \n",
       "3  Joe was a great host, the description of this ...   \n",
       "4  He welcomes us when we first arrived and gave ...   \n",
       "\n",
       "                        listing_url host_name  review_scores_rating  \\\n",
       "0  https://www.airbnb.com/rooms/177       Joe                   4.8   \n",
       "1  https://www.airbnb.com/rooms/177       Joe                   4.8   \n",
       "2  https://www.airbnb.com/rooms/177       Joe                   4.8   \n",
       "3  https://www.airbnb.com/rooms/177       Joe                   4.8   \n",
       "4  https://www.airbnb.com/rooms/177       Joe                   4.8   \n",
       "\n",
       "   review_scores_value  price  \n",
       "0                 4.76   99.0  \n",
       "1                 4.76   99.0  \n",
       "2                 4.76   99.0  \n",
       "3                 4.76   99.0  \n",
       "4                 4.76   99.0  "
      ]
     },
     "execution_count": 16,
     "metadata": {},
     "output_type": "execute_result"
    }
   ],
   "source": [
    "df_merged = pd.merge(reviews, host_filtered, on = 'id')\n",
    "#Removing review scores for this df\n",
    "df_merged.drop(df_merged.iloc[:, 7:12], axis = 1, inplace = True)\n",
    "df_merged.head()"
   ]
  },
  {
   "cell_type": "code",
   "execution_count": 17,
   "metadata": {},
   "outputs": [
    {
     "data": {
      "text/plain": [
       "134"
      ]
     },
     "execution_count": 17,
     "metadata": {},
     "output_type": "execute_result"
    }
   ],
   "source": [
    "#Check missing values\n",
    "df_merged.drop(['review_scores_value'], axis = 1, inplace = True)\n",
    "df_merged['comments'].isna().sum()"
   ]
  },
  {
   "cell_type": "code",
   "execution_count": 18,
   "metadata": {},
   "outputs": [],
   "source": [
    "import itertools\n",
    "import collections\n",
    "\n",
    "#convert text to lowercase\n",
    "def convert(lst): \n",
    "    return ([i for item in lst for i in item.lower().split()]) \n",
    "\n",
    "filtered_comments = convert(df_merged['comments'].fillna(\"\")) #Fill in missing reviews with blank\n"
   ]
  },
  {
   "cell_type": "code",
   "execution_count": 19,
   "metadata": {},
   "outputs": [
    {
     "data": {
      "text/html": [
       "<div>\n",
       "<style scoped>\n",
       "    .dataframe tbody tr th:only-of-type {\n",
       "        vertical-align: middle;\n",
       "    }\n",
       "\n",
       "    .dataframe tbody tr th {\n",
       "        vertical-align: top;\n",
       "    }\n",
       "\n",
       "    .dataframe thead th {\n",
       "        text-align: right;\n",
       "    }\n",
       "</style>\n",
       "<table border=\"1\" class=\"dataframe\">\n",
       "  <thead>\n",
       "    <tr style=\"text-align: right;\">\n",
       "      <th></th>\n",
       "      <th>words</th>\n",
       "      <th>count</th>\n",
       "    </tr>\n",
       "  </thead>\n",
       "  <tbody>\n",
       "    <tr>\n",
       "      <th>0</th>\n",
       "      <td>and</td>\n",
       "      <td>427974</td>\n",
       "    </tr>\n",
       "    <tr>\n",
       "      <th>1</th>\n",
       "      <td>the</td>\n",
       "      <td>368712</td>\n",
       "    </tr>\n",
       "    <tr>\n",
       "      <th>2</th>\n",
       "      <td>to</td>\n",
       "      <td>267911</td>\n",
       "    </tr>\n",
       "    <tr>\n",
       "      <th>3</th>\n",
       "      <td>a</td>\n",
       "      <td>256889</td>\n",
       "    </tr>\n",
       "    <tr>\n",
       "      <th>4</th>\n",
       "      <td>was</td>\n",
       "      <td>231467</td>\n",
       "    </tr>\n",
       "  </tbody>\n",
       "</table>\n",
       "</div>"
      ],
      "text/plain": [
       "  words   count\n",
       "0   and  427974\n",
       "1   the  368712\n",
       "2    to  267911\n",
       "3     a  256889\n",
       "4   was  231467"
      ]
     },
     "execution_count": 19,
     "metadata": {},
     "output_type": "execute_result"
    }
   ],
   "source": [
    "count_word = collections.Counter(filtered_comments) #Count word frequency\n",
    "\n",
    "clean_word_count = pd.DataFrame(count_word.most_common(5),\n",
    "                             columns=['words', 'count'])\n",
    "\n",
    "clean_word_count.head()\n"
   ]
  },
  {
   "cell_type": "code",
   "execution_count": 20,
   "metadata": {},
   "outputs": [
    {
     "name": "stderr",
     "output_type": "stream",
     "text": [
      "[nltk_data] Downloading package stopwords to /Users/yobae/nltk_data...\n",
      "[nltk_data]   Package stopwords is already up-to-date!\n"
     ]
    },
    {
     "data": {
      "text/plain": [
       "True"
      ]
     },
     "execution_count": 20,
     "metadata": {},
     "output_type": "execute_result"
    }
   ],
   "source": [
    "import nltk\n",
    "from nltk.corpus import stopwords\n",
    "nltk.download('stopwords')"
   ]
  },
  {
   "cell_type": "code",
   "execution_count": 21,
   "metadata": {},
   "outputs": [
    {
     "data": {
      "text/plain": [
       "['him', \"aren't\", 'o', 'yours', 'both', 'few', \"isn't\", 'hasn', 'who', 'other']"
      ]
     },
     "execution_count": 21,
     "metadata": {},
     "output_type": "execute_result"
    }
   ],
   "source": [
    "stop_words = set(stopwords.words(['english']))\n",
    "#View sample set of stopwords\n",
    "list(stop_words)[0:10]"
   ]
  },
  {
   "cell_type": "code",
   "execution_count": 22,
   "metadata": {},
   "outputs": [],
   "source": [
    "words_review_cleaned = [word for word in filtered_comments if word not in stop_words]\n",
    "words_review_count = collections.Counter(words_review_cleaned)\n",
    "\n",
    "word_review_count_df = pd.DataFrame(words_review_count.most_common(15),\n",
    "                             columns=['words', 'count'])"
   ]
  },
  {
   "cell_type": "code",
   "execution_count": 23,
   "metadata": {},
   "outputs": [],
   "source": [
    "import matplotlib.pyplot as plt"
   ]
  },
  {
   "cell_type": "code",
   "execution_count": 24,
   "metadata": {},
   "outputs": [
    {
     "data": {
      "image/png": "[encoded data removed]",
      "text/plain": [
       "<Figure size 576x576 with 1 Axes>"
      ]
     },
     "metadata": {
      "needs_background": "light"
     },
     "output_type": "display_data"
    }
   ],
   "source": [
    "fig, ax = plt.subplots(figsize=(8, 8))\n",
    "\n",
    "# Plot horizontal bar graph\n",
    "word_review_count_df.sort_values(by='count').plot.barh(x='words',\n",
    "                      y='count',\n",
    "                      ax=ax,\n",
    "                      color=\"purple\")\n",
    "\n",
    "ax.set_title(\"Most Frequent Words\")\n",
    "\n",
    "plt.show()"
   ]
  },
  {
   "cell_type": "code",
   "execution_count": 25,
   "metadata": {},
   "outputs": [
    {
     "name": "stdout",
     "output_type": "stream",
     "text": [
      "<class 'pandas.core.frame.DataFrame'>\n",
      "Int64Index: 215316 entries, 0 to 215315\n",
      "Data columns (total 8 columns):\n",
      " #   Column                Non-Null Count   Dtype  \n",
      "---  ------                --------------   -----  \n",
      " 0   id                    215316 non-null  int64  \n",
      " 1   date                  215316 non-null  object \n",
      " 2   reviewer_name         215316 non-null  object \n",
      " 3   comments              215182 non-null  object \n",
      " 4   listing_url           215316 non-null  object \n",
      " 5   host_name             215316 non-null  object \n",
      " 6   review_scores_rating  214443 non-null  float64\n",
      " 7   price                 215316 non-null  float64\n",
      "dtypes: float64(2), int64(1), object(5)\n",
      "memory usage: 14.8+ MB\n"
     ]
    }
   ],
   "source": [
    "df_merged.info()"
   ]
  },
  {
   "cell_type": "code",
   "execution_count": 26,
   "metadata": {},
   "outputs": [
    {
     "data": {
      "text/plain": [
       "(215316, 8)"
      ]
     },
     "execution_count": 26,
     "metadata": {},
     "output_type": "execute_result"
    }
   ],
   "source": [
    "df_merged.shape\n",
    "# df_sample_set = df_merged.iloc[0:100000, :]\n",
    "# df_sample_set.head()"
   ]
  },
  {
   "cell_type": "code",
   "execution_count": 27,
   "metadata": {},
   "outputs": [
    {
     "name": "stderr",
     "output_type": "stream",
     "text": [
      "[nltk_data] Downloading package vader_lexicon to\n",
      "[nltk_data]     /Users/yobae/nltk_data...\n",
      "[nltk_data]   Package vader_lexicon is already up-to-date!\n"
     ]
    },
    {
     "data": {
      "text/plain": [
       "True"
      ]
     },
     "execution_count": 27,
     "metadata": {},
     "output_type": "execute_result"
    }
   ],
   "source": [
    "from nltk.sentiment.vader import SentimentIntensityAnalyzer\n",
    "nltk.download('vader_lexicon')"
   ]
  },
  {
   "cell_type": "code",
   "execution_count": 28,
   "metadata": {},
   "outputs": [],
   "source": [
    "#Identifying PScores with builtin Vader SIA\n",
    "SIA = SentimentIntensityAnalyzer()"
   ]
  },
  {
   "cell_type": "markdown",
   "metadata": {},
   "source": [
    "positive sentiment: score >= 0.05\n",
    "neutral sentiment: score > -0.05 and score < 0.05\n",
    "negative sentiment: score <= -0.05"
   ]
  },
  {
   "cell_type": "code",
   "execution_count": 22,
   "metadata": {},
   "outputs": [
    {
     "name": "stdout",
     "output_type": "stream",
     "text": [
      "<class 'pandas.core.frame.DataFrame'>\n",
      "Int64Index: 100000 entries, 0 to 99999\n",
      "Data columns (total 8 columns):\n",
      " #   Column                Non-Null Count   Dtype  \n",
      "---  ------                --------------   -----  \n",
      " 0   id                    100000 non-null  int64  \n",
      " 1   date                  100000 non-null  object \n",
      " 2   reviewer_name         100000 non-null  object \n",
      " 3   comments              99954 non-null   object \n",
      " 4   listing_url           100000 non-null  object \n",
      " 5   host_name             100000 non-null  object \n",
      " 6   review_scores_rating  99996 non-null   float64\n",
      " 7   price                 100000 non-null  float64\n",
      "dtypes: float64(2), int64(1), object(5)\n",
      "memory usage: 6.9+ MB\n"
     ]
    }
   ],
   "source": [
    "df_sample_set.info()"
   ]
  },
  {
   "cell_type": "code",
   "execution_count": 29,
   "metadata": {},
   "outputs": [],
   "source": [
    "# df_sample_set.drop(['listing_url', 'host_name', 'price'], axis = 1, inplace = True)\n",
    "df_merged.drop(['listing_url', 'host_name'], axis = 1, inplace = True)"
   ]
  },
  {
   "cell_type": "code",
   "execution_count": 30,
   "metadata": {},
   "outputs": [],
   "source": [
    "df_merged['comments'] = df_merged[\"comments\"].apply(str)"
   ]
  },
  {
   "cell_type": "code",
   "execution_count": 31,
   "metadata": {},
   "outputs": [
    {
     "name": "stdout",
     "output_type": "stream",
     "text": [
      "<class 'pandas.core.frame.DataFrame'>\n",
      "Int64Index: 215316 entries, 0 to 215315\n",
      "Data columns (total 6 columns):\n",
      " #   Column                Non-Null Count   Dtype  \n",
      "---  ------                --------------   -----  \n",
      " 0   id                    215316 non-null  int64  \n",
      " 1   date                  215316 non-null  object \n",
      " 2   reviewer_name         215316 non-null  object \n",
      " 3   comments              215316 non-null  object \n",
      " 4   review_scores_rating  214443 non-null  float64\n",
      " 5   price                 215316 non-null  float64\n",
      "dtypes: float64(2), int64(1), object(3)\n",
      "memory usage: 11.5+ MB\n"
     ]
    }
   ],
   "source": [
    "# df_sample_set.fillna(0, inplace = True)\n",
    "df_merged.info()"
   ]
  },
  {
   "cell_type": "code",
   "execution_count": 32,
   "metadata": {},
   "outputs": [],
   "source": [
    "from nltk.stem import PorterStemmer, WordNetLemmatizer"
   ]
  },
  {
   "cell_type": "markdown",
   "metadata": {},
   "source": [
    "More data clenaing\n",
    "Extracting root words and removing punctuation etc."
   ]
  },
  {
   "cell_type": "code",
   "execution_count": 33,
   "metadata": {},
   "outputs": [],
   "source": [
    "#Grabbing root words\n",
    "p_stemmer = PorterStemmer()\n",
    "def stem(sentence):\n",
    "    tokens = sentence.split()\n",
    "    stemmed_tokens = [p_stemmer.stem(token) for token in tokens]\n",
    "    return ' '.join(stemmed_tokens)\n",
    "\n",
    "# df_sample_set = df_sample_set[df_sample_set['comments'].notnull()]\n",
    "df_merged = df_merged[df_merged['comments'].notnull()]\n",
    "df_merged['comments'] = df_merged['comments'].apply(stem)"
   ]
  },
  {
   "cell_type": "code",
   "execution_count": 34,
   "metadata": {},
   "outputs": [],
   "source": [
    "pd.options.mode.chained_assignment = None\n",
    "stopwords_list = set(stopwords.words(\"english\"))\n",
    "#List of punctuation to remove\n",
    "#Handle html tags?\n",
    "punctuations = \"\"\"!()-![]{};:,+'\"\\,<>./?@#$%^&*_~Â\"\"\" \n",
    "\n",
    "def reviewParse(comments):\n",
    "    #Split the review into words\n",
    "    splitReview = comments.split()\n",
    "    #Takes punctuation out\n",
    "    parsedReview = \" \".join([word.translate(str.maketrans('', '', punctuations)) + \" \" for word in splitReview])\n",
    "    return parsedReview\n",
    "  \n",
    "def clean_review(comments):\n",
    "    #Makes all words lowercase\n",
    "    clean_words = []\n",
    "    splitReview = comments.split()\n",
    "    for w in splitReview:\n",
    "        if w.isalpha() and w not in stopwords_list:\n",
    "            clean_words.append(w.lower())\n",
    "    #Joins split words back into sentence\n",
    "    clean_review = \" \".join(clean_words)\n",
    "    return clean_review\n",
    "\n",
    "df_merged = df_merged[df_merged['comments'].notnull()]\n",
    "df_merged['comments'] = df_merged['comments'].apply(reviewParse).apply(clean_review)"
   ]
  },
  {
   "cell_type": "code",
   "execution_count": 35,
   "metadata": {},
   "outputs": [
    {
     "name": "stdout",
     "output_type": "stream",
     "text": [
      "<class 'pandas.core.frame.DataFrame'>\n",
      "Int64Index: 215316 entries, 0 to 215315\n",
      "Data columns (total 6 columns):\n",
      " #   Column                Non-Null Count   Dtype  \n",
      "---  ------                --------------   -----  \n",
      " 0   id                    215316 non-null  int64  \n",
      " 1   date                  215316 non-null  object \n",
      " 2   reviewer_name         215316 non-null  object \n",
      " 3   comments              215316 non-null  object \n",
      " 4   review_scores_rating  214443 non-null  float64\n",
      " 5   price                 215316 non-null  float64\n",
      "dtypes: float64(2), int64(1), object(3)\n",
      "memory usage: 11.5+ MB\n"
     ]
    }
   ],
   "source": [
    "#This does not properly rounds all values, no 1 or 2 ratings\n",
    "#Need to find way to properly round values down beforehand\n",
    "# df_sample_set['review_scores_rating'] = df_sample_set['review_scores_rating'].astype(np.int64)\n",
    "# df_sample_set.info()\n",
    "df_merged.info()"
   ]
  },
  {
   "cell_type": "code",
   "execution_count": 35,
   "metadata": {},
   "outputs": [],
   "source": [
    "# # df_sample_set['Sentiment'] = df_sample_set['review_scores_rating'].round(decimals = 2).apply(sentiment)\n",
    "# # df_sample_set.loc('comments')\n",
    "# df_test = pd.DataFrame()\n",
    "# # df_test['sentiment'] = df_test['round_review'].apply(sentiment)\n",
    "# # print(type(df_clean['review_scores_rating']))\n",
    "# df_test.info()\n",
    "# # df_test.head()"
   ]
  },
  {
   "cell_type": "code",
   "execution_count": 36,
   "metadata": {},
   "outputs": [],
   "source": [
    "docs = list(df_merged['comments'])[:200000]"
   ]
  },
  {
   "cell_type": "markdown",
   "metadata": {},
   "source": [
    "- tfidf(t, d, D) = tf(t, d) * idf(t, D)\n",
    "- t = term\n",
    "- d = document\n",
    "- D = set of documents\n",
    "- TF-IDF provides a weight\n",
    "- This weight is a statistical measure used to evaluate how important \n",
    "a word is to a document in a collection or corpus. \n",
    "- The importance increases proportionally to the number of times a \n",
    "word appears in the document but is offset by the frequency of \n",
    "the word in the corpus (data-set)."
   ]
  },
  {
   "cell_type": "code",
   "execution_count": 37,
   "metadata": {},
   "outputs": [
    {
     "name": "stdout",
     "output_type": "stream",
     "text": [
      "great place stay definit tini home still cozi comfortable pretti fun tri coupl night two us joe wa help friendly destin alway less drive lot park nearby super fun stay\n",
      "compound: 0.9744, neg: 0.0, neu: 0.491, pos: 0.509, \n",
      "joe wa veri friendli gave us inform needed hous wa exactli describ site wa fun thought provok experienc ecofriendli space plan stay next time wer denver\n",
      "compound: 0.5106, neg: 0.0, neu: 0.883, pos: 0.117, \n",
      "amaz properti joe wa great host even offer walk dog definit back\n",
      "compound: 0.6249, neg: 0.0, neu: 0.728, pos: 0.272, \n",
      "joe wa great host descript thi tini hous wa spot wa definit small space well laid veri convenient would recommend stay\n",
      "compound: 0.8271, neg: 0.0, neu: 0.674, pos: 0.326, \n",
      "welcom us first arriv gave great recommend dinnerbreakfast\n",
      "compound: 0.765, neg: 0.0, neu: 0.476, pos: 0.524, \n"
     ]
    }
   ],
   "source": [
    "#Running SIA on cleaned dataset\n",
    "SIA = SentimentIntensityAnalyzer()\n",
    "for sentence in df_merged['comments'].values[:5]:\n",
    "    print(sentence)\n",
    "    ss = SIA.polarity_scores(sentence)\n",
    "    for k in sorted(ss):\n",
    "        print('{0}: {1}, '.format(k, ss[k]), end='')\n",
    "    print()"
   ]
  },
  {
   "cell_type": "code",
   "execution_count": 38,
   "metadata": {},
   "outputs": [
    {
     "name": "stdout",
     "output_type": "stream",
     "text": [
      "0.03934857745018719\n"
     ]
    }
   ],
   "source": [
    "#Correlation between original stars rating and price is low\n",
    "corr_1 = df_host[\"review_scores_rating\"]\n",
    "corr_2 = df_host[\"price\"]\n",
    "correlation = corr_2.corr(corr_1)\n",
    "print(correlation)"
   ]
  },
  {
   "cell_type": "code",
   "execution_count": 39,
   "metadata": {},
   "outputs": [],
   "source": [
    "from sklearn.feature_extraction.text import TfidfVectorizer \n",
    " \n",
    "#Settings for count vectorizer\n",
    "tfidf_vectorizer = TfidfVectorizer(use_idf=True, max_features = 100000) \n",
    " \n",
    "#Send all docs here \n",
    "tfidf_vectorizer_vectors = tfidf_vectorizer.fit_transform(docs)"
   ]
  },
  {
   "cell_type": "code",
   "execution_count": 40,
   "metadata": {},
   "outputs": [],
   "source": [
    "import plotly.graph_objs as go"
   ]
  },
  {
   "cell_type": "code",
   "execution_count": 41,
   "metadata": {},
   "outputs": [
    {
     "data": {
      "application/vnd.plotly.v1+json": {
       "config": {
        "plotlyServerURL": "https://plot.ly"
       },
       "data": [
        {
         "type": "bar",
         "x": [
          4.94,
          4.95,
          4.96,
          4.93,
          4.97,
          5,
          4.91,
          4.88,
          4.89,
          4.9,
          4.92,
          4.99,
          4.87,
          4.98,
          4.86,
          4.84,
          4.79,
          4.83,
          4.85,
          4.82,
          4.78,
          4.81,
          4.7,
          4.72,
          4.8,
          4.77,
          4.74,
          4.73,
          4.69,
          4.63,
          4.68,
          4.76,
          4.75,
          4.71,
          4.57,
          4.67,
          4.64,
          4.61,
          4.56,
          4.62,
          4.54,
          4.58,
          4.5,
          4.6,
          4.65,
          4.47,
          4.53,
          4.59,
          4.66,
          4.39,
          4.19,
          4,
          4.48,
          4.55,
          4.33,
          4.46,
          4.29,
          4.43,
          4.25,
          4.27,
          4.52,
          4.45,
          4.49,
          4.23,
          4.15,
          4.24,
          4.3,
          4.42,
          4.4,
          4.2,
          4.44,
          3.67,
          4.38,
          3.93,
          3.33,
          3.78,
          3.5,
          3,
          4.17,
          4.14,
          3.6,
          1,
          3.8,
          0,
          2,
          3.75,
          2.5
         ],
         "y": [
          14250,
          12868,
          12426,
          12244,
          12111,
          12039,
          11451,
          9312,
          7894,
          7881,
          7546,
          7209,
          6429,
          6173,
          5998,
          5705,
          5426,
          5025,
          4942,
          4593,
          4289,
          4180,
          2736,
          2666,
          2595,
          2377,
          2282,
          1785,
          1781,
          1737,
          1649,
          1530,
          1509,
          1366,
          1165,
          1028,
          901,
          763,
          639,
          586,
          581,
          494,
          454,
          454,
          440,
          392,
          387,
          334,
          204,
          170,
          165,
          152,
          134,
          106,
          106,
          85,
          77,
          61,
          52,
          49,
          48,
          45,
          41,
          36,
          28,
          26,
          25,
          21,
          20,
          19,
          17,
          17,
          16,
          14,
          13,
          10,
          9,
          8,
          8,
          7,
          7,
          6,
          5,
          4,
          4,
          4,
          2
         ]
        }
       ],
       "layout": {
        "template": {
         "data": {
          "bar": [
           {
            "error_x": {
             "color": "#2a3f5f"
            },
            "error_y": {
             "color": "#2a3f5f"
            },
            "marker": {
             "line": {
              "color": "#E5ECF6",
              "width": 0.5
             },
             "pattern": {
              "fillmode": "overlay",
              "size": 10,
              "solidity": 0.2
             }
            },
            "type": "bar"
           }
          ],
          "barpolar": [
           {
            "marker": {
             "line": {
              "color": "#E5ECF6",
              "width": 0.5
             },
             "pattern": {
              "fillmode": "overlay",
              "size": 10,
              "solidity": 0.2
             }
            },
            "type": "barpolar"
           }
          ],
          "carpet": [
           {
            "aaxis": {
             "endlinecolor": "#2a3f5f",
             "gridcolor": "white",
             "linecolor": "white",
             "minorgridcolor": "white",
             "startlinecolor": "#2a3f5f"
            },
            "baxis": {
             "endlinecolor": "#2a3f5f",
             "gridcolor": "white",
             "linecolor": "white",
             "minorgridcolor": "white",
             "startlinecolor": "#2a3f5f"
            },
            "type": "carpet"
           }
          ],
          "choropleth": [
           {
            "colorbar": {
             "outlinewidth": 0,
             "ticks": ""
            },
            "type": "choropleth"
           }
          ],
          "contour": [
           {
            "colorbar": {
             "outlinewidth": 0,
             "ticks": ""
            },
            "colorscale": [
             [
              0,
              "#0d0887"
             ],
             [
              0.1111111111111111,
              "#46039f"
             ],
             [
              0.2222222222222222,
              "#7201a8"
             ],
             [
              0.3333333333333333,
              "#9c179e"
             ],
             [
              0.4444444444444444,
              "#bd3786"
             ],
             [
              0.5555555555555556,
              "#d8576b"
             ],
             [
              0.6666666666666666,
              "#ed7953"
             ],
             [
              0.7777777777777778,
              "#fb9f3a"
             ],
             [
              0.8888888888888888,
              "#fdca26"
             ],
             [
              1,
              "#f0f921"
             ]
            ],
            "type": "contour"
           }
          ],
          "contourcarpet": [
           {
            "colorbar": {
             "outlinewidth": 0,
             "ticks": ""
            },
            "type": "contourcarpet"
           }
          ],
          "heatmap": [
           {
            "colorbar": {
             "outlinewidth": 0,
             "ticks": ""
            },
            "colorscale": [
             [
              0,
              "#0d0887"
             ],
             [
              0.1111111111111111,
              "#46039f"
             ],
             [
              0.2222222222222222,
              "#7201a8"
             ],
             [
              0.3333333333333333,
              "#9c179e"
             ],
             [
              0.4444444444444444,
              "#bd3786"
             ],
             [
              0.5555555555555556,
              "#d8576b"
             ],
             [
              0.6666666666666666,
              "#ed7953"
             ],
             [
              0.7777777777777778,
              "#fb9f3a"
             ],
             [
              0.8888888888888888,
              "#fdca26"
             ],
             [
              1,
              "#f0f921"
             ]
            ],
            "type": "heatmap"
           }
          ],
          "heatmapgl": [
           {
            "colorbar": {
             "outlinewidth": 0,
             "ticks": ""
            },
            "colorscale": [
             [
              0,
              "#0d0887"
             ],
             [
              0.1111111111111111,
              "#46039f"
             ],
             [
              0.2222222222222222,
              "#7201a8"
             ],
             [
              0.3333333333333333,
              "#9c179e"
             ],
             [
              0.4444444444444444,
              "#bd3786"
             ],
             [
              0.5555555555555556,
              "#d8576b"
             ],
             [
              0.6666666666666666,
              "#ed7953"
             ],
             [
              0.7777777777777778,
              "#fb9f3a"
             ],
             [
              0.8888888888888888,
              "#fdca26"
             ],
             [
              1,
              "#f0f921"
             ]
            ],
            "type": "heatmapgl"
           }
          ],
          "histogram": [
           {
            "marker": {
             "pattern": {
              "fillmode": "overlay",
              "size": 10,
              "solidity": 0.2
             }
            },
            "type": "histogram"
           }
          ],
          "histogram2d": [
           {
            "colorbar": {
             "outlinewidth": 0,
             "ticks": ""
            },
            "colorscale": [
             [
              0,
              "#0d0887"
             ],
             [
              0.1111111111111111,
              "#46039f"
             ],
             [
              0.2222222222222222,
              "#7201a8"
             ],
             [
              0.3333333333333333,
              "#9c179e"
             ],
             [
              0.4444444444444444,
              "#bd3786"
             ],
             [
              0.5555555555555556,
              "#d8576b"
             ],
             [
              0.6666666666666666,
              "#ed7953"
             ],
             [
              0.7777777777777778,
              "#fb9f3a"
             ],
             [
              0.8888888888888888,
              "#fdca26"
             ],
             [
              1,
              "#f0f921"
             ]
            ],
            "type": "histogram2d"
           }
          ],
          "histogram2dcontour": [
           {
            "colorbar": {
             "outlinewidth": 0,
             "ticks": ""
            },
            "colorscale": [
             [
              0,
              "#0d0887"
             ],
             [
              0.1111111111111111,
              "#46039f"
             ],
             [
              0.2222222222222222,
              "#7201a8"
             ],
             [
              0.3333333333333333,
              "#9c179e"
             ],
             [
              0.4444444444444444,
              "#bd3786"
             ],
             [
              0.5555555555555556,
              "#d8576b"
             ],
             [
              0.6666666666666666,
              "#ed7953"
             ],
             [
              0.7777777777777778,
              "#fb9f3a"
             ],
             [
              0.8888888888888888,
              "#fdca26"
             ],
             [
              1,
              "#f0f921"
             ]
            ],
            "type": "histogram2dcontour"
           }
          ],
          "mesh3d": [
           {
            "colorbar": {
             "outlinewidth": 0,
             "ticks": ""
            },
            "type": "mesh3d"
           }
          ],
          "parcoords": [
           {
            "line": {
             "colorbar": {
              "outlinewidth": 0,
              "ticks": ""
             }
            },
            "type": "parcoords"
           }
          ],
          "pie": [
           {
            "automargin": true,
            "type": "pie"
           }
          ],
          "scatter": [
           {
            "marker": {
             "colorbar": {
              "outlinewidth": 0,
              "ticks": ""
             }
            },
            "type": "scatter"
           }
          ],
          "scatter3d": [
           {
            "line": {
             "colorbar": {
              "outlinewidth": 0,
              "ticks": ""
             }
            },
            "marker": {
             "colorbar": {
              "outlinewidth": 0,
              "ticks": ""
             }
            },
            "type": "scatter3d"
           }
          ],
          "scattercarpet": [
           {
            "marker": {
             "colorbar": {
              "outlinewidth": 0,
              "ticks": ""
             }
            },
            "type": "scattercarpet"
           }
          ],
          "scattergeo": [
           {
            "marker": {
             "colorbar": {
              "outlinewidth": 0,
              "ticks": ""
             }
            },
            "type": "scattergeo"
           }
          ],
          "scattergl": [
           {
            "marker": {
             "colorbar": {
              "outlinewidth": 0,
              "ticks": ""
             }
            },
            "type": "scattergl"
           }
          ],
          "scattermapbox": [
           {
            "marker": {
             "colorbar": {
              "outlinewidth": 0,
              "ticks": ""
             }
            },
            "type": "scattermapbox"
           }
          ],
          "scatterpolar": [
           {
            "marker": {
             "colorbar": {
              "outlinewidth": 0,
              "ticks": ""
             }
            },
            "type": "scatterpolar"
           }
          ],
          "scatterpolargl": [
           {
            "marker": {
             "colorbar": {
              "outlinewidth": 0,
              "ticks": ""
             }
            },
            "type": "scatterpolargl"
           }
          ],
          "scatterternary": [
           {
            "marker": {
             "colorbar": {
              "outlinewidth": 0,
              "ticks": ""
             }
            },
            "type": "scatterternary"
           }
          ],
          "surface": [
           {
            "colorbar": {
             "outlinewidth": 0,
             "ticks": ""
            },
            "colorscale": [
             [
              0,
              "#0d0887"
             ],
             [
              0.1111111111111111,
              "#46039f"
             ],
             [
              0.2222222222222222,
              "#7201a8"
             ],
             [
              0.3333333333333333,
              "#9c179e"
             ],
             [
              0.4444444444444444,
              "#bd3786"
             ],
             [
              0.5555555555555556,
              "#d8576b"
             ],
             [
              0.6666666666666666,
              "#ed7953"
             ],
             [
              0.7777777777777778,
              "#fb9f3a"
             ],
             [
              0.8888888888888888,
              "#fdca26"
             ],
             [
              1,
              "#f0f921"
             ]
            ],
            "type": "surface"
           }
          ],
          "table": [
           {
            "cells": {
             "fill": {
              "color": "#EBF0F8"
             },
             "line": {
              "color": "white"
             }
            },
            "header": {
             "fill": {
              "color": "#C8D4E3"
             },
             "line": {
              "color": "white"
             }
            },
            "type": "table"
           }
          ]
         },
         "layout": {
          "annotationdefaults": {
           "arrowcolor": "#2a3f5f",
           "arrowhead": 0,
           "arrowwidth": 1
          },
          "autotypenumbers": "strict",
          "coloraxis": {
           "colorbar": {
            "outlinewidth": 0,
            "ticks": ""
           }
          },
          "colorscale": {
           "diverging": [
            [
             0,
             "#8e0152"
            ],
            [
             0.1,
             "#c51b7d"
            ],
            [
             0.2,
             "#de77ae"
            ],
            [
             0.3,
             "#f1b6da"
            ],
            [
             0.4,
             "#fde0ef"
            ],
            [
             0.5,
             "#f7f7f7"
            ],
            [
             0.6,
             "#e6f5d0"
            ],
            [
             0.7,
             "#b8e186"
            ],
            [
             0.8,
             "#7fbc41"
            ],
            [
             0.9,
             "#4d9221"
            ],
            [
             1,
             "#276419"
            ]
           ],
           "sequential": [
            [
             0,
             "#0d0887"
            ],
            [
             0.1111111111111111,
             "#46039f"
            ],
            [
             0.2222222222222222,
             "#7201a8"
            ],
            [
             0.3333333333333333,
             "#9c179e"
            ],
            [
             0.4444444444444444,
             "#bd3786"
            ],
            [
             0.5555555555555556,
             "#d8576b"
            ],
            [
             0.6666666666666666,
             "#ed7953"
            ],
            [
             0.7777777777777778,
             "#fb9f3a"
            ],
            [
             0.8888888888888888,
             "#fdca26"
            ],
            [
             1,
             "#f0f921"
            ]
           ],
           "sequentialminus": [
            [
             0,
             "#0d0887"
            ],
            [
             0.1111111111111111,
             "#46039f"
            ],
            [
             0.2222222222222222,
             "#7201a8"
            ],
            [
             0.3333333333333333,
             "#9c179e"
            ],
            [
             0.4444444444444444,
             "#bd3786"
            ],
            [
             0.5555555555555556,
             "#d8576b"
            ],
            [
             0.6666666666666666,
             "#ed7953"
            ],
            [
             0.7777777777777778,
             "#fb9f3a"
            ],
            [
             0.8888888888888888,
             "#fdca26"
            ],
            [
             1,
             "#f0f921"
            ]
           ]
          },
          "colorway": [
           "#636efa",
           "#EF553B",
           "#00cc96",
           "#ab63fa",
           "#FFA15A",
           "#19d3f3",
           "#FF6692",
           "#B6E880",
           "#FF97FF",
           "#FECB52"
          ],
          "font": {
           "color": "#2a3f5f"
          },
          "geo": {
           "bgcolor": "white",
           "lakecolor": "white",
           "landcolor": "#E5ECF6",
           "showlakes": true,
           "showland": true,
           "subunitcolor": "white"
          },
          "hoverlabel": {
           "align": "left"
          },
          "hovermode": "closest",
          "mapbox": {
           "style": "light"
          },
          "paper_bgcolor": "white",
          "plot_bgcolor": "#E5ECF6",
          "polar": {
           "angularaxis": {
            "gridcolor": "white",
            "linecolor": "white",
            "ticks": ""
           },
           "bgcolor": "#E5ECF6",
           "radialaxis": {
            "gridcolor": "white",
            "linecolor": "white",
            "ticks": ""
           }
          },
          "scene": {
           "xaxis": {
            "backgroundcolor": "#E5ECF6",
            "gridcolor": "white",
            "gridwidth": 2,
            "linecolor": "white",
            "showbackground": true,
            "ticks": "",
            "zerolinecolor": "white"
           },
           "yaxis": {
            "backgroundcolor": "#E5ECF6",
            "gridcolor": "white",
            "gridwidth": 2,
            "linecolor": "white",
            "showbackground": true,
            "ticks": "",
            "zerolinecolor": "white"
           },
           "zaxis": {
            "backgroundcolor": "#E5ECF6",
            "gridcolor": "white",
            "gridwidth": 2,
            "linecolor": "white",
            "showbackground": true,
            "ticks": "",
            "zerolinecolor": "white"
           }
          },
          "shapedefaults": {
           "line": {
            "color": "#2a3f5f"
           }
          },
          "ternary": {
           "aaxis": {
            "gridcolor": "white",
            "linecolor": "white",
            "ticks": ""
           },
           "baxis": {
            "gridcolor": "white",
            "linecolor": "white",
            "ticks": ""
           },
           "bgcolor": "#E5ECF6",
           "caxis": {
            "gridcolor": "white",
            "linecolor": "white",
            "ticks": ""
           }
          },
          "title": {
           "x": 0.05
          },
          "xaxis": {
           "automargin": true,
           "gridcolor": "white",
           "linecolor": "white",
           "ticks": "",
           "title": {
            "standoff": 15
           },
           "zerolinecolor": "white",
           "zerolinewidth": 2
          },
          "yaxis": {
           "automargin": true,
           "gridcolor": "white",
           "linecolor": "white",
           "ticks": "",
           "title": {
            "standoff": 15
           },
           "zerolinecolor": "white",
           "zerolinewidth": 2
          }
         }
        },
        "title": {
         "text": "Values in each Sentiment"
        },
        "xaxis": {
         "title": {
          "text": "Sentiment"
         }
        },
        "yaxis": {
         "title": {
          "text": "Values"
         }
        }
       }
      }
     },
     "metadata": {},
     "output_type": "display_data"
    }
   ],
   "source": [
    "fig = go.Figure([go.Bar(x = df_merged.review_scores_rating.value_counts().index, y = df_merged.review_scores_rating.value_counts().tolist())])\n",
    "fig.update_layout(\n",
    "    title=\"Values in each Sentiment\",\n",
    "    xaxis_title = \"Sentiment\",\n",
    "    yaxis_title = \"Values\")\n",
    "fig.show()"
   ]
  },
  {
   "cell_type": "code",
   "execution_count": 4,
   "metadata": {},
   "outputs": [
    {
     "ename": "NameError",
     "evalue": "name 'df_merged' is not defined",
     "output_type": "error",
     "traceback": [
      "\u001b[0;31m---------------------------------------------------------------------------\u001b[0m",
      "\u001b[0;31mNameError\u001b[0m                                 Traceback (most recent call last)",
      "\u001b[0;32m/var/folders/hf/hcgy4n2500511jg_9zcfqmn00000gp/T/ipykernel_18529/1196375113.py\u001b[0m in \u001b[0;36m<module>\u001b[0;34m\u001b[0m\n\u001b[0;32m----> 1\u001b[0;31m \u001b[0mdf_train_set\u001b[0m \u001b[0;34m=\u001b[0m \u001b[0mdf_merged\u001b[0m\u001b[0;34m.\u001b[0m\u001b[0mdropna\u001b[0m\u001b[0;34m(\u001b[0m\u001b[0;34m)\u001b[0m\u001b[0;34m\u001b[0m\u001b[0;34m\u001b[0m\u001b[0m\n\u001b[0m\u001b[1;32m      2\u001b[0m \u001b[0mdf_train_set\u001b[0m\u001b[0;34m.\u001b[0m\u001b[0mhead\u001b[0m\u001b[0;34m(\u001b[0m\u001b[0;36m10\u001b[0m\u001b[0;34m)\u001b[0m\u001b[0;34m\u001b[0m\u001b[0;34m\u001b[0m\u001b[0m\n\u001b[1;32m      3\u001b[0m \u001b[0;31m# df_train_set.to_csv(\"airbnb-train-set.csv\",index=False)\u001b[0m\u001b[0;34m\u001b[0m\u001b[0;34m\u001b[0m\u001b[0m\n",
      "\u001b[0;31mNameError\u001b[0m: name 'df_merged' is not defined"
     ]
    }
   ],
   "source": [
    "df_train_set = df_merged.dropna()\n",
    "df_train_set.head(10)\n",
    "# df_train_set.to_csv(\"airbnb-train-set.csv\",index=False)"
   ]
  },
  {
   "cell_type": "code",
   "execution_count": 43,
   "metadata": {},
   "outputs": [],
   "source": [
    "# tfidf_vectorizer.get_feature_names()\n",
    "df_train_set.drop_duplicates(inplace=True)\n",
    "X = tfidf_vectorizer_vectors.toarray()\n",
    "Y = df_train_set['review_scores_rating'].astype(int)[:200000]"
   ]
  },
  {
   "cell_type": "code",
   "execution_count": 44,
   "metadata": {},
   "outputs": [
    {
     "data": {
      "text/plain": [
       "53645"
      ]
     },
     "execution_count": 44,
     "metadata": {},
     "output_type": "execute_result"
    }
   ],
   "source": [
    "len(X[0])"
   ]
  },
  {
   "cell_type": "code",
   "execution_count": 3,
   "metadata": {},
   "outputs": [
    {
     "ename": "NameError",
     "evalue": "name 'X' is not defined",
     "output_type": "error",
     "traceback": [
      "\u001b[0;31m---------------------------------------------------------------------------\u001b[0m",
      "\u001b[0;31mNameError\u001b[0m                                 Traceback (most recent call last)",
      "\u001b[0;32m/var/folders/hf/hcgy4n2500511jg_9zcfqmn00000gp/T/ipykernel_18529/1224584708.py\u001b[0m in \u001b[0;36m<module>\u001b[0;34m\u001b[0m\n\u001b[1;32m      7\u001b[0m \u001b[0mSEED\u001b[0m \u001b[0;34m=\u001b[0m \u001b[0;36m123\u001b[0m\u001b[0;34m\u001b[0m\u001b[0;34m\u001b[0m\u001b[0m\n\u001b[1;32m      8\u001b[0m \u001b[0;34m\u001b[0m\u001b[0m\n\u001b[0;32m----> 9\u001b[0;31m \u001b[0mX_train\u001b[0m\u001b[0;34m,\u001b[0m \u001b[0mX_test\u001b[0m\u001b[0;34m,\u001b[0m \u001b[0my_train\u001b[0m\u001b[0;34m,\u001b[0m \u001b[0my_test\u001b[0m \u001b[0;34m=\u001b[0m \u001b[0mtrain_test_split\u001b[0m\u001b[0;34m(\u001b[0m\u001b[0mX\u001b[0m\u001b[0;34m,\u001b[0m \u001b[0mY\u001b[0m\u001b[0;34m,\u001b[0m \u001b[0mtest_size\u001b[0m \u001b[0;34m=\u001b[0m \u001b[0;36m0.2\u001b[0m\u001b[0;34m,\u001b[0m \u001b[0mrandom_state\u001b[0m \u001b[0;34m=\u001b[0m \u001b[0mSEED\u001b[0m\u001b[0;34m,\u001b[0m \u001b[0mstratify\u001b[0m \u001b[0;34m=\u001b[0m \u001b[0mY\u001b[0m\u001b[0;34m)\u001b[0m\u001b[0;34m\u001b[0m\u001b[0;34m\u001b[0m\u001b[0m\n\u001b[0m",
      "\u001b[0;31mNameError\u001b[0m: name 'X' is not defined"
     ]
    }
   ],
   "source": [
    "from sklearn.model_selection import train_test_split, StratifiedKFold, GridSearchCV \n",
    "from sklearn.metrics import mean_absolute_error, accuracy_score, confusion_matrix, classification_report, roc_auc_score,roc_curve,auc\n",
    "from sklearn.tree import DecisionTreeClassifier\n",
    "\n",
    "#Dividing into train and validation sets\n",
    "\n",
    "SEED = 123\n",
    "\n",
    "X_train, X_test, y_train, y_test = train_test_split(X, Y, test_size = 0.2, random_state = SEED, stratify = Y)"
   ]
  },
  {
   "cell_type": "code",
   "execution_count": 2,
   "metadata": {},
   "outputs": [
    {
     "ename": "NameError",
     "evalue": "name 'SEED' is not defined",
     "output_type": "error",
     "traceback": [
      "\u001b[0;31m---------------------------------------------------------------------------\u001b[0m",
      "\u001b[0;31mNameError\u001b[0m                                 Traceback (most recent call last)",
      "\u001b[0;32m/var/folders/hf/hcgy4n2500511jg_9zcfqmn00000gp/T/ipykernel_18529/3836827986.py\u001b[0m in \u001b[0;36m<module>\u001b[0;34m\u001b[0m\n\u001b[1;32m      1\u001b[0m \u001b[0;32mfrom\u001b[0m \u001b[0msklearn\u001b[0m\u001b[0;34m.\u001b[0m\u001b[0mtree\u001b[0m \u001b[0;32mimport\u001b[0m \u001b[0mDecisionTreeClassifier\u001b[0m\u001b[0;34m\u001b[0m\u001b[0;34m\u001b[0m\u001b[0m\n\u001b[1;32m      2\u001b[0m \u001b[0;34m\u001b[0m\u001b[0m\n\u001b[0;32m----> 3\u001b[0;31m \u001b[0mdt\u001b[0m \u001b[0;34m=\u001b[0m \u001b[0mDecisionTreeClassifier\u001b[0m\u001b[0;34m(\u001b[0m\u001b[0mrandom_state\u001b[0m\u001b[0;34m=\u001b[0m\u001b[0mSEED\u001b[0m\u001b[0;34m)\u001b[0m\u001b[0;34m\u001b[0m\u001b[0;34m\u001b[0m\u001b[0m\n\u001b[0m\u001b[1;32m      4\u001b[0m \u001b[0mdt\u001b[0m\u001b[0;34m.\u001b[0m\u001b[0mfit\u001b[0m\u001b[0;34m(\u001b[0m\u001b[0mX_train\u001b[0m\u001b[0;34m,\u001b[0m\u001b[0my_train\u001b[0m\u001b[0;34m)\u001b[0m\u001b[0;34m\u001b[0m\u001b[0;34m\u001b[0m\u001b[0m\n\u001b[1;32m      5\u001b[0m \u001b[0my_pred_test\u001b[0m \u001b[0;34m=\u001b[0m \u001b[0mdt\u001b[0m\u001b[0;34m.\u001b[0m\u001b[0mpredict\u001b[0m\u001b[0;34m(\u001b[0m\u001b[0mX_test\u001b[0m\u001b[0;34m)\u001b[0m\u001b[0;34m\u001b[0m\u001b[0;34m\u001b[0m\u001b[0m\n",
      "\u001b[0;31mNameError\u001b[0m: name 'SEED' is not defined"
     ]
    }
   ],
   "source": [
    "dt = DecisionTreeClassifier(random_state=SEED)\n",
    "dt.fit(X_train,y_train)\n",
    "y_pred_test = dt.predict(X_test)\n",
    "print(\"Training Accuracy score: \"+str(round(accuracy_score(y_train,dt.predict(X_train)),4)))\n",
    "print(\"Testing Accuracy score: \"+str(round(accuracy_score(y_test,dt.predict(X_test)),4)))"
   ]
  },
  {
   "cell_type": "code",
   "execution_count": 167,
   "metadata": {},
   "outputs": [
    {
     "name": "stdout",
     "output_type": "stream",
     "text": [
      "              precision    recall  f1-score   support\n",
      "\n",
      "    positive       0.99      1.00      0.99      1979\n",
      "    negative       0.50      0.43      0.46        21\n",
      "\n",
      "    accuracy                           0.99      2000\n",
      "   macro avg       0.75      0.71      0.73      2000\n",
      "weighted avg       0.99      0.99      0.99      2000\n",
      "\n"
     ]
    }
   ],
   "source": [
    "#Must assign neutral values to positive\n",
    "#Neutral scores tend to have positive sentiment utilizing neutral words\n",
    "print(classification_report(y_test, y_pred_test, target_names = ['positive', 'negative']))"
   ]
  },
  {
   "cell_type": "code",
   "execution_count": 172,
   "metadata": {},
   "outputs": [
    {
     "data": {
      "image/png": "[encoded data removed]",
      "text/plain": [
       "<Figure size 432x288 with 2 Axes>"
      ]
     },
     "metadata": {
      "needs_background": "light"
     },
     "output_type": "display_data"
    }
   ],
   "source": [
    "cm = confusion_matrix(y_test, y_pred_test)\n",
    "#print('Confusion matrix\\n', cm)\n",
    "cm_matrix = pd.DataFrame(data=cm, columns=['Actual Negative', 'Actual Positive'], \n",
    "                        index=['Predict Negative', 'Predict Positive'])\n",
    "sns.heatmap(cm_matrix, annot=True, fmt='d', cmap='YlGnBu')\n",
    "plt.show()"
   ]
  },
  {
   "cell_type": "code",
   "execution_count": 173,
   "metadata": {},
   "outputs": [
    {
     "name": "stdout",
     "output_type": "stream",
     "text": [
      "Training Accuracy score: 0.9132\n",
      "Testing Accuracy score: 0.9025\n"
     ]
    }
   ],
   "source": [
    "from sklearn.naive_bayes import GaussianNB\n",
    "gnb = GaussianNB()\n",
    "gnb.fit(X_train, y_train)\n",
    "y_pred_train = gnb.predict(X_train)\n",
    "y_pred_test = gnb.predict(X_test)\n",
    "print(\"Training Accuracy score: \" + str(round(accuracy_score(y_train, gnb.predict(X_train)), 4)))\n",
    "print(\"Testing Accuracy score: \" + str(round(accuracy_score(y_test, gnb.predict(X_test)), 4)))"
   ]
  },
  {
   "cell_type": "code",
   "execution_count": 175,
   "metadata": {},
   "outputs": [
    {
     "name": "stdout",
     "output_type": "stream",
     "text": [
      "              precision    recall  f1-score   support\n",
      "\n",
      "    positive       0.99      0.91      0.95      1979\n",
      "    negative       0.02      0.14      0.03        21\n",
      "\n",
      "    accuracy                           0.90      2000\n",
      "   macro avg       0.50      0.53      0.49      2000\n",
      "weighted avg       0.98      0.90      0.94      2000\n",
      "\n"
     ]
    }
   ],
   "source": [
    "print(classification_report(y_test, y_pred_test, target_names=['positive', 'negative']))"
   ]
  },
  {
   "cell_type": "code",
   "execution_count": 176,
   "metadata": {},
   "outputs": [
    {
     "data": {
      "image/png": "[encoded data removed]",
      "text/plain": [
       "<Figure size 432x288 with 2 Axes>"
      ]
     },
     "metadata": {
      "needs_background": "light"
     },
     "output_type": "display_data"
    }
   ],
   "source": [
    "cm = confusion_matrix(y_test, y_pred_test)\n",
    "#print('Confusion matrix\\n', cm)\n",
    "cm_matrix = pd.DataFrame(data=cm, columns=['Actual Negative', 'Actual Positive'], \n",
    "                        index=['Predict Negative', 'Predict Positive'])\n",
    "sns.heatmap(cm_matrix, annot=True, fmt='d', cmap='YlGnBu')\n",
    "plt.show()"
   ]
  },
  {
   "cell_type": "code",
   "execution_count": 177,
   "metadata": {},
   "outputs": [
    {
     "name": "stdout",
     "output_type": "stream",
     "text": [
      "Training Accuracy score: 0.9895\n",
      "Testing Accuracy score: 0.9895\n"
     ]
    }
   ],
   "source": [
    "from sklearn.linear_model import LogisticRegression\n",
    "lr = LogisticRegression(random_state=SEED).fit(X_train, y_train)\n",
    "y_pred_train = lr.predict(X_train)\n",
    "y_pred_test = lr.predict(X_test)\n",
    "print(\"Training Accuracy score: \"+str(round(accuracy_score(y_train,lr.predict(X_train)),4)))\n",
    "print(\"Testing Accuracy score: \"+str(round(accuracy_score(y_test,lr.predict(X_test)),4)))"
   ]
  },
  {
   "cell_type": "code",
   "execution_count": 180,
   "metadata": {},
   "outputs": [
    {
     "name": "stdout",
     "output_type": "stream",
     "text": [
      "              precision    recall  f1-score   support\n",
      "\n",
      "    positive       0.99      1.00      0.99      1979\n",
      "    negative       0.00      0.00      0.00        21\n",
      "\n",
      "    accuracy                           0.99      2000\n",
      "   macro avg       0.49      0.50      0.50      2000\n",
      "weighted avg       0.98      0.99      0.98      2000\n",
      "\n"
     ]
    },
    {
     "name": "stderr",
     "output_type": "stream",
     "text": [
      "/opt/homebrew/lib/python3.9/site-packages/sklearn/metrics/_classification.py:1308: UndefinedMetricWarning:\n",
      "\n",
      "Precision and F-score are ill-defined and being set to 0.0 in labels with no predicted samples. Use `zero_division` parameter to control this behavior.\n",
      "\n",
      "/opt/homebrew/lib/python3.9/site-packages/sklearn/metrics/_classification.py:1308: UndefinedMetricWarning:\n",
      "\n",
      "Precision and F-score are ill-defined and being set to 0.0 in labels with no predicted samples. Use `zero_division` parameter to control this behavior.\n",
      "\n",
      "/opt/homebrew/lib/python3.9/site-packages/sklearn/metrics/_classification.py:1308: UndefinedMetricWarning:\n",
      "\n",
      "Precision and F-score are ill-defined and being set to 0.0 in labels with no predicted samples. Use `zero_division` parameter to control this behavior.\n",
      "\n"
     ]
    }
   ],
   "source": [
    "print(classification_report(y_test, y_pred_test, target_names=['positive', 'negative']))"
   ]
  },
  {
   "cell_type": "code",
   "execution_count": 181,
   "metadata": {},
   "outputs": [
    {
     "data": {
      "image/png": "[encoded data removed]",
      "text/plain": [
       "<Figure size 432x288 with 2 Axes>"
      ]
     },
     "metadata": {
      "needs_background": "light"
     },
     "output_type": "display_data"
    }
   ],
   "source": [
    "cm = confusion_matrix(y_test, y_pred_test)\n",
    "#print('Confusion matrix\\n', cm)\n",
    "cm_matrix = pd.DataFrame(data=cm, columns=['Actual Negative', 'Actual Positive'], \n",
    "                        index=['Predict Negative', 'Predict Positive'])\n",
    "sns.heatmap(cm_matrix, annot=True, fmt='d', cmap='YlGnBu')\n",
    "plt.show()"
   ]
  },
  {
   "cell_type": "code",
   "execution_count": 182,
   "metadata": {},
   "outputs": [
    {
     "name": "stdout",
     "output_type": "stream",
     "text": [
      "Training Accuracy score: 1.0\n",
      "Testing Accuracy score: 0.9895\n"
     ]
    }
   ],
   "source": [
    "from sklearn.ensemble import RandomForestClassifier\n",
    "clf = RandomForestClassifier()\n",
    "clf.fit(X_train, y_train)\n",
    "y_pred_train = clf.predict(X_train)\n",
    "y_pred_test = clf.predict(X_test)\n",
    "print(\"Training Accuracy score: \"+str(round(accuracy_score(y_train,clf.predict(X_train)), 4)))\n",
    "print(\"Testing Accuracy score: \"+str(round(accuracy_score(y_test,clf.predict(X_test)), 4)))"
   ]
  },
  {
   "cell_type": "code",
   "execution_count": 183,
   "metadata": {},
   "outputs": [
    {
     "name": "stdout",
     "output_type": "stream",
     "text": [
      "              precision    recall  f1-score   support\n",
      "\n",
      "    positive       0.99      1.00      0.99      1979\n",
      "    negative       0.00      0.00      0.00        21\n",
      "\n",
      "    accuracy                           0.99      2000\n",
      "   macro avg       0.49      0.50      0.50      2000\n",
      "weighted avg       0.98      0.99      0.98      2000\n",
      "\n"
     ]
    },
    {
     "name": "stderr",
     "output_type": "stream",
     "text": [
      "/opt/homebrew/lib/python3.9/site-packages/sklearn/metrics/_classification.py:1308: UndefinedMetricWarning:\n",
      "\n",
      "Precision and F-score are ill-defined and being set to 0.0 in labels with no predicted samples. Use `zero_division` parameter to control this behavior.\n",
      "\n",
      "/opt/homebrew/lib/python3.9/site-packages/sklearn/metrics/_classification.py:1308: UndefinedMetricWarning:\n",
      "\n",
      "Precision and F-score are ill-defined and being set to 0.0 in labels with no predicted samples. Use `zero_division` parameter to control this behavior.\n",
      "\n",
      "/opt/homebrew/lib/python3.9/site-packages/sklearn/metrics/_classification.py:1308: UndefinedMetricWarning:\n",
      "\n",
      "Precision and F-score are ill-defined and being set to 0.0 in labels with no predicted samples. Use `zero_division` parameter to control this behavior.\n",
      "\n"
     ]
    }
   ],
   "source": [
    "print(classification_report(y_test, y_pred_test, target_names=['positive', 'negative']))"
   ]
  },
  {
   "cell_type": "code",
   "execution_count": 184,
   "metadata": {},
   "outputs": [
    {
     "data": {
      "image/png": "[encoded data removed]",
      "text/plain": [
       "<Figure size 432x288 with 2 Axes>"
      ]
     },
     "metadata": {
      "needs_background": "light"
     },
     "output_type": "display_data"
    }
   ],
   "source": [
    "cm = confusion_matrix(y_test, y_pred_test)\n",
    "#print('Confusion matrix\\n', cm)\n",
    "cm_matrix = pd.DataFrame(data=cm, columns=['Actual Negative', 'Actual Positive'], \n",
    "                        index=['Predict Negative', 'Predict Positive'])\n",
    "sns.heatmap(cm_matrix, annot=True, fmt='d', cmap='YlGnBu')\n",
    "plt.show()"
   ]
  },
  {
   "cell_type": "code",
   "execution_count": 185,
   "metadata": {},
   "outputs": [
    {
     "name": "stdout",
     "output_type": "stream",
     "text": [
      "Training Accuracy score: 1.0\n",
      "Testing Accuracy score: 0.9885\n"
     ]
    }
   ],
   "source": [
    "from sklearn.ensemble import VotingClassifier\n",
    "\n",
    "classifiers = [('Decision Tree', dt),\n",
    "               ('Logistic Regression', lr),\n",
    "                ('Naive Bayes', gnb)\n",
    "              ]\n",
    "vc = VotingClassifier(estimators=classifiers)\n",
    "# Fit 'vc' to the traing set and predict test set labels\n",
    "vc.fit(X_train, y_train)\n",
    "\n",
    "print(\"Training Accuracy score: \" + str(round(accuracy_score(y_train,vc.predict(X_train)), 4)))\n",
    "print(\"Testing Accuracy score: \" + str(round(accuracy_score(y_test,vc.predict(X_test)), 4)))"
   ]
  },
  {
   "cell_type": "code",
   "execution_count": null,
   "metadata": {},
   "outputs": [],
   "source": [
    "from sklearn.metrics import mean_squared_error, r2_score, accuracy_score, mean_absolute_error"
   ]
  },
  {
   "cell_type": "code",
   "execution_count": 186,
   "metadata": {},
   "outputs": [],
   "source": [
    "predictions = pd.Series(lr.predict(X), name=\"sentiment\")\n",
    "results = pd.concat([predictions],axis=1)\n",
    "results.to_csv(\"airbnb-review-sentiment.csv\",index=False)"
   ]
  },
  {
   "cell_type": "markdown",
   "metadata": {},
   "source": [
    "Hence we successfully studied various models like Decision Tree, SVM, Naive Bayes and Logistic Regression and implemented them for the given dataset as part of the experiment along with a comparative analysis of various metrics and made the following observations.\n",
    "\n",
    "Naïve Bayes and Decision Tree are susceptible to noise if present in the dataset because when we reduced the number of features by considering only the most frequent words the accuracy and AUC score increased significantly.\n",
    "Logistic Regression and SVM performed almost same for the given dataset even with the initial number of features.\n",
    "We can increase Accuracy marginally by removing Named Entities using spacy and performing Lemmatization on top of that on all the models mentioned above."
   ]
  },
  {
   "cell_type": "code",
   "execution_count": 187,
   "metadata": {},
   "outputs": [
    {
     "name": "stdout",
     "output_type": "stream",
     "text": [
      "<class 'pandas.core.frame.DataFrame'>\n",
      "Int64Index: 100000 entries, 0 to 99999\n",
      "Data columns (total 12 columns):\n",
      " #   Column                Non-Null Count   Dtype  \n",
      "---  ------                --------------   -----  \n",
      " 0   id                    100000 non-null  int64  \n",
      " 1   date                  100000 non-null  object \n",
      " 2   reviewer_name         100000 non-null  object \n",
      " 3   comments              100000 non-null  object \n",
      " 4   listing_url           100000 non-null  object \n",
      " 5   host_name             100000 non-null  object \n",
      " 6   review_scores_rating  99996 non-null   float64\n",
      " 7   price                 100000 non-null  float64\n",
      " 8   neg                   100000 non-null  float64\n",
      " 9   neu                   100000 non-null  float64\n",
      " 10  pos                   100000 non-null  float64\n",
      " 11  compound              100000 non-null  float64\n",
      "dtypes: float64(6), int64(1), object(5)\n",
      "memory usage: 9.9+ MB\n"
     ]
    }
   ],
   "source": [
    "# add sentiment anaylsis columns\n",
    "# df_sample_set[\"sentiment_scores\"] = df_sample_set[\"comments\"].apply(lambda x: SIA.polarity_scores(x))\n",
    "# df_sample_set = pd.concat([df_sample_set.drop(['sentiment_scores'], axis = 1), df_sample_set['sentiment_scores'].apply(pd.Series)], axis = 1)\n",
    "# df_sample_set.info()"
   ]
  },
  {
   "cell_type": "code",
   "execution_count": null,
   "metadata": {},
   "outputs": [],
   "source": [
    "#Calculates pscores (builtin nltk sentiment analysis)\n",
    "pscores = [SIA.polarity_scores(comments) for comments in df_merged['comments']]"
   ]
  },
  {
   "cell_type": "code",
   "execution_count": 65,
   "metadata": {},
   "outputs": [
    {
     "data": {
      "text/plain": [
       "Text(0, 0.5, 'frequency')"
      ]
     },
     "execution_count": 65,
     "metadata": {},
     "output_type": "execute_result"
    },
    {
     "data": {
      "image/png": "[encoded data removed]",
      "text/plain": [
       "<Figure size 432x288 with 1 Axes>"
      ]
     },
     "metadata": {
      "needs_background": "light"
     },
     "output_type": "display_data"
    }
   ],
   "source": [
    "pd.Series([score['compound'] for score in pscores]).plot(kind = 'hist')\n",
    "plt.title('Compound Scores')\n",
    "plt.xlabel('Scores')\n",
    "plt.ylabel('frequency')"
   ]
  },
  {
   "cell_type": "code",
   "execution_count": 66,
   "metadata": {},
   "outputs": [
    {
     "data": {
      "text/plain": [
       "Text(0, 0.5, 'Frequency')"
      ]
     },
     "execution_count": 66,
     "metadata": {},
     "output_type": "execute_result"
    },
    {
     "data": {
      "image/png": "[encoded data removed]",
      "text/plain": [
       "<Figure size 432x288 with 1 Axes>"
      ]
     },
     "metadata": {
      "needs_background": "light"
     },
     "output_type": "display_data"
    }
   ],
   "source": [
    "pd.Series([score['neu'] for score in pscores]).plot(kind='hist')\n",
    "plt.title('Neutral')\n",
    "plt.xlabel('Scores')\n",
    "plt.ylabel('Frequency')"
   ]
  },
  {
   "cell_type": "code",
   "execution_count": 67,
   "metadata": {},
   "outputs": [
    {
     "data": {
      "text/plain": [
       "Text(0, 0.5, 'Frequency')"
      ]
     },
     "execution_count": 67,
     "metadata": {},
     "output_type": "execute_result"
    },
    {
     "data": {
      "image/png": "[encoded data removed]",
      "text/plain": [
       "<Figure size 432x288 with 1 Axes>"
      ]
     },
     "metadata": {
      "needs_background": "light"
     },
     "output_type": "display_data"
    }
   ],
   "source": [
    "pd.Series([score['pos'] for score in pscores]).plot(kind='hist')\n",
    "plt.title('Positive Scores')\n",
    "plt.xlabel('Scores')\n",
    "plt.ylabel('Frequency')"
   ]
  },
  {
   "cell_type": "code",
   "execution_count": 70,
   "metadata": {},
   "outputs": [
    {
     "data": {
      "text/plain": [
       "Text(0, 0.5, 'Frequency')"
      ]
     },
     "execution_count": 70,
     "metadata": {},
     "output_type": "execute_result"
    },
    {
     "data": {
      "image/png": "[encoded data removed]",
      "text/plain": [
       "<Figure size 432x288 with 1 Axes>"
      ]
     },
     "metadata": {
      "needs_background": "light"
     },
     "output_type": "display_data"
    }
   ],
   "source": [
    "pd.Series([score['neg'] for score in pscores]).plot(kind='hist', bins=25)\n",
    "plt.title('Negative Scores')\n",
    "plt.xlabel('Scores')\n",
    "plt.ylabel('Frequency')"
   ]
  },
  {
   "cell_type": "code",
   "execution_count": 71,
   "metadata": {},
   "outputs": [],
   "source": [
    "scored_reviews = pd.DataFrame()\n",
    "scored_reviews['review'] = [r for r in df_sample_set['comments']]\n",
    "scored_reviews['compound'] = [score['compound'] for score in pscores]\n",
    "scored_reviews['negativity'] = [score['neg'] for score in pscores]\n",
    "scored_reviews['neutrality'] = [score['neu'] for score in pscores]\n",
    "scored_reviews['positivity'] = [score['pos'] for score in pscores]"
   ]
  },
  {
   "cell_type": "code",
   "execution_count": 72,
   "metadata": {},
   "outputs": [
    {
     "data": {
      "text/html": [
       "<div>\n",
       "<style scoped>\n",
       "    .dataframe tbody tr th:only-of-type {\n",
       "        vertical-align: middle;\n",
       "    }\n",
       "\n",
       "    .dataframe tbody tr th {\n",
       "        vertical-align: top;\n",
       "    }\n",
       "\n",
       "    .dataframe thead th {\n",
       "        text-align: right;\n",
       "    }\n",
       "</style>\n",
       "<table border=\"1\" class=\"dataframe\">\n",
       "  <thead>\n",
       "    <tr style=\"text-align: right;\">\n",
       "      <th></th>\n",
       "      <th>review</th>\n",
       "      <th>compound</th>\n",
       "      <th>negativity</th>\n",
       "      <th>neutrality</th>\n",
       "      <th>positivity</th>\n",
       "    </tr>\n",
       "  </thead>\n",
       "  <tbody>\n",
       "    <tr>\n",
       "      <th>10</th>\n",
       "      <td>enjoy privaci hospit dure stay joe wa veri und...</td>\n",
       "      <td>0.5267</td>\n",
       "      <td>0.070</td>\n",
       "      <td>0.758</td>\n",
       "      <td>0.173</td>\n",
       "    </tr>\n",
       "    <tr>\n",
       "      <th>15</th>\n",
       "      <td>thi tini hous wa wonderful joe wa excel explai...</td>\n",
       "      <td>0.9887</td>\n",
       "      <td>0.039</td>\n",
       "      <td>0.684</td>\n",
       "      <td>0.277</td>\n",
       "    </tr>\n",
       "    <tr>\n",
       "      <th>16</th>\n",
       "      <td>great experi anyon consid go tiny love cozi li...</td>\n",
       "      <td>0.8176</td>\n",
       "      <td>0.044</td>\n",
       "      <td>0.754</td>\n",
       "      <td>0.202</td>\n",
       "    </tr>\n",
       "    <tr>\n",
       "      <th>20</th>\n",
       "      <td>thi wa experi would keep everyth book checkout...</td>\n",
       "      <td>0.9592</td>\n",
       "      <td>0.029</td>\n",
       "      <td>0.721</td>\n",
       "      <td>0.250</td>\n",
       "    </tr>\n",
       "    <tr>\n",
       "      <th>21</th>\n",
       "      <td>quaint cozi setting compost toilet amazing mes...</td>\n",
       "      <td>0.3182</td>\n",
       "      <td>0.153</td>\n",
       "      <td>0.613</td>\n",
       "      <td>0.233</td>\n",
       "    </tr>\n",
       "    <tr>\n",
       "      <th>...</th>\n",
       "      <td>...</td>\n",
       "      <td>...</td>\n",
       "      <td>...</td>\n",
       "      <td>...</td>\n",
       "      <td>...</td>\n",
       "    </tr>\n",
       "    <tr>\n",
       "      <th>99972</th>\n",
       "      <td>cute cozy privat bedroom basement apartment fu...</td>\n",
       "      <td>0.4215</td>\n",
       "      <td>0.047</td>\n",
       "      <td>0.857</td>\n",
       "      <td>0.096</td>\n",
       "    </tr>\n",
       "    <tr>\n",
       "      <th>99973</th>\n",
       "      <td>ask wa possibl check earli host work hard acco...</td>\n",
       "      <td>0.6486</td>\n",
       "      <td>0.047</td>\n",
       "      <td>0.764</td>\n",
       "      <td>0.189</td>\n",
       "    </tr>\n",
       "    <tr>\n",
       "      <th>99979</th>\n",
       "      <td>space wa veri clean nice famili wonder hospita...</td>\n",
       "      <td>0.7790</td>\n",
       "      <td>0.028</td>\n",
       "      <td>0.814</td>\n",
       "      <td>0.158</td>\n",
       "    </tr>\n",
       "    <tr>\n",
       "      <th>99990</th>\n",
       "      <td>thi two bedroom two bath contemporari loft bea...</td>\n",
       "      <td>0.9698</td>\n",
       "      <td>0.031</td>\n",
       "      <td>0.711</td>\n",
       "      <td>0.258</td>\n",
       "    </tr>\n",
       "    <tr>\n",
       "      <th>99995</th>\n",
       "      <td>thi bedroom bathroom wa fantastic cant give be...</td>\n",
       "      <td>0.9152</td>\n",
       "      <td>0.053</td>\n",
       "      <td>0.636</td>\n",
       "      <td>0.311</td>\n",
       "    </tr>\n",
       "  </tbody>\n",
       "</table>\n",
       "<p>15340 rows × 5 columns</p>\n",
       "</div>"
      ],
      "text/plain": [
       "                                                  review  compound  \\\n",
       "10     enjoy privaci hospit dure stay joe wa veri und...    0.5267   \n",
       "15     thi tini hous wa wonderful joe wa excel explai...    0.9887   \n",
       "16     great experi anyon consid go tiny love cozi li...    0.8176   \n",
       "20     thi wa experi would keep everyth book checkout...    0.9592   \n",
       "21     quaint cozi setting compost toilet amazing mes...    0.3182   \n",
       "...                                                  ...       ...   \n",
       "99972  cute cozy privat bedroom basement apartment fu...    0.4215   \n",
       "99973  ask wa possibl check earli host work hard acco...    0.6486   \n",
       "99979  space wa veri clean nice famili wonder hospita...    0.7790   \n",
       "99990  thi two bedroom two bath contemporari loft bea...    0.9698   \n",
       "99995  thi bedroom bathroom wa fantastic cant give be...    0.9152   \n",
       "\n",
       "       negativity  neutrality  positivity  \n",
       "10          0.070       0.758       0.173  \n",
       "15          0.039       0.684       0.277  \n",
       "16          0.044       0.754       0.202  \n",
       "20          0.029       0.721       0.250  \n",
       "21          0.153       0.613       0.233  \n",
       "...           ...         ...         ...  \n",
       "99972       0.047       0.857       0.096  \n",
       "99973       0.047       0.764       0.189  \n",
       "99979       0.028       0.814       0.158  \n",
       "99990       0.031       0.711       0.258  \n",
       "99995       0.053       0.636       0.311  \n",
       "\n",
       "[15340 rows x 5 columns]"
      ]
     },
     "execution_count": 72,
     "metadata": {},
     "output_type": "execute_result"
    }
   ],
   "source": [
    "scored_reviews.query('negativity > 0')"
   ]
  },
  {
   "cell_type": "markdown",
   "metadata": {},
   "source": [
    "Not many negative reviews"
   ]
  },
  {
   "cell_type": "code",
   "execution_count": 74,
   "metadata": {},
   "outputs": [
    {
     "data": {
      "text/html": [
       "<div>\n",
       "<style scoped>\n",
       "    .dataframe tbody tr th:only-of-type {\n",
       "        vertical-align: middle;\n",
       "    }\n",
       "\n",
       "    .dataframe tbody tr th {\n",
       "        vertical-align: top;\n",
       "    }\n",
       "\n",
       "    .dataframe thead th {\n",
       "        text-align: right;\n",
       "    }\n",
       "</style>\n",
       "<table border=\"1\" class=\"dataframe\">\n",
       "  <thead>\n",
       "    <tr style=\"text-align: right;\">\n",
       "      <th></th>\n",
       "      <th>review</th>\n",
       "      <th>compound</th>\n",
       "      <th>negativity</th>\n",
       "      <th>neutrality</th>\n",
       "      <th>positivity</th>\n",
       "    </tr>\n",
       "  </thead>\n",
       "  <tbody>\n",
       "    <tr>\n",
       "      <th>30</th>\n",
       "      <td>joe host made us veri uncomfortable left town ...</td>\n",
       "      <td>-0.7466</td>\n",
       "      <td>0.251</td>\n",
       "      <td>0.677</td>\n",
       "      <td>0.072</td>\n",
       "    </tr>\n",
       "    <tr>\n",
       "      <th>35</th>\n",
       "      <td>host cancel thi reserv day befor arrival thi a...</td>\n",
       "      <td>-0.2500</td>\n",
       "      <td>0.182</td>\n",
       "      <td>0.818</td>\n",
       "      <td>0.000</td>\n",
       "    </tr>\n",
       "    <tr>\n",
       "      <th>623</th>\n",
       "      <td>jill place wa great valu indeed bu stop close ...</td>\n",
       "      <td>0.2910</td>\n",
       "      <td>0.111</td>\n",
       "      <td>0.791</td>\n",
       "      <td>0.098</td>\n",
       "    </tr>\n",
       "    <tr>\n",
       "      <th>723</th>\n",
       "      <td>start trip us jill veri short notice couldnt f...</td>\n",
       "      <td>-0.2537</td>\n",
       "      <td>0.188</td>\n",
       "      <td>0.708</td>\n",
       "      <td>0.104</td>\n",
       "    </tr>\n",
       "    <tr>\n",
       "      <th>762</th>\n",
       "      <td>host wa extrem commun thi lower stress level b...</td>\n",
       "      <td>-0.2023</td>\n",
       "      <td>0.113</td>\n",
       "      <td>0.814</td>\n",
       "      <td>0.072</td>\n",
       "    </tr>\n",
       "    <tr>\n",
       "      <th>...</th>\n",
       "      <td>...</td>\n",
       "      <td>...</td>\n",
       "      <td>...</td>\n",
       "      <td>...</td>\n",
       "      <td>...</td>\n",
       "    </tr>\n",
       "    <tr>\n",
       "      <th>99136</th>\n",
       "      <td>host cancel thi reserv day befor arrival thi a...</td>\n",
       "      <td>-0.2500</td>\n",
       "      <td>0.182</td>\n",
       "      <td>0.818</td>\n",
       "      <td>0.000</td>\n",
       "    </tr>\n",
       "    <tr>\n",
       "      <th>99180</th>\n",
       "      <td>get pay</td>\n",
       "      <td>-0.1027</td>\n",
       "      <td>0.583</td>\n",
       "      <td>0.417</td>\n",
       "      <td>0.000</td>\n",
       "    </tr>\n",
       "    <tr>\n",
       "      <th>99215</th>\n",
       "      <td>host cancel thi reserv day befor arrival thi a...</td>\n",
       "      <td>-0.2500</td>\n",
       "      <td>0.182</td>\n",
       "      <td>0.818</td>\n",
       "      <td>0.000</td>\n",
       "    </tr>\n",
       "    <tr>\n",
       "      <th>99242</th>\n",
       "      <td>setup stay amin place dure major renov build w...</td>\n",
       "      <td>-0.5600</td>\n",
       "      <td>0.144</td>\n",
       "      <td>0.741</td>\n",
       "      <td>0.115</td>\n",
       "    </tr>\n",
       "    <tr>\n",
       "      <th>99244</th>\n",
       "      <td>host cancel thi reserv day befor arrival thi a...</td>\n",
       "      <td>-0.2500</td>\n",
       "      <td>0.182</td>\n",
       "      <td>0.818</td>\n",
       "      <td>0.000</td>\n",
       "    </tr>\n",
       "  </tbody>\n",
       "</table>\n",
       "<p>1024 rows × 5 columns</p>\n",
       "</div>"
      ],
      "text/plain": [
       "                                                  review  compound  \\\n",
       "30     joe host made us veri uncomfortable left town ...   -0.7466   \n",
       "35     host cancel thi reserv day befor arrival thi a...   -0.2500   \n",
       "623    jill place wa great valu indeed bu stop close ...    0.2910   \n",
       "723    start trip us jill veri short notice couldnt f...   -0.2537   \n",
       "762    host wa extrem commun thi lower stress level b...   -0.2023   \n",
       "...                                                  ...       ...   \n",
       "99136  host cancel thi reserv day befor arrival thi a...   -0.2500   \n",
       "99180                                            get pay   -0.1027   \n",
       "99215  host cancel thi reserv day befor arrival thi a...   -0.2500   \n",
       "99242  setup stay amin place dure major renov build w...   -0.5600   \n",
       "99244  host cancel thi reserv day befor arrival thi a...   -0.2500   \n",
       "\n",
       "       negativity  neutrality  positivity  \n",
       "30          0.251       0.677       0.072  \n",
       "35          0.182       0.818       0.000  \n",
       "623         0.111       0.791       0.098  \n",
       "723         0.188       0.708       0.104  \n",
       "762         0.113       0.814       0.072  \n",
       "...           ...         ...         ...  \n",
       "99136       0.182       0.818       0.000  \n",
       "99180       0.583       0.417       0.000  \n",
       "99215       0.182       0.818       0.000  \n",
       "99242       0.144       0.741       0.115  \n",
       "99244       0.182       0.818       0.000  \n",
       "\n",
       "[1024 rows x 5 columns]"
      ]
     },
     "execution_count": 74,
     "metadata": {},
     "output_type": "execute_result"
    }
   ],
   "source": [
    "scored_reviews.query('negativity > positivity').query('negativity > 0.1')"
   ]
  },
  {
   "cell_type": "code",
   "execution_count": 65,
   "metadata": {},
   "outputs": [],
   "source": [
    "#TODO: nltk built in sentiment analysis seems to be not as accurate as I'd like\n",
    "# marking comments negative even though overall sentiment is positive"
   ]
  },
  {
   "cell_type": "code",
   "execution_count": 128,
   "metadata": {},
   "outputs": [
    {
     "name": "stderr",
     "output_type": "stream",
     "text": [
      "[nltk_data] Downloading package punkt to /Users/yobae/nltk_data...\n",
      "[nltk_data]   Unzipping tokenizers/punkt.zip.\n",
      "[nltk_data] Downloading package wordnet to /Users/yobae/nltk_data...\n",
      "[nltk_data]   Unzipping corpora/wordnet.zip.\n",
      "[nltk_data] Downloading package stopwords to /Users/yobae/nltk_data...\n",
      "[nltk_data]   Package stopwords is already up-to-date!\n"
     ]
    }
   ],
   "source": [
    "from nltk.tokenize import word_tokenize\n",
    "from sklearn.feature_extraction.text import CountVectorizer, TfidfTransformer\n",
    "from nltk.stem import WordNetLemmatizer\n",
    "from sklearn.ensemble import RandomForestRegressor, RandomForestClassifier\n",
    "from sklearn.pipeline import Pipeline\n",
    "nltk.download(['punkt', 'wordnet', 'stopwords'])\n",
    "from nltk.tokenize import word_tokenize, sent_tokenize\n",
    "from nltk.corpus import stopwords"
   ]
  },
  {
   "cell_type": "code",
   "execution_count": 129,
   "metadata": {},
   "outputs": [],
   "source": [
    "def tokenize(text):\n",
    "    '''\n",
    "    Input: Text String (str)\n",
    "    \n",
    "    Process: \n",
    "    1. Tokenize text into tokens\n",
    "    2. Remove stop words\n",
    "    3. Lemmatize\n",
    "    \n",
    "    Output: List of text tokens for string\n",
    "    '''\n",
    "    tokens = word_tokenize(text)\n",
    "    stop_words = set(stopwords.words('english')) \n",
    "    lemmatizer = WordNetLemmatizer()\n",
    "    tokens = [w for w in tokens if not w in stop_words]\n",
    "    tokens = [lemmatizer.lemmatize(w.lower().strip()) for w in tokens]\n",
    "    return tokens"
   ]
  },
  {
   "cell_type": "code",
   "execution_count": 130,
   "metadata": {},
   "outputs": [],
   "source": [
    "# Initialize ML pipeline\n",
    "pipeline = Pipeline([\n",
    "    ('vect', CountVectorizer(tokenizer=tokenize)),\n",
    "    ('tfidf', TfidfTransformer()),\n",
    "    ('clf', RandomForestRegressor())\n",
    "])"
   ]
  },
  {
   "cell_type": "code",
   "execution_count": 131,
   "metadata": {},
   "outputs": [
    {
     "name": "stdout",
     "output_type": "stream",
     "text": [
      "<class 'pandas.core.frame.DataFrame'>\n",
      "Int64Index: 99996 entries, 0 to 99999\n",
      "Data columns (total 8 columns):\n",
      " #   Column                Non-Null Count  Dtype  \n",
      "---  ------                --------------  -----  \n",
      " 0   id                    99996 non-null  int64  \n",
      " 1   date                  99996 non-null  object \n",
      " 2   reviewer_name         99996 non-null  object \n",
      " 3   comments              99996 non-null  object \n",
      " 4   listing_url           99996 non-null  object \n",
      " 5   host_name             99996 non-null  object \n",
      " 6   review_scores_rating  99996 non-null  float64\n",
      " 7   price                 99996 non-null  float64\n",
      "dtypes: float64(2), int64(1), object(5)\n",
      "memory usage: 6.9+ MB\n"
     ]
    }
   ],
   "source": [
    "df_test = df_sample_set.dropna()\n",
    "df_test.info()"
   ]
  },
  {
   "cell_type": "code",
   "execution_count": 134,
   "metadata": {},
   "outputs": [],
   "source": [
    "# Import train_test_split, Split data\n",
    "from sklearn.model_selection import train_test_split\n",
    "X = df_test['comments']\n",
    "Y = df_test['price']\n",
    "X_train, X_test, y_train, y_test = train_test_split(X, Y, test_size = 0.2)"
   ]
  },
  {
   "cell_type": "code",
   "execution_count": null,
   "metadata": {},
   "outputs": [],
   "source": [
    "# Fit pipeline\n",
    "# Takes too long to run\n",
    "pipeline.fit(X_train, y_train)"
   ]
  },
  {
   "cell_type": "code",
   "execution_count": null,
   "metadata": {},
   "outputs": [],
   "source": [
    "y_preds = pipeline.predict(X_test)"
   ]
  },
  {
   "cell_type": "code",
   "execution_count": null,
   "metadata": {},
   "outputs": [],
   "source": [
    "mean_squared_error(y_test, y_preds)"
   ]
  },
  {
   "cell_type": "code",
   "execution_count": null,
   "metadata": {},
   "outputs": [],
   "source": [
    "from math import sqrt\n",
    "rmse = sqrt(mean_squared_error(y_test, y_preds))\n",
    "rmse"
   ]
  },
  {
   "cell_type": "code",
   "execution_count": null,
   "metadata": {},
   "outputs": [],
   "source": [
    "y_preds[:10]"
   ]
  },
  {
   "cell_type": "code",
   "execution_count": null,
   "metadata": {},
   "outputs": [],
   "source": []
  },
  {
   "cell_type": "code",
   "execution_count": null,
   "metadata": {},
   "outputs": [],
   "source": []
  },
  {
   "cell_type": "code",
   "execution_count": null,
   "metadata": {},
   "outputs": [],
   "source": []
  },
  {
   "cell_type": "code",
   "execution_count": null,
   "metadata": {},
   "outputs": [],
   "source": []
  },
  {
   "cell_type": "code",
   "execution_count": null,
   "metadata": {},
   "outputs": [],
   "source": []
  },
  {
   "cell_type": "code",
   "execution_count": null,
   "metadata": {},
   "outputs": [],
   "source": []
  },
  {
   "cell_type": "code",
   "execution_count": null,
   "metadata": {},
   "outputs": [],
   "source": [
    "# # Re-format the comments for each listing_id to a list instead of series\n",
    "# from langdetect import detect\n",
    "# base_dict = dict(tuple(df_sample_set.groupby(\"id\")))\n",
    "# sentiment_dict = {}\n",
    "# listing_ids = []\n",
    "\n",
    "# for listing_id in base_dict:\n",
    "#     base_dict[listing_id] = base_dict[listing_id][\"comments\"].values.tolist()\n",
    "#     # These four variables will hold the comments/features classified as positive/negative based on polarity\n",
    "#     negative_comments_list = []\n",
    "#     positive_comments_list = []\n",
    "#     negative_features_list = {}\n",
    "#     positive_features_list = {}\n",
    "#     sentiment_score = 0  # The overall sentiment polarity of the listing\n",
    "\n",
    "#     # For every review in each listing_id\n",
    "#     for comment in base_dict[listing_id]:\n",
    "\n",
    "#         # Use a try/catch block to catch errors where langdetect cannot identify the language of the comment\n",
    "#         try:\n",
    "\n",
    "#             # Only proceed if the comment is in English\n",
    "#             if detect(comment) == \"en\":\n",
    "\n",
    "#                 # Maintain a list of listing_ids with valid English reviews\n",
    "#                 if listing_id not in listing_ids:\n",
    "#                     listing_ids.append(listing_id)\n",
    "\n",
    "#                 # Generate a sentiment score (with polarity) for the given review\n",
    "#                 ss = SIA.polarity_scores(comment)\n",
    "\n",
    "#                 \"\"\" \n",
    "#                 We classify neutral (0) reviews as positive since manual analysis of tweets indicate that neutrally classified comments \n",
    "#                 simply used 'neutral language' to praise a listing as opposed to the sentiments actually being neutral\n",
    "#                 \"\"\"\n",
    "#                 # If the comment is negative, place it in the negative comments list and update the sentiment score of the overall listing\n",
    "#                 if ss[\"compound\"] < 0:\n",
    "#                     negative_comments_list.append(comment.strip())\n",
    "#                     sentiment_score += ss[\"compound\"]\n",
    "\n",
    "#                 # If the comment is positive, place it in the positive comments list and update the sentiment score of the overall listing\n",
    "#                 if ss[\"compound\"] >= 0:\n",
    "#                     positive_comments_list.append(comment.strip())\n",
    "#                     sentiment_score += ss[\"compound\"]\n",
    "#         except Exception as identifier:\n",
    "#                 pass\n",
    "\n",
    "# # Populate the listing_id key with the accumulated results of the sentiment analysis over all comments for a given listing\n",
    "#     if len(positive_comments_list) + len(negative_comments_list) == 0:\n",
    "#         sentiment_score = 0\n",
    "#     else:\n",
    "#         sentiment_score = sentiment_score / (\n",
    "#             len(positive_comments_list) + len(negative_comments_list)\n",
    "#         )\n",
    "\n",
    "#     sentiment_dict[listing_id] = {\n",
    "#         \"positive_comments\": positive_comments_list,\n",
    "#         \"negative_comments\": negative_comments_list,\n",
    "#         \"positive_features\": positive_features_list,\n",
    "#         \"negative_features\": negative_features_list,\n",
    "#         \"sentiment_score\": (\n",
    "#             sentiment_score  # This score is an average score over all listing reviews\n",
    "#         ),\n",
    "#     }\n",
    "\n",
    "#     # Now that population of each comment and feature is complete, we can generate data for this listing\n",
    "#     for sentiment in [\"positive_features\", \"negative_features\"]:\n",
    "\n",
    "#         # Initialize a dataframe from the sentiment dictionary and sort by # of times feature was mentioned\n",
    "#         sent_df = pd.DataFrame.from_dict(\n",
    "#             sentiment_dict[listing_id][sentiment],\n",
    "#             orient=\"index\",\n",
    "#             columns=[\"count\", \"adjectives\"],\n",
    "#         ).sort_values(by=\"count\", ascending=False)\n"
   ]
  }
 ],
 "metadata": {
  "interpreter": {
   "hash": "aee8b7b246df8f9039afb4144a1f6fd8d2ca17a180786b69acc140d282b71a49"
  },
  "kernelspec": {
   "display_name": "Python 3.8.5 64-bit",
   "language": "python",
   "name": "python3"
  },
  "language_info": {
   "codemirror_mode": {
    "name": "ipython",
    "version": 3
   },
   "file_extension": ".py",
   "mimetype": "text/x-python",
   "name": "python",
   "nbconvert_exporter": "python",
   "pygments_lexer": "ipython3",
   "version": "3.9.8"
  },
  "orig_nbformat": 4
 },
 "nbformat": 4,
 "nbformat_minor": 2
}
