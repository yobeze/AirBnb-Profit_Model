{
 "cells": [
  {
   "cell_type": "code",
   "execution_count": 7,
   "metadata": {},
   "outputs": [],
   "source": [
    "import numpy as np\n",
    "import pandas as pd\n",
    "import seaborn as sns\n",
    "import csv"
   ]
  },
  {
   "cell_type": "code",
   "execution_count": 8,
   "metadata": {},
   "outputs": [
    {
     "data": {
      "text/html": [
       "<div>\n",
       "<style scoped>\n",
       "    .dataframe tbody tr th:only-of-type {\n",
       "        vertical-align: middle;\n",
       "    }\n",
       "\n",
       "    .dataframe tbody tr th {\n",
       "        vertical-align: top;\n",
       "    }\n",
       "\n",
       "    .dataframe thead th {\n",
       "        text-align: right;\n",
       "    }\n",
       "</style>\n",
       "<table border=\"1\" class=\"dataframe\">\n",
       "  <thead>\n",
       "    <tr style=\"text-align: right;\">\n",
       "      <th></th>\n",
       "      <th>listing_id</th>\n",
       "      <th>id</th>\n",
       "      <th>date</th>\n",
       "      <th>reviewer_id</th>\n",
       "      <th>reviewer_name</th>\n",
       "      <th>comments</th>\n",
       "    </tr>\n",
       "  </thead>\n",
       "  <tbody>\n",
       "    <tr>\n",
       "      <th>0</th>\n",
       "      <td>177</td>\n",
       "      <td>99461681</td>\n",
       "      <td>2016-09-04</td>\n",
       "      <td>78348548</td>\n",
       "      <td>Brenna</td>\n",
       "      <td>Great place to stay! Definitely a tiny home, but still cozy and comfortable. Pretty fun to try it out for a couple nights for the two of us. Joe was helpful and friendly. Destinations were always less than a 20min drive and lots of parks nearby! Super fun stay :)</td>\n",
       "    </tr>\n",
       "    <tr>\n",
       "      <th>1</th>\n",
       "      <td>177</td>\n",
       "      <td>101460574</td>\n",
       "      <td>2016-09-13</td>\n",
       "      <td>72125554</td>\n",
       "      <td>Rachael</td>\n",
       "      <td>Joe was very friendly and gave us all the information we needed. The house was exactly as described on the site. It was fun and thought provoking experiencing a 100% Eco-friendly space. We plan on staying here again next time we're in Denver!</td>\n",
       "    </tr>\n",
       "    <tr>\n",
       "      <th>2</th>\n",
       "      <td>177</td>\n",
       "      <td>101681475</td>\n",
       "      <td>2016-09-14</td>\n",
       "      <td>21300329</td>\n",
       "      <td>Haley</td>\n",
       "      <td>Amazing property and Joe was a great host! Even offered to walk my dog while we were out! Will definitely be back</td>\n",
       "    </tr>\n",
       "    <tr>\n",
       "      <th>3</th>\n",
       "      <td>177</td>\n",
       "      <td>102963808</td>\n",
       "      <td>2016-09-19</td>\n",
       "      <td>53882399</td>\n",
       "      <td>Mike</td>\n",
       "      <td>Joe was a great host, the description of this tiny house was spot on.  It was definitely a small space but well laid out and very convenient.  I would recommend a stay there.</td>\n",
       "    </tr>\n",
       "    <tr>\n",
       "      <th>4</th>\n",
       "      <td>177</td>\n",
       "      <td>103447333</td>\n",
       "      <td>2016-09-22</td>\n",
       "      <td>94621370</td>\n",
       "      <td>Carol</td>\n",
       "      <td>He welcomes us when we first arrived and gave great recommendations for dinner/breakfast</td>\n",
       "    </tr>\n",
       "  </tbody>\n",
       "</table>\n",
       "</div>"
      ],
      "text/plain": [
       "   listing_id         id        date  reviewer_id reviewer_name  \\\n",
       "0         177   99461681  2016-09-04     78348548        Brenna   \n",
       "1         177  101460574  2016-09-13     72125554       Rachael   \n",
       "2         177  101681475  2016-09-14     21300329         Haley   \n",
       "3         177  102963808  2016-09-19     53882399          Mike   \n",
       "4         177  103447333  2016-09-22     94621370         Carol   \n",
       "\n",
       "                                                                                                                                                                                                                                                                  comments  \n",
       "0  Great place to stay! Definitely a tiny home, but still cozy and comfortable. Pretty fun to try it out for a couple nights for the two of us. Joe was helpful and friendly. Destinations were always less than a 20min drive and lots of parks nearby! Super fun stay :)  \n",
       "1                       Joe was very friendly and gave us all the information we needed. The house was exactly as described on the site. It was fun and thought provoking experiencing a 100% Eco-friendly space. We plan on staying here again next time we're in Denver!  \n",
       "2                                                                                                                                                        Amazing property and Joe was a great host! Even offered to walk my dog while we were out! Will definitely be back  \n",
       "3                                                                                           Joe was a great host, the description of this tiny house was spot on.  It was definitely a small space but well laid out and very convenient.  I would recommend a stay there.  \n",
       "4                                                                                                                                                                                He welcomes us when we first arrived and gave great recommendations for dinner/breakfast   "
      ]
     },
     "execution_count": 8,
     "metadata": {},
     "output_type": "execute_result"
    }
   ],
   "source": [
    "pd.set_option('display.max_rows', 100)\n",
    "pd.set_option('max_colwidth', 500)\n",
    "pd.set_option('display.max_columns', 500)\n",
    "\n",
    "reviews = pd.read_csv('reviews.csv')\n",
    "# reviews.head()\n",
    "df_host = pd.read_csv('listings_cleaned.csv')"
   ]
  },
  {
   "cell_type": "code",
   "execution_count": null,
   "metadata": {},
   "outputs": [],
   "source": []
  }
 ],
 "metadata": {
  "interpreter": {
   "hash": "aee8b7b246df8f9039afb4144a1f6fd8d2ca17a180786b69acc140d282b71a49"
  },
  "kernelspec": {
   "display_name": "Python 3.8.5 64-bit",
   "language": "python",
   "name": "python3"
  },
  "language_info": {
   "name": "python",
   "version": "3.8.5"
  },
  "orig_nbformat": 4
 },
 "nbformat": 4,
 "nbformat_minor": 2
}
