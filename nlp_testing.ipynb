{
 "cells": [
  {
   "cell_type": "code",
   "execution_count": 2,
   "metadata": {},
   "outputs": [],
   "source": [
    "import numpy as np\n",
    "import pandas as pd\n",
    "import seaborn as sns\n",
    "import csv"
   ]
  },
  {
   "cell_type": "code",
   "execution_count": 3,
   "metadata": {},
   "outputs": [],
   "source": [
    "# pd.set_option('display.max_rows', 100)\n",
    "# pd.set_option('max_colwidth', 500)\n",
    "# pd.set_option('display.max_columns', 500)\n",
    "\n",
    "reviews = pd.read_csv('reviews.csv')\n",
    "# reviews.head()\n",
    "df_host = pd.read_csv('listings_cleaned.csv')\n",
    "# df_host.head(10)"
   ]
  },
  {
   "cell_type": "code",
   "execution_count": 4,
   "metadata": {},
   "outputs": [
    {
     "data": {
      "text/html": [
       "<div>\n",
       "<style scoped>\n",
       "    .dataframe tbody tr th:only-of-type {\n",
       "        vertical-align: middle;\n",
       "    }\n",
       "\n",
       "    .dataframe tbody tr th {\n",
       "        vertical-align: top;\n",
       "    }\n",
       "\n",
       "    .dataframe thead th {\n",
       "        text-align: right;\n",
       "    }\n",
       "</style>\n",
       "<table border=\"1\" class=\"dataframe\">\n",
       "  <thead>\n",
       "    <tr style=\"text-align: right;\">\n",
       "      <th></th>\n",
       "      <th>id</th>\n",
       "      <th>listing_url</th>\n",
       "      <th>scrape_id</th>\n",
       "      <th>last_scraped</th>\n",
       "      <th>name</th>\n",
       "      <th>description</th>\n",
       "      <th>neighborhood_overview</th>\n",
       "      <th>picture_url</th>\n",
       "      <th>host_id</th>\n",
       "      <th>host_url</th>\n",
       "      <th>...</th>\n",
       "      <th>review_scores_value</th>\n",
       "      <th>license</th>\n",
       "      <th>instant_bookable</th>\n",
       "      <th>calculated_host_listings_count</th>\n",
       "      <th>calculated_host_listings_count_entire_homes</th>\n",
       "      <th>calculated_host_listings_count_private_rooms</th>\n",
       "      <th>calculated_host_listings_count_shared_rooms</th>\n",
       "      <th>reviews_per_month</th>\n",
       "      <th>n_bathrooms</th>\n",
       "      <th>shared_private</th>\n",
       "    </tr>\n",
       "  </thead>\n",
       "  <tbody>\n",
       "    <tr>\n",
       "      <th>0</th>\n",
       "      <td>177</td>\n",
       "      <td>https://www.airbnb.com/rooms/177</td>\n",
       "      <td>20210722142814</td>\n",
       "      <td>2021-07-23</td>\n",
       "      <td>Tiny Home in the Heart of the City- ECO FRIENDLY</td>\n",
       "      <td>160 sq ft + 80 sq ft loft for sleeping, Sleeps...</td>\n",
       "      <td>Quiet neighborhood next to park, creeks and bi...</td>\n",
       "      <td>https://a0.muscache.com/pictures/a1745ab2-b3a0...</td>\n",
       "      <td>615</td>\n",
       "      <td>https://www.airbnb.com/users/show/615</td>\n",
       "      <td>...</td>\n",
       "      <td>4.76</td>\n",
       "      <td>2016-BFN-0004968</td>\n",
       "      <td>f</td>\n",
       "      <td>2</td>\n",
       "      <td>2</td>\n",
       "      <td>0</td>\n",
       "      <td>0</td>\n",
       "      <td>1.49</td>\n",
       "      <td>1.0</td>\n",
       "      <td>private</td>\n",
       "    </tr>\n",
       "    <tr>\n",
       "      <th>1</th>\n",
       "      <td>360</td>\n",
       "      <td>https://www.airbnb.com/rooms/360</td>\n",
       "      <td>20210722142814</td>\n",
       "      <td>2021-07-23</td>\n",
       "      <td>Sit in the Peaceful Garden of the Chickadee Co...</td>\n",
       "      <td>Enjoy the famous Colorado weather and unplug i...</td>\n",
       "      <td>The cottage is located in the center of Lower ...</td>\n",
       "      <td>https://a0.muscache.com/pictures/monet/Select-...</td>\n",
       "      <td>666</td>\n",
       "      <td>https://www.airbnb.com/users/show/666</td>\n",
       "      <td>...</td>\n",
       "      <td>4.91</td>\n",
       "      <td>2017-BFN-0002177</td>\n",
       "      <td>f</td>\n",
       "      <td>2</td>\n",
       "      <td>2</td>\n",
       "      <td>0</td>\n",
       "      <td>0</td>\n",
       "      <td>8.98</td>\n",
       "      <td>1.0</td>\n",
       "      <td>private</td>\n",
       "    </tr>\n",
       "    <tr>\n",
       "      <th>2</th>\n",
       "      <td>364</td>\n",
       "      <td>https://www.airbnb.com/rooms/364</td>\n",
       "      <td>20210722142814</td>\n",
       "      <td>2021-07-23</td>\n",
       "      <td>Lodo / RiNo LOFT  via airport train</td>\n",
       "      <td>Modern 1,000 square foot loft in the heart of ...</td>\n",
       "      <td>Ten brewpubs within walking distance, two grea...</td>\n",
       "      <td>https://a0.muscache.com/pictures/11766413/a2c5...</td>\n",
       "      <td>783</td>\n",
       "      <td>https://www.airbnb.com/users/show/783</td>\n",
       "      <td>...</td>\n",
       "      <td>4.71</td>\n",
       "      <td>NaN</td>\n",
       "      <td>f</td>\n",
       "      <td>1</td>\n",
       "      <td>1</td>\n",
       "      <td>0</td>\n",
       "      <td>0</td>\n",
       "      <td>0.70</td>\n",
       "      <td>1.5</td>\n",
       "      <td>private</td>\n",
       "    </tr>\n",
       "    <tr>\n",
       "      <th>3</th>\n",
       "      <td>590</td>\n",
       "      <td>https://www.airbnb.com/rooms/590</td>\n",
       "      <td>20210722142814</td>\n",
       "      <td>2021-07-23</td>\n",
       "      <td>Comfortable  - and a great value!</td>\n",
       "      <td>Large guest room in my home, where I also live...</td>\n",
       "      <td>I love the diversity of my neighborhood and it...</td>\n",
       "      <td>https://a0.muscache.com/pictures/110931/30991c...</td>\n",
       "      <td>933</td>\n",
       "      <td>https://www.airbnb.com/users/show/933</td>\n",
       "      <td>...</td>\n",
       "      <td>4.84</td>\n",
       "      <td>2021-BFN-0000578</td>\n",
       "      <td>f</td>\n",
       "      <td>2</td>\n",
       "      <td>0</td>\n",
       "      <td>2</td>\n",
       "      <td>0</td>\n",
       "      <td>7.26</td>\n",
       "      <td>1.0</td>\n",
       "      <td>shared</td>\n",
       "    </tr>\n",
       "    <tr>\n",
       "      <th>4</th>\n",
       "      <td>592</td>\n",
       "      <td>https://www.airbnb.com/rooms/592</td>\n",
       "      <td>20210722142814</td>\n",
       "      <td>2021-07-23</td>\n",
       "      <td>private</td>\n",
       "      <td>This room is in the basement.  It does not hav...</td>\n",
       "      <td>NaN</td>\n",
       "      <td>https://a0.muscache.com/pictures/miso/Hosting-...</td>\n",
       "      <td>933</td>\n",
       "      <td>https://www.airbnb.com/users/show/933</td>\n",
       "      <td>...</td>\n",
       "      <td>4.85</td>\n",
       "      <td>2021-BFN-0000578</td>\n",
       "      <td>f</td>\n",
       "      <td>2</td>\n",
       "      <td>0</td>\n",
       "      <td>2</td>\n",
       "      <td>0</td>\n",
       "      <td>1.14</td>\n",
       "      <td>1.0</td>\n",
       "      <td>shared</td>\n",
       "    </tr>\n",
       "  </tbody>\n",
       "</table>\n",
       "<p>5 rows × 28 columns</p>\n",
       "</div>"
      ],
      "text/plain": [
       "    id                       listing_url       scrape_id last_scraped  \\\n",
       "0  177  https://www.airbnb.com/rooms/177  20210722142814   2021-07-23   \n",
       "1  360  https://www.airbnb.com/rooms/360  20210722142814   2021-07-23   \n",
       "2  364  https://www.airbnb.com/rooms/364  20210722142814   2021-07-23   \n",
       "3  590  https://www.airbnb.com/rooms/590  20210722142814   2021-07-23   \n",
       "4  592  https://www.airbnb.com/rooms/592  20210722142814   2021-07-23   \n",
       "\n",
       "                                                name  \\\n",
       "0   Tiny Home in the Heart of the City- ECO FRIENDLY   \n",
       "1  Sit in the Peaceful Garden of the Chickadee Co...   \n",
       "2                Lodo / RiNo LOFT  via airport train   \n",
       "3                  Comfortable  - and a great value!   \n",
       "4                                            private   \n",
       "\n",
       "                                         description  \\\n",
       "0  160 sq ft + 80 sq ft loft for sleeping, Sleeps...   \n",
       "1  Enjoy the famous Colorado weather and unplug i...   \n",
       "2  Modern 1,000 square foot loft in the heart of ...   \n",
       "3  Large guest room in my home, where I also live...   \n",
       "4  This room is in the basement.  It does not hav...   \n",
       "\n",
       "                               neighborhood_overview  \\\n",
       "0  Quiet neighborhood next to park, creeks and bi...   \n",
       "1  The cottage is located in the center of Lower ...   \n",
       "2  Ten brewpubs within walking distance, two grea...   \n",
       "3  I love the diversity of my neighborhood and it...   \n",
       "4                                                NaN   \n",
       "\n",
       "                                         picture_url  host_id  \\\n",
       "0  https://a0.muscache.com/pictures/a1745ab2-b3a0...      615   \n",
       "1  https://a0.muscache.com/pictures/monet/Select-...      666   \n",
       "2  https://a0.muscache.com/pictures/11766413/a2c5...      783   \n",
       "3  https://a0.muscache.com/pictures/110931/30991c...      933   \n",
       "4  https://a0.muscache.com/pictures/miso/Hosting-...      933   \n",
       "\n",
       "                                host_url  ... review_scores_value  \\\n",
       "0  https://www.airbnb.com/users/show/615  ...                4.76   \n",
       "1  https://www.airbnb.com/users/show/666  ...                4.91   \n",
       "2  https://www.airbnb.com/users/show/783  ...                4.71   \n",
       "3  https://www.airbnb.com/users/show/933  ...                4.84   \n",
       "4  https://www.airbnb.com/users/show/933  ...                4.85   \n",
       "\n",
       "            license  instant_bookable  calculated_host_listings_count  \\\n",
       "0  2016-BFN-0004968                 f                               2   \n",
       "1  2017-BFN-0002177                 f                               2   \n",
       "2               NaN                 f                               1   \n",
       "3  2021-BFN-0000578                 f                               2   \n",
       "4  2021-BFN-0000578                 f                               2   \n",
       "\n",
       "   calculated_host_listings_count_entire_homes  \\\n",
       "0                                            2   \n",
       "1                                            2   \n",
       "2                                            1   \n",
       "3                                            0   \n",
       "4                                            0   \n",
       "\n",
       "   calculated_host_listings_count_private_rooms  \\\n",
       "0                                             0   \n",
       "1                                             0   \n",
       "2                                             0   \n",
       "3                                             2   \n",
       "4                                             2   \n",
       "\n",
       "   calculated_host_listings_count_shared_rooms  reviews_per_month  \\\n",
       "0                                            0               1.49   \n",
       "1                                            0               8.98   \n",
       "2                                            0               0.70   \n",
       "3                                            0               7.26   \n",
       "4                                            0               1.14   \n",
       "\n",
       "   n_bathrooms shared_private  \n",
       "0          1.0        private  \n",
       "1          1.0        private  \n",
       "2          1.5        private  \n",
       "3          1.0         shared  \n",
       "4          1.0         shared  \n",
       "\n",
       "[5 rows x 28 columns]"
      ]
     },
     "execution_count": 4,
     "metadata": {},
     "output_type": "execute_result"
    }
   ],
   "source": [
    "#removing unnecessary columns\n",
    "#can do this much more efficiently later\n",
    "host_filtered = df_host.drop(df_host.iloc[:, 11:59], axis = 1)\n",
    "host_filtered.head()\n",
    "# reviews.head()"
   ]
  },
  {
   "cell_type": "code",
   "execution_count": 5,
   "metadata": {},
   "outputs": [],
   "source": [
    "host_filtered.drop(['scrape_id', 'last_scraped', 'name', 'description', 'neighborhood_overview', 'picture_url', 'host_id', 'host_url', 'last_review'], axis = 1, inplace = True)"
   ]
  },
  {
   "cell_type": "code",
   "execution_count": 6,
   "metadata": {},
   "outputs": [
    {
     "data": {
      "text/html": [
       "<div>\n",
       "<style scoped>\n",
       "    .dataframe tbody tr th:only-of-type {\n",
       "        vertical-align: middle;\n",
       "    }\n",
       "\n",
       "    .dataframe tbody tr th {\n",
       "        vertical-align: top;\n",
       "    }\n",
       "\n",
       "    .dataframe thead th {\n",
       "        text-align: right;\n",
       "    }\n",
       "</style>\n",
       "<table border=\"1\" class=\"dataframe\">\n",
       "  <thead>\n",
       "    <tr style=\"text-align: right;\">\n",
       "      <th></th>\n",
       "      <th>id</th>\n",
       "      <th>listing_url</th>\n",
       "      <th>host_name</th>\n",
       "      <th>review_scores_rating</th>\n",
       "      <th>review_scores_accuracy</th>\n",
       "      <th>review_scores_cleanliness</th>\n",
       "      <th>review_scores_checkin</th>\n",
       "      <th>review_scores_communication</th>\n",
       "      <th>review_scores_location</th>\n",
       "      <th>review_scores_value</th>\n",
       "    </tr>\n",
       "  </thead>\n",
       "  <tbody>\n",
       "    <tr>\n",
       "      <th>0</th>\n",
       "      <td>177</td>\n",
       "      <td>https://www.airbnb.com/rooms/177</td>\n",
       "      <td>Joe</td>\n",
       "      <td>4.80</td>\n",
       "      <td>4.96</td>\n",
       "      <td>4.86</td>\n",
       "      <td>4.96</td>\n",
       "      <td>4.93</td>\n",
       "      <td>4.83</td>\n",
       "      <td>4.76</td>\n",
       "    </tr>\n",
       "    <tr>\n",
       "      <th>1</th>\n",
       "      <td>360</td>\n",
       "      <td>https://www.airbnb.com/rooms/360</td>\n",
       "      <td>Jennifer &amp; Giovanni</td>\n",
       "      <td>4.99</td>\n",
       "      <td>4.99</td>\n",
       "      <td>4.96</td>\n",
       "      <td>5.00</td>\n",
       "      <td>5.00</td>\n",
       "      <td>5.00</td>\n",
       "      <td>4.91</td>\n",
       "    </tr>\n",
       "    <tr>\n",
       "      <th>2</th>\n",
       "      <td>364</td>\n",
       "      <td>https://www.airbnb.com/rooms/364</td>\n",
       "      <td>Jason</td>\n",
       "      <td>4.85</td>\n",
       "      <td>4.78</td>\n",
       "      <td>4.81</td>\n",
       "      <td>4.95</td>\n",
       "      <td>4.96</td>\n",
       "      <td>4.65</td>\n",
       "      <td>4.71</td>\n",
       "    </tr>\n",
       "    <tr>\n",
       "      <th>3</th>\n",
       "      <td>590</td>\n",
       "      <td>https://www.airbnb.com/rooms/590</td>\n",
       "      <td>Jill</td>\n",
       "      <td>4.84</td>\n",
       "      <td>4.76</td>\n",
       "      <td>4.56</td>\n",
       "      <td>4.92</td>\n",
       "      <td>4.95</td>\n",
       "      <td>4.74</td>\n",
       "      <td>4.84</td>\n",
       "    </tr>\n",
       "    <tr>\n",
       "      <th>4</th>\n",
       "      <td>592</td>\n",
       "      <td>https://www.airbnb.com/rooms/592</td>\n",
       "      <td>Jill</td>\n",
       "      <td>4.85</td>\n",
       "      <td>4.75</td>\n",
       "      <td>4.55</td>\n",
       "      <td>4.94</td>\n",
       "      <td>4.94</td>\n",
       "      <td>4.80</td>\n",
       "      <td>4.85</td>\n",
       "    </tr>\n",
       "  </tbody>\n",
       "</table>\n",
       "</div>"
      ],
      "text/plain": [
       "    id                       listing_url            host_name  \\\n",
       "0  177  https://www.airbnb.com/rooms/177                  Joe   \n",
       "1  360  https://www.airbnb.com/rooms/360  Jennifer & Giovanni   \n",
       "2  364  https://www.airbnb.com/rooms/364                Jason   \n",
       "3  590  https://www.airbnb.com/rooms/590                 Jill   \n",
       "4  592  https://www.airbnb.com/rooms/592                 Jill   \n",
       "\n",
       "   review_scores_rating  review_scores_accuracy  review_scores_cleanliness  \\\n",
       "0                  4.80                    4.96                       4.86   \n",
       "1                  4.99                    4.99                       4.96   \n",
       "2                  4.85                    4.78                       4.81   \n",
       "3                  4.84                    4.76                       4.56   \n",
       "4                  4.85                    4.75                       4.55   \n",
       "\n",
       "   review_scores_checkin  review_scores_communication  review_scores_location  \\\n",
       "0                   4.96                         4.93                    4.83   \n",
       "1                   5.00                         5.00                    5.00   \n",
       "2                   4.95                         4.96                    4.65   \n",
       "3                   4.92                         4.95                    4.74   \n",
       "4                   4.94                         4.94                    4.80   \n",
       "\n",
       "   review_scores_value  \n",
       "0                 4.76  \n",
       "1                 4.91  \n",
       "2                 4.71  \n",
       "3                 4.84  \n",
       "4                 4.85  "
      ]
     },
     "execution_count": 6,
     "metadata": {},
     "output_type": "execute_result"
    }
   ],
   "source": [
    "host_filtered.drop(host_filtered.iloc[:, 10:], axis = 1, inplace = True)\n",
    "host_filtered.head()"
   ]
  },
  {
   "cell_type": "code",
   "execution_count": 7,
   "metadata": {},
   "outputs": [
    {
     "data": {
      "text/html": [
       "<div>\n",
       "<style scoped>\n",
       "    .dataframe tbody tr th:only-of-type {\n",
       "        vertical-align: middle;\n",
       "    }\n",
       "\n",
       "    .dataframe tbody tr th {\n",
       "        vertical-align: top;\n",
       "    }\n",
       "\n",
       "    .dataframe thead th {\n",
       "        text-align: right;\n",
       "    }\n",
       "</style>\n",
       "<table border=\"1\" class=\"dataframe\">\n",
       "  <thead>\n",
       "    <tr style=\"text-align: right;\">\n",
       "      <th></th>\n",
       "      <th>id</th>\n",
       "      <th>date</th>\n",
       "      <th>reviewer_name</th>\n",
       "      <th>comments</th>\n",
       "    </tr>\n",
       "  </thead>\n",
       "  <tbody>\n",
       "    <tr>\n",
       "      <th>0</th>\n",
       "      <td>177</td>\n",
       "      <td>2016-09-04</td>\n",
       "      <td>Brenna</td>\n",
       "      <td>Great place to stay! Definitely a tiny home, b...</td>\n",
       "    </tr>\n",
       "    <tr>\n",
       "      <th>1</th>\n",
       "      <td>177</td>\n",
       "      <td>2016-09-13</td>\n",
       "      <td>Rachael</td>\n",
       "      <td>Joe was very friendly and gave us all the info...</td>\n",
       "    </tr>\n",
       "    <tr>\n",
       "      <th>2</th>\n",
       "      <td>177</td>\n",
       "      <td>2016-09-14</td>\n",
       "      <td>Haley</td>\n",
       "      <td>Amazing property and Joe was a great host! Eve...</td>\n",
       "    </tr>\n",
       "    <tr>\n",
       "      <th>3</th>\n",
       "      <td>177</td>\n",
       "      <td>2016-09-19</td>\n",
       "      <td>Mike</td>\n",
       "      <td>Joe was a great host, the description of this ...</td>\n",
       "    </tr>\n",
       "    <tr>\n",
       "      <th>4</th>\n",
       "      <td>177</td>\n",
       "      <td>2016-09-22</td>\n",
       "      <td>Carol</td>\n",
       "      <td>He welcomes us when we first arrived and gave ...</td>\n",
       "    </tr>\n",
       "  </tbody>\n",
       "</table>\n",
       "</div>"
      ],
      "text/plain": [
       "    id        date reviewer_name  \\\n",
       "0  177  2016-09-04        Brenna   \n",
       "1  177  2016-09-13       Rachael   \n",
       "2  177  2016-09-14         Haley   \n",
       "3  177  2016-09-19          Mike   \n",
       "4  177  2016-09-22         Carol   \n",
       "\n",
       "                                            comments  \n",
       "0  Great place to stay! Definitely a tiny home, b...  \n",
       "1  Joe was very friendly and gave us all the info...  \n",
       "2  Amazing property and Joe was a great host! Eve...  \n",
       "3  Joe was a great host, the description of this ...  \n",
       "4  He welcomes us when we first arrived and gave ...  "
      ]
     },
     "execution_count": 7,
     "metadata": {},
     "output_type": "execute_result"
    }
   ],
   "source": [
    "#renaming columns for merge on ID/listng ID\n",
    "reviews.drop(['reviewer_id', 'id'], axis = 1, inplace = True)\n",
    "reviews.rename(columns = {'listing_id': 'id'}, inplace = True)\n",
    "reviews.head()"
   ]
  },
  {
   "cell_type": "code",
   "execution_count": 8,
   "metadata": {},
   "outputs": [
    {
     "data": {
      "text/html": [
       "<div>\n",
       "<style scoped>\n",
       "    .dataframe tbody tr th:only-of-type {\n",
       "        vertical-align: middle;\n",
       "    }\n",
       "\n",
       "    .dataframe tbody tr th {\n",
       "        vertical-align: top;\n",
       "    }\n",
       "\n",
       "    .dataframe thead th {\n",
       "        text-align: right;\n",
       "    }\n",
       "</style>\n",
       "<table border=\"1\" class=\"dataframe\">\n",
       "  <thead>\n",
       "    <tr style=\"text-align: right;\">\n",
       "      <th></th>\n",
       "      <th>id</th>\n",
       "      <th>host_name</th>\n",
       "      <th>review_scores_rating</th>\n",
       "      <th>review_scores_accuracy</th>\n",
       "      <th>review_scores_cleanliness</th>\n",
       "      <th>review_scores_checkin</th>\n",
       "      <th>review_scores_communication</th>\n",
       "      <th>review_scores_location</th>\n",
       "      <th>review_scores_value</th>\n",
       "    </tr>\n",
       "  </thead>\n",
       "  <tbody>\n",
       "    <tr>\n",
       "      <th>0</th>\n",
       "      <td>177</td>\n",
       "      <td>Joe</td>\n",
       "      <td>4.80</td>\n",
       "      <td>4.96</td>\n",
       "      <td>4.86</td>\n",
       "      <td>4.96</td>\n",
       "      <td>4.93</td>\n",
       "      <td>4.83</td>\n",
       "      <td>4.76</td>\n",
       "    </tr>\n",
       "    <tr>\n",
       "      <th>1</th>\n",
       "      <td>360</td>\n",
       "      <td>Jennifer &amp; Giovanni</td>\n",
       "      <td>4.99</td>\n",
       "      <td>4.99</td>\n",
       "      <td>4.96</td>\n",
       "      <td>5.00</td>\n",
       "      <td>5.00</td>\n",
       "      <td>5.00</td>\n",
       "      <td>4.91</td>\n",
       "    </tr>\n",
       "    <tr>\n",
       "      <th>2</th>\n",
       "      <td>364</td>\n",
       "      <td>Jason</td>\n",
       "      <td>4.85</td>\n",
       "      <td>4.78</td>\n",
       "      <td>4.81</td>\n",
       "      <td>4.95</td>\n",
       "      <td>4.96</td>\n",
       "      <td>4.65</td>\n",
       "      <td>4.71</td>\n",
       "    </tr>\n",
       "    <tr>\n",
       "      <th>3</th>\n",
       "      <td>590</td>\n",
       "      <td>Jill</td>\n",
       "      <td>4.84</td>\n",
       "      <td>4.76</td>\n",
       "      <td>4.56</td>\n",
       "      <td>4.92</td>\n",
       "      <td>4.95</td>\n",
       "      <td>4.74</td>\n",
       "      <td>4.84</td>\n",
       "    </tr>\n",
       "    <tr>\n",
       "      <th>4</th>\n",
       "      <td>592</td>\n",
       "      <td>Jill</td>\n",
       "      <td>4.85</td>\n",
       "      <td>4.75</td>\n",
       "      <td>4.55</td>\n",
       "      <td>4.94</td>\n",
       "      <td>4.94</td>\n",
       "      <td>4.80</td>\n",
       "      <td>4.85</td>\n",
       "    </tr>\n",
       "    <tr>\n",
       "      <th>5</th>\n",
       "      <td>686</td>\n",
       "      <td>Alexandra</td>\n",
       "      <td>4.77</td>\n",
       "      <td>4.77</td>\n",
       "      <td>4.81</td>\n",
       "      <td>4.86</td>\n",
       "      <td>4.92</td>\n",
       "      <td>4.87</td>\n",
       "      <td>4.83</td>\n",
       "    </tr>\n",
       "    <tr>\n",
       "      <th>6</th>\n",
       "      <td>1940</td>\n",
       "      <td>Joanne</td>\n",
       "      <td>4.93</td>\n",
       "      <td>4.93</td>\n",
       "      <td>4.93</td>\n",
       "      <td>5.00</td>\n",
       "      <td>4.97</td>\n",
       "      <td>4.92</td>\n",
       "      <td>4.88</td>\n",
       "    </tr>\n",
       "    <tr>\n",
       "      <th>7</th>\n",
       "      <td>31503</td>\n",
       "      <td>Rick</td>\n",
       "      <td>4.89</td>\n",
       "      <td>4.89</td>\n",
       "      <td>5.00</td>\n",
       "      <td>4.93</td>\n",
       "      <td>4.99</td>\n",
       "      <td>4.86</td>\n",
       "      <td>4.89</td>\n",
       "    </tr>\n",
       "    <tr>\n",
       "      <th>8</th>\n",
       "      <td>39405</td>\n",
       "      <td>Jennifer &amp; Giovanni</td>\n",
       "      <td>4.91</td>\n",
       "      <td>4.88</td>\n",
       "      <td>4.93</td>\n",
       "      <td>4.98</td>\n",
       "      <td>4.97</td>\n",
       "      <td>4.84</td>\n",
       "      <td>4.85</td>\n",
       "    </tr>\n",
       "    <tr>\n",
       "      <th>9</th>\n",
       "      <td>74125</td>\n",
       "      <td>Joe</td>\n",
       "      <td>4.73</td>\n",
       "      <td>4.80</td>\n",
       "      <td>4.30</td>\n",
       "      <td>4.91</td>\n",
       "      <td>4.97</td>\n",
       "      <td>4.86</td>\n",
       "      <td>4.71</td>\n",
       "    </tr>\n",
       "  </tbody>\n",
       "</table>\n",
       "</div>"
      ],
      "text/plain": [
       "      id            host_name  review_scores_rating  review_scores_accuracy  \\\n",
       "0    177                  Joe                  4.80                    4.96   \n",
       "1    360  Jennifer & Giovanni                  4.99                    4.99   \n",
       "2    364                Jason                  4.85                    4.78   \n",
       "3    590                 Jill                  4.84                    4.76   \n",
       "4    592                 Jill                  4.85                    4.75   \n",
       "5    686            Alexandra                  4.77                    4.77   \n",
       "6   1940               Joanne                  4.93                    4.93   \n",
       "7  31503                 Rick                  4.89                    4.89   \n",
       "8  39405  Jennifer & Giovanni                  4.91                    4.88   \n",
       "9  74125                  Joe                  4.73                    4.80   \n",
       "\n",
       "   review_scores_cleanliness  review_scores_checkin  \\\n",
       "0                       4.86                   4.96   \n",
       "1                       4.96                   5.00   \n",
       "2                       4.81                   4.95   \n",
       "3                       4.56                   4.92   \n",
       "4                       4.55                   4.94   \n",
       "5                       4.81                   4.86   \n",
       "6                       4.93                   5.00   \n",
       "7                       5.00                   4.93   \n",
       "8                       4.93                   4.98   \n",
       "9                       4.30                   4.91   \n",
       "\n",
       "   review_scores_communication  review_scores_location  review_scores_value  \n",
       "0                         4.93                    4.83                 4.76  \n",
       "1                         5.00                    5.00                 4.91  \n",
       "2                         4.96                    4.65                 4.71  \n",
       "3                         4.95                    4.74                 4.84  \n",
       "4                         4.94                    4.80                 4.85  \n",
       "5                         4.92                    4.87                 4.83  \n",
       "6                         4.97                    4.92                 4.88  \n",
       "7                         4.99                    4.86                 4.89  \n",
       "8                         4.97                    4.84                 4.85  \n",
       "9                         4.97                    4.86                 4.71  "
      ]
     },
     "execution_count": 8,
     "metadata": {},
     "output_type": "execute_result"
    }
   ],
   "source": [
    "df_stars = host_filtered.drop(df_host.iloc[:, 1:2], axis = 1)\n",
    "df_stars.head(10)"
   ]
  },
  {
   "cell_type": "code",
   "execution_count": 9,
   "metadata": {},
   "outputs": [
    {
     "data": {
      "image/png": "[encoded data removed]",
      "text/plain": [
       "<Figure size 432x288 with 6 Axes>"
      ]
     },
     "metadata": {
      "needs_background": "light"
     },
     "output_type": "display_data"
    }
   ],
   "source": [
    "import matplotlib.pyplot as plt\n",
    "\n",
    "fig, ax = plt.subplots(2, 3)\n",
    "fig.tight_layout()\n",
    "\n",
    "ax[0, 0].hist(df_stars[\"review_scores_value\"]) #row=0, col=0\n",
    "ax[0, 0].set_title('Value')\n",
    "ax[1, 0].hist(df_stars[\"review_scores_checkin\"]) #row=1, col=0\n",
    "ax[1, 0].set_title('Check In')\n",
    "ax[0, 1].hist(df_stars[\"review_scores_cleanliness\"]) #row=0, col=1\n",
    "ax[0, 1].set_title('Cleanliness')\n",
    "ax[1, 1].hist(df_stars[\"review_scores_communication\"]) #row=1, col=1\n",
    "ax[1, 1].set_title('Communication')\n",
    "ax[1, 2].hist(df_stars[\"review_scores_location\"]) #row=1, col=2\n",
    "ax[1 ,2].set_title('Location')\n",
    "plt.show()"
   ]
  },
  {
   "cell_type": "code",
   "execution_count": 10,
   "metadata": {},
   "outputs": [
    {
     "data": {
      "text/html": [
       "<div>\n",
       "<style scoped>\n",
       "    .dataframe tbody tr th:only-of-type {\n",
       "        vertical-align: middle;\n",
       "    }\n",
       "\n",
       "    .dataframe tbody tr th {\n",
       "        vertical-align: top;\n",
       "    }\n",
       "\n",
       "    .dataframe thead th {\n",
       "        text-align: right;\n",
       "    }\n",
       "</style>\n",
       "<table border=\"1\" class=\"dataframe\">\n",
       "  <thead>\n",
       "    <tr style=\"text-align: right;\">\n",
       "      <th></th>\n",
       "      <th>id</th>\n",
       "      <th>listing_url</th>\n",
       "      <th>host_name</th>\n",
       "      <th>review_scores_rating</th>\n",
       "      <th>review_scores_accuracy</th>\n",
       "      <th>review_scores_cleanliness</th>\n",
       "      <th>review_scores_checkin</th>\n",
       "      <th>review_scores_communication</th>\n",
       "      <th>review_scores_location</th>\n",
       "      <th>review_scores_value</th>\n",
       "      <th>price</th>\n",
       "    </tr>\n",
       "  </thead>\n",
       "  <tbody>\n",
       "    <tr>\n",
       "      <th>0</th>\n",
       "      <td>177</td>\n",
       "      <td>https://www.airbnb.com/rooms/177</td>\n",
       "      <td>Joe</td>\n",
       "      <td>4.80</td>\n",
       "      <td>4.96</td>\n",
       "      <td>4.86</td>\n",
       "      <td>4.96</td>\n",
       "      <td>4.93</td>\n",
       "      <td>4.83</td>\n",
       "      <td>4.76</td>\n",
       "      <td>99.0</td>\n",
       "    </tr>\n",
       "    <tr>\n",
       "      <th>1</th>\n",
       "      <td>360</td>\n",
       "      <td>https://www.airbnb.com/rooms/360</td>\n",
       "      <td>Jennifer &amp; Giovanni</td>\n",
       "      <td>4.99</td>\n",
       "      <td>4.99</td>\n",
       "      <td>4.96</td>\n",
       "      <td>5.00</td>\n",
       "      <td>5.00</td>\n",
       "      <td>5.00</td>\n",
       "      <td>4.91</td>\n",
       "      <td>135.0</td>\n",
       "    </tr>\n",
       "    <tr>\n",
       "      <th>2</th>\n",
       "      <td>364</td>\n",
       "      <td>https://www.airbnb.com/rooms/364</td>\n",
       "      <td>Jason</td>\n",
       "      <td>4.85</td>\n",
       "      <td>4.78</td>\n",
       "      <td>4.81</td>\n",
       "      <td>4.95</td>\n",
       "      <td>4.96</td>\n",
       "      <td>4.65</td>\n",
       "      <td>4.71</td>\n",
       "      <td>179.0</td>\n",
       "    </tr>\n",
       "    <tr>\n",
       "      <th>3</th>\n",
       "      <td>590</td>\n",
       "      <td>https://www.airbnb.com/rooms/590</td>\n",
       "      <td>Jill</td>\n",
       "      <td>4.84</td>\n",
       "      <td>4.76</td>\n",
       "      <td>4.56</td>\n",
       "      <td>4.92</td>\n",
       "      <td>4.95</td>\n",
       "      <td>4.74</td>\n",
       "      <td>4.84</td>\n",
       "      <td>55.0</td>\n",
       "    </tr>\n",
       "    <tr>\n",
       "      <th>4</th>\n",
       "      <td>592</td>\n",
       "      <td>https://www.airbnb.com/rooms/592</td>\n",
       "      <td>Jill</td>\n",
       "      <td>4.85</td>\n",
       "      <td>4.75</td>\n",
       "      <td>4.55</td>\n",
       "      <td>4.94</td>\n",
       "      <td>4.94</td>\n",
       "      <td>4.80</td>\n",
       "      <td>4.85</td>\n",
       "      <td>52.0</td>\n",
       "    </tr>\n",
       "  </tbody>\n",
       "</table>\n",
       "</div>"
      ],
      "text/plain": [
       "    id                       listing_url            host_name  \\\n",
       "0  177  https://www.airbnb.com/rooms/177                  Joe   \n",
       "1  360  https://www.airbnb.com/rooms/360  Jennifer & Giovanni   \n",
       "2  364  https://www.airbnb.com/rooms/364                Jason   \n",
       "3  590  https://www.airbnb.com/rooms/590                 Jill   \n",
       "4  592  https://www.airbnb.com/rooms/592                 Jill   \n",
       "\n",
       "   review_scores_rating  review_scores_accuracy  review_scores_cleanliness  \\\n",
       "0                  4.80                    4.96                       4.86   \n",
       "1                  4.99                    4.99                       4.96   \n",
       "2                  4.85                    4.78                       4.81   \n",
       "3                  4.84                    4.76                       4.56   \n",
       "4                  4.85                    4.75                       4.55   \n",
       "\n",
       "   review_scores_checkin  review_scores_communication  review_scores_location  \\\n",
       "0                   4.96                         4.93                    4.83   \n",
       "1                   5.00                         5.00                    5.00   \n",
       "2                   4.95                         4.96                    4.65   \n",
       "3                   4.92                         4.95                    4.74   \n",
       "4                   4.94                         4.94                    4.80   \n",
       "\n",
       "   review_scores_value  price  \n",
       "0                 4.76   99.0  \n",
       "1                 4.91  135.0  \n",
       "2                 4.71  179.0  \n",
       "3                 4.84   55.0  \n",
       "4                 4.85   52.0  "
      ]
     },
     "execution_count": 10,
     "metadata": {},
     "output_type": "execute_result"
    }
   ],
   "source": [
    "#plot score rating by loc\n",
    "#if host has multiple listings, take average\n",
    "\n",
    "#appending price col to host_filtered\n",
    "price = df_host['price']\n",
    "\n",
    "host_filtered = host_filtered.join(price)\n",
    "host_filtered.head()\n"
   ]
  },
  {
   "cell_type": "code",
   "execution_count": 11,
   "metadata": {},
   "outputs": [
    {
     "data": {
      "text/html": [
       "<div>\n",
       "<style scoped>\n",
       "    .dataframe tbody tr th:only-of-type {\n",
       "        vertical-align: middle;\n",
       "    }\n",
       "\n",
       "    .dataframe tbody tr th {\n",
       "        vertical-align: top;\n",
       "    }\n",
       "\n",
       "    .dataframe thead th {\n",
       "        text-align: right;\n",
       "    }\n",
       "</style>\n",
       "<table border=\"1\" class=\"dataframe\">\n",
       "  <thead>\n",
       "    <tr style=\"text-align: right;\">\n",
       "      <th></th>\n",
       "      <th>id</th>\n",
       "      <th>date</th>\n",
       "      <th>reviewer_name</th>\n",
       "      <th>comments</th>\n",
       "      <th>listing_url</th>\n",
       "      <th>host_name</th>\n",
       "      <th>review_scores_rating</th>\n",
       "      <th>review_scores_value</th>\n",
       "      <th>price</th>\n",
       "    </tr>\n",
       "  </thead>\n",
       "  <tbody>\n",
       "    <tr>\n",
       "      <th>0</th>\n",
       "      <td>177</td>\n",
       "      <td>2016-09-04</td>\n",
       "      <td>Brenna</td>\n",
       "      <td>Great place to stay! Definitely a tiny home, b...</td>\n",
       "      <td>https://www.airbnb.com/rooms/177</td>\n",
       "      <td>Joe</td>\n",
       "      <td>4.8</td>\n",
       "      <td>4.76</td>\n",
       "      <td>99.0</td>\n",
       "    </tr>\n",
       "    <tr>\n",
       "      <th>1</th>\n",
       "      <td>177</td>\n",
       "      <td>2016-09-13</td>\n",
       "      <td>Rachael</td>\n",
       "      <td>Joe was very friendly and gave us all the info...</td>\n",
       "      <td>https://www.airbnb.com/rooms/177</td>\n",
       "      <td>Joe</td>\n",
       "      <td>4.8</td>\n",
       "      <td>4.76</td>\n",
       "      <td>99.0</td>\n",
       "    </tr>\n",
       "    <tr>\n",
       "      <th>2</th>\n",
       "      <td>177</td>\n",
       "      <td>2016-09-14</td>\n",
       "      <td>Haley</td>\n",
       "      <td>Amazing property and Joe was a great host! Eve...</td>\n",
       "      <td>https://www.airbnb.com/rooms/177</td>\n",
       "      <td>Joe</td>\n",
       "      <td>4.8</td>\n",
       "      <td>4.76</td>\n",
       "      <td>99.0</td>\n",
       "    </tr>\n",
       "    <tr>\n",
       "      <th>3</th>\n",
       "      <td>177</td>\n",
       "      <td>2016-09-19</td>\n",
       "      <td>Mike</td>\n",
       "      <td>Joe was a great host, the description of this ...</td>\n",
       "      <td>https://www.airbnb.com/rooms/177</td>\n",
       "      <td>Joe</td>\n",
       "      <td>4.8</td>\n",
       "      <td>4.76</td>\n",
       "      <td>99.0</td>\n",
       "    </tr>\n",
       "    <tr>\n",
       "      <th>4</th>\n",
       "      <td>177</td>\n",
       "      <td>2016-09-22</td>\n",
       "      <td>Carol</td>\n",
       "      <td>He welcomes us when we first arrived and gave ...</td>\n",
       "      <td>https://www.airbnb.com/rooms/177</td>\n",
       "      <td>Joe</td>\n",
       "      <td>4.8</td>\n",
       "      <td>4.76</td>\n",
       "      <td>99.0</td>\n",
       "    </tr>\n",
       "  </tbody>\n",
       "</table>\n",
       "</div>"
      ],
      "text/plain": [
       "    id        date reviewer_name  \\\n",
       "0  177  2016-09-04        Brenna   \n",
       "1  177  2016-09-13       Rachael   \n",
       "2  177  2016-09-14         Haley   \n",
       "3  177  2016-09-19          Mike   \n",
       "4  177  2016-09-22         Carol   \n",
       "\n",
       "                                            comments  \\\n",
       "0  Great place to stay! Definitely a tiny home, b...   \n",
       "1  Joe was very friendly and gave us all the info...   \n",
       "2  Amazing property and Joe was a great host! Eve...   \n",
       "3  Joe was a great host, the description of this ...   \n",
       "4  He welcomes us when we first arrived and gave ...   \n",
       "\n",
       "                        listing_url host_name  review_scores_rating  \\\n",
       "0  https://www.airbnb.com/rooms/177       Joe                   4.8   \n",
       "1  https://www.airbnb.com/rooms/177       Joe                   4.8   \n",
       "2  https://www.airbnb.com/rooms/177       Joe                   4.8   \n",
       "3  https://www.airbnb.com/rooms/177       Joe                   4.8   \n",
       "4  https://www.airbnb.com/rooms/177       Joe                   4.8   \n",
       "\n",
       "   review_scores_value  price  \n",
       "0                 4.76   99.0  \n",
       "1                 4.76   99.0  \n",
       "2                 4.76   99.0  \n",
       "3                 4.76   99.0  \n",
       "4                 4.76   99.0  "
      ]
     },
     "execution_count": 11,
     "metadata": {},
     "output_type": "execute_result"
    }
   ],
   "source": [
    "df_merged = pd.merge(reviews, host_filtered, on = 'id')\n",
    "#Removing review scores for this df\n",
    "df_merged.drop(df_merged.iloc[:, 7:12], axis = 1, inplace = True)\n",
    "df_merged.head()"
   ]
  },
  {
   "cell_type": "code",
   "execution_count": 12,
   "metadata": {},
   "outputs": [
    {
     "data": {
      "text/plain": [
       "134"
      ]
     },
     "execution_count": 12,
     "metadata": {},
     "output_type": "execute_result"
    }
   ],
   "source": [
    "#Check missing values\n",
    "df_merged.drop(['review_scores_value'], axis = 1, inplace = True)\n",
    "df_merged['comments'].isna().sum()"
   ]
  },
  {
   "cell_type": "code",
   "execution_count": 13,
   "metadata": {},
   "outputs": [],
   "source": [
    "import itertools\n",
    "import collections\n",
    "\n",
    "#convert text to lowercase\n",
    "def convert(lst): \n",
    "    return ([i for item in lst for i in item.lower().split()]) \n",
    "\n",
    "filtered_comments = convert(df_merged['comments'].fillna(\"\")) #Fill in missing reviews with blank\n"
   ]
  },
  {
   "cell_type": "code",
   "execution_count": 14,
   "metadata": {},
   "outputs": [
    {
     "data": {
      "text/html": [
       "<div>\n",
       "<style scoped>\n",
       "    .dataframe tbody tr th:only-of-type {\n",
       "        vertical-align: middle;\n",
       "    }\n",
       "\n",
       "    .dataframe tbody tr th {\n",
       "        vertical-align: top;\n",
       "    }\n",
       "\n",
       "    .dataframe thead th {\n",
       "        text-align: right;\n",
       "    }\n",
       "</style>\n",
       "<table border=\"1\" class=\"dataframe\">\n",
       "  <thead>\n",
       "    <tr style=\"text-align: right;\">\n",
       "      <th></th>\n",
       "      <th>words</th>\n",
       "      <th>count</th>\n",
       "    </tr>\n",
       "  </thead>\n",
       "  <tbody>\n",
       "    <tr>\n",
       "      <th>0</th>\n",
       "      <td>and</td>\n",
       "      <td>427974</td>\n",
       "    </tr>\n",
       "    <tr>\n",
       "      <th>1</th>\n",
       "      <td>the</td>\n",
       "      <td>368712</td>\n",
       "    </tr>\n",
       "    <tr>\n",
       "      <th>2</th>\n",
       "      <td>to</td>\n",
       "      <td>267911</td>\n",
       "    </tr>\n",
       "    <tr>\n",
       "      <th>3</th>\n",
       "      <td>a</td>\n",
       "      <td>256889</td>\n",
       "    </tr>\n",
       "    <tr>\n",
       "      <th>4</th>\n",
       "      <td>was</td>\n",
       "      <td>231467</td>\n",
       "    </tr>\n",
       "  </tbody>\n",
       "</table>\n",
       "</div>"
      ],
      "text/plain": [
       "  words   count\n",
       "0   and  427974\n",
       "1   the  368712\n",
       "2    to  267911\n",
       "3     a  256889\n",
       "4   was  231467"
      ]
     },
     "execution_count": 14,
     "metadata": {},
     "output_type": "execute_result"
    }
   ],
   "source": [
    "count_word = collections.Counter(filtered_comments) #Count word frequency\n",
    "\n",
    "clean_word_count = pd.DataFrame(count_word.most_common(5),\n",
    "                             columns=['words', 'count'])\n",
    "\n",
    "clean_word_count.head()\n"
   ]
  },
  {
   "cell_type": "code",
   "execution_count": 15,
   "metadata": {},
   "outputs": [
    {
     "name": "stderr",
     "output_type": "stream",
     "text": [
      "[nltk_data] Downloading package stopwords to /Users/yobae/nltk_data...\n",
      "[nltk_data]   Package stopwords is already up-to-date!\n"
     ]
    },
    {
     "data": {
      "text/plain": [
       "True"
      ]
     },
     "execution_count": 15,
     "metadata": {},
     "output_type": "execute_result"
    }
   ],
   "source": [
    "import nltk\n",
    "from nltk.corpus import stopwords\n",
    "nltk.download('stopwords')"
   ]
  },
  {
   "cell_type": "code",
   "execution_count": 16,
   "metadata": {},
   "outputs": [
    {
     "data": {
      "text/plain": [
       "['me', 'himself', 'haven', 'aren', 'hers', 'a', 'am', 'does', 'before', 'with']"
      ]
     },
     "execution_count": 16,
     "metadata": {},
     "output_type": "execute_result"
    }
   ],
   "source": [
    "stop_words = set(stopwords.words(['english']))\n",
    "#View sample set of stopwords\n",
    "list(stop_words)[0:10]"
   ]
  },
  {
   "cell_type": "code",
   "execution_count": 17,
   "metadata": {},
   "outputs": [],
   "source": [
    "words_review_cleaned = [word for word in filtered_comments if word not in stop_words]\n",
    "words_review_count = collections.Counter(words_review_cleaned)\n",
    "\n",
    "word_review_count_df = pd.DataFrame(words_review_count.most_common(15),\n",
    "                             columns=['words', 'count'])"
   ]
  },
  {
   "cell_type": "code",
   "execution_count": 18,
   "metadata": {},
   "outputs": [],
   "source": [
    "import matplotlib.pyplot as plt"
   ]
  },
  {
   "cell_type": "code",
   "execution_count": 19,
   "metadata": {},
   "outputs": [
    {
     "data": {
      "image/png": "[encoded data removed]",
      "text/plain": [
       "<Figure size 576x576 with 1 Axes>"
      ]
     },
     "metadata": {
      "needs_background": "light"
     },
     "output_type": "display_data"
    }
   ],
   "source": [
    "fig, ax = plt.subplots(figsize=(8, 8))\n",
    "\n",
    "# Plot horizontal bar graph\n",
    "word_review_count_df.sort_values(by='count').plot.barh(x='words',\n",
    "                      y='count',\n",
    "                      ax=ax,\n",
    "                      color=\"purple\")\n",
    "\n",
    "ax.set_title(\"Most Frequent Words\")\n",
    "\n",
    "plt.show()"
   ]
  },
  {
   "cell_type": "code",
   "execution_count": 20,
   "metadata": {},
   "outputs": [
    {
     "name": "stdout",
     "output_type": "stream",
     "text": [
      "<class 'pandas.core.frame.DataFrame'>\n",
      "Int64Index: 215316 entries, 0 to 215315\n",
      "Data columns (total 8 columns):\n",
      " #   Column                Non-Null Count   Dtype  \n",
      "---  ------                --------------   -----  \n",
      " 0   id                    215316 non-null  int64  \n",
      " 1   date                  215316 non-null  object \n",
      " 2   reviewer_name         215316 non-null  object \n",
      " 3   comments              215182 non-null  object \n",
      " 4   listing_url           215316 non-null  object \n",
      " 5   host_name             215316 non-null  object \n",
      " 6   review_scores_rating  214443 non-null  float64\n",
      " 7   price                 215316 non-null  float64\n",
      "dtypes: float64(2), int64(1), object(5)\n",
      "memory usage: 14.8+ MB\n"
     ]
    }
   ],
   "source": [
    "df_merged.info()"
   ]
  },
  {
   "cell_type": "code",
   "execution_count": 21,
   "metadata": {},
   "outputs": [
    {
     "data": {
      "text/plain": [
       "(215316, 8)"
      ]
     },
     "execution_count": 21,
     "metadata": {},
     "output_type": "execute_result"
    }
   ],
   "source": [
    "df_merged.shape\n",
    "# df_sample_set = df_merged.iloc[0:100000, :]\n",
    "# df_sample_set.head()"
   ]
  },
  {
   "cell_type": "code",
   "execution_count": 22,
   "metadata": {},
   "outputs": [
    {
     "name": "stderr",
     "output_type": "stream",
     "text": [
      "[nltk_data] Downloading package vader_lexicon to\n",
      "[nltk_data]     /Users/yobae/nltk_data...\n",
      "[nltk_data]   Package vader_lexicon is already up-to-date!\n"
     ]
    },
    {
     "data": {
      "text/plain": [
       "True"
      ]
     },
     "execution_count": 22,
     "metadata": {},
     "output_type": "execute_result"
    }
   ],
   "source": [
    "from nltk.sentiment.vader import SentimentIntensityAnalyzer\n",
    "nltk.download('vader_lexicon')"
   ]
  },
  {
   "cell_type": "code",
   "execution_count": 23,
   "metadata": {},
   "outputs": [],
   "source": [
    "#Identifying PScores with builtin Vader SIA\n",
    "SIA = SentimentIntensityAnalyzer()"
   ]
  },
  {
   "cell_type": "markdown",
   "metadata": {},
   "source": [
    "positive sentiment: score >= 0.05\n",
    "neutral sentiment: score > -0.05 and score < 0.05\n",
    "negative sentiment: score <= -0.05"
   ]
  },
  {
   "cell_type": "code",
   "execution_count": 24,
   "metadata": {},
   "outputs": [],
   "source": [
    "# df_sample_set.drop(['listing_url', 'host_name', 'price'], axis = 1, inplace = True)\n",
    "df_merged.drop(['listing_url', 'host_name'], axis = 1, inplace = True)"
   ]
  },
  {
   "cell_type": "code",
   "execution_count": 25,
   "metadata": {},
   "outputs": [],
   "source": [
    "df_merged['comments'] = df_merged[\"comments\"].apply(str)"
   ]
  },
  {
   "cell_type": "code",
   "execution_count": 26,
   "metadata": {},
   "outputs": [
    {
     "name": "stdout",
     "output_type": "stream",
     "text": [
      "<class 'pandas.core.frame.DataFrame'>\n",
      "Int64Index: 215316 entries, 0 to 215315\n",
      "Data columns (total 6 columns):\n",
      " #   Column                Non-Null Count   Dtype  \n",
      "---  ------                --------------   -----  \n",
      " 0   id                    215316 non-null  int64  \n",
      " 1   date                  215316 non-null  object \n",
      " 2   reviewer_name         215316 non-null  object \n",
      " 3   comments              215316 non-null  object \n",
      " 4   review_scores_rating  214443 non-null  float64\n",
      " 5   price                 215316 non-null  float64\n",
      "dtypes: float64(2), int64(1), object(3)\n",
      "memory usage: 11.5+ MB\n"
     ]
    }
   ],
   "source": [
    "# df_sample_set.fillna(0, inplace = True)\n",
    "df_merged.info()"
   ]
  },
  {
   "cell_type": "code",
   "execution_count": 27,
   "metadata": {},
   "outputs": [],
   "source": [
    "from nltk.stem import PorterStemmer, WordNetLemmatizer"
   ]
  },
  {
   "cell_type": "markdown",
   "metadata": {},
   "source": [
    "More data clenaing\n",
    "Extracting root words and removing punctuation etc."
   ]
  },
  {
   "cell_type": "code",
   "execution_count": 28,
   "metadata": {},
   "outputs": [],
   "source": [
    "#Grabbing root words\n",
    "p_stemmer = PorterStemmer()\n",
    "def stem(sentence):\n",
    "    tokens = sentence.split()\n",
    "    stemmed_tokens = [p_stemmer.stem(token) for token in tokens]\n",
    "    return ' '.join(stemmed_tokens)\n",
    "\n",
    "# df_sample_set = df_sample_set[df_sample_set['comments'].notnull()]\n",
    "df_merged = df_merged[df_merged['comments'].notnull()]\n",
    "df_merged['comments'] = df_merged['comments'].apply(stem)"
   ]
  },
  {
   "cell_type": "code",
   "execution_count": 29,
   "metadata": {},
   "outputs": [],
   "source": [
    "pd.options.mode.chained_assignment = None\n",
    "stopwords_list = set(stopwords.words(\"english\"))\n",
    "#List of punctuation to remove\n",
    "#Handle html tags?\n",
    "punctuations = \"\"\"!()-![]{};:,+'\"\\,<>./?@#$%^&*_~Â\"\"\" \n",
    "\n",
    "def reviewParse(comments):\n",
    "    #Split the review into words\n",
    "    splitReview = comments.split()\n",
    "    #Takes punctuation out\n",
    "    parsedReview = \" \".join([word.translate(str.maketrans('', '', punctuations)) + \" \" for word in splitReview])\n",
    "    return parsedReview\n",
    "  \n",
    "def clean_review(comments):\n",
    "    #Makes all words lowercase\n",
    "    clean_words = []\n",
    "    splitReview = comments.split()\n",
    "    for w in splitReview:\n",
    "        if w.isalpha() and w not in stopwords_list:\n",
    "            clean_words.append(w.lower())\n",
    "    #Joins split words back into sentence\n",
    "    clean_review = \" \".join(clean_words)\n",
    "    return clean_review\n",
    "\n",
    "df_merged = df_merged[df_merged['comments'].notnull()]\n",
    "df_merged['comments'] = df_merged['comments'].apply(reviewParse).apply(clean_review)"
   ]
  },
  {
   "cell_type": "code",
   "execution_count": 30,
   "metadata": {},
   "outputs": [
    {
     "name": "stdout",
     "output_type": "stream",
     "text": [
      "<class 'pandas.core.frame.DataFrame'>\n",
      "Int64Index: 215182 entries, 0 to 215315\n",
      "Data columns (total 8 columns):\n",
      " #   Column                Non-Null Count   Dtype  \n",
      "---  ------                --------------   -----  \n",
      " 0   id                    215182 non-null  int64  \n",
      " 1   date                  215182 non-null  object \n",
      " 2   reviewer_name         215182 non-null  object \n",
      " 3   comments              215182 non-null  object \n",
      " 4   listing_url           215182 non-null  object \n",
      " 5   host_name             215182 non-null  object \n",
      " 6   review_scores_rating  214309 non-null  float64\n",
      " 7   price                 215182 non-null  float64\n",
      "dtypes: float64(2), int64(1), object(5)\n",
      "memory usage: 14.8+ MB\n"
     ]
    }
   ],
   "source": [
    "#This does not properly rounds all values, no 1 or 2 ratings\n",
    "#Need to find way to properly round values down beforehand\n",
    "# df_sample_set['review_scores_rating'] = df_sample_set['review_scores_rating'].astype(np.int64)\n",
    "# df_sample_set.info()\n",
    "df_merged.info()"
   ]
  },
  {
   "cell_type": "code",
   "execution_count": 31,
   "metadata": {},
   "outputs": [],
   "source": [
    "# # df_sample_set['Sentiment'] = df_sample_set['review_scores_rating'].round(decimals = 2).apply(sentiment)\n",
    "# # df_sample_set.loc('comments')\n",
    "# df_test = pd.DataFrame()\n",
    "# # df_test['sentiment'] = df_test['round_review'].apply(sentiment)\n",
    "# # print(type(df_clean['review_scores_rating']))\n",
    "# df_test.info()\n",
    "# # df_test.head()"
   ]
  },
  {
   "cell_type": "code",
   "execution_count": 65,
   "metadata": {},
   "outputs": [],
   "source": [
    "docs = list(df_merged['comments'])[:100000]"
   ]
  },
  {
   "cell_type": "markdown",
   "metadata": {},
   "source": [
    "- tfidf(t, d, D) = tf(t, d) * idf(t, D)\n",
    "- t = term\n",
    "- d = document\n",
    "- D = set of documents\n",
    "- TF-IDF provides a weight\n",
    "- This weight is a statistical measure used to evaluate how important \n",
    "a word is to a document in a collection or corpus. \n",
    "- The importance increases proportionally to the number of times a \n",
    "word appears in the document but is offset by the frequency of \n",
    "the word in the corpus (data-set)."
   ]
  },
  {
   "cell_type": "code",
   "execution_count": 30,
   "metadata": {},
   "outputs": [
    {
     "name": "stdout",
     "output_type": "stream",
     "text": [
      "great tini home veri eco friendli owner veri veri nice\n",
      "compound: 0.7845, neg: 0.0, neu: 0.537, pos: 0.463, \n",
      "joe wa welcoming explain detail tini hous gave us suggest place eat neighborhood\n",
      "compound: 0.4404, neg: 0.0, neu: 0.805, pos: 0.195, \n",
      "experi wa great joe wa veri kind welcoming place wa perfect enjoy tini home experience\n",
      "compound: 0.9538, neg: 0.0, neu: 0.366, pos: 0.634, \n",
      "joe place wa everyth hope would wa veri consider host definit stay next trip colorado\n",
      "compound: 0.4404, neg: 0.0, neu: 0.828, pos: 0.172, \n",
      "joe great host along hi famili deagan dog would describ tini hous like cottag went weekend need quiet safe space got itbrbrsnow\n",
      "compound: 0.8591, neg: 0.0, neu: 0.667, pos: 0.333, \n"
     ]
    }
   ],
   "source": [
    "#Running SIA on cleaned dataset\n",
    "SIA = SentimentIntensityAnalyzer()\n",
    "for sentence in df_merged['comments'].values[5:10]:\n",
    "    print(sentence)\n",
    "    ss = SIA.polarity_scores(sentence)\n",
    "    for k in sorted(ss):\n",
    "        print('{0}: {1}, '.format(k, ss[k]), end='')\n",
    "    print()"
   ]
  },
  {
   "cell_type": "code",
   "execution_count": 34,
   "metadata": {},
   "outputs": [
    {
     "name": "stdout",
     "output_type": "stream",
     "text": [
      "0.03934857745018719\n"
     ]
    }
   ],
   "source": [
    "#Correlation between original stars rating and price is low\n",
    "corr_1 = df_host[\"review_scores_rating\"]\n",
    "corr_2 = df_host[\"price\"]\n",
    "correlation = corr_2.corr(corr_1)\n",
    "print(correlation)"
   ]
  },
  {
   "cell_type": "code",
   "execution_count": 66,
   "metadata": {},
   "outputs": [],
   "source": [
    "from sklearn.feature_extraction.text import TfidfVectorizer \n",
    " \n",
    "#Settings for count vectorizer\n",
    "tfidf_vectorizer = TfidfVectorizer(use_idf=True, max_features = 2000) \n",
    " \n",
    "#Send all docs here \n",
    "tfidf_vectorizer_vectors = tfidf_vectorizer.fit_transform(docs)"
   ]
  },
  {
   "cell_type": "code",
   "execution_count": null,
   "metadata": {},
   "outputs": [],
   "source": [
    "# print(tfidf_vectorizer.get_feature_names())"
   ]
  },
  {
   "cell_type": "code",
   "execution_count": 154,
   "metadata": {},
   "outputs": [],
   "source": [
    "import plotly.graph_objs as go"
   ]
  },
  {
   "cell_type": "code",
   "execution_count": 155,
   "metadata": {},
   "outputs": [
    {
     "data": {
      "application/vnd.plotly.v1+json": {
       "config": {
        "plotlyServerURL": "https://plot.ly"
       },
       "data": [
        {
         "type": "bar",
         "x": [
          4.94,
          4.95,
          4.96,
          4.93,
          4.97,
          5,
          4.91,
          4.88,
          4.89,
          4.9,
          4.92,
          4.99,
          4.87,
          4.98,
          4.86,
          4.84,
          4.79,
          4.83,
          4.85,
          4.82,
          4.78,
          4.81,
          4.7,
          4.72,
          4.8,
          4.77,
          4.74,
          4.73,
          4.69,
          4.63,
          4.68,
          4.76,
          4.75,
          4.71,
          4.57,
          4.67,
          4.64,
          4.61,
          4.56,
          4.62,
          4.54,
          4.58,
          4.5,
          4.6,
          4.65,
          4.47,
          4.53,
          4.59,
          4.66,
          4.39,
          4.19,
          4,
          4.48,
          4.55,
          4.33,
          4.46,
          4.29,
          4.43,
          4.25,
          4.27,
          4.52,
          4.45,
          4.49,
          4.23,
          4.15,
          4.24,
          4.3,
          4.42,
          4.4,
          4.2,
          4.44,
          3.67,
          4.38,
          3.93,
          3.33,
          3.78,
          3.5,
          3,
          4.17,
          4.14,
          3.6,
          1,
          3.8,
          0,
          2,
          3.75,
          2.5
         ],
         "y": [
          14250,
          12868,
          12426,
          12244,
          12111,
          12039,
          11451,
          9312,
          7894,
          7881,
          7546,
          7209,
          6429,
          6173,
          5998,
          5705,
          5426,
          5025,
          4942,
          4593,
          4289,
          4180,
          2736,
          2666,
          2595,
          2377,
          2282,
          1785,
          1781,
          1737,
          1649,
          1530,
          1509,
          1366,
          1165,
          1028,
          901,
          763,
          639,
          586,
          581,
          494,
          454,
          454,
          440,
          392,
          387,
          334,
          204,
          170,
          165,
          152,
          134,
          106,
          106,
          85,
          77,
          61,
          52,
          49,
          48,
          45,
          41,
          36,
          28,
          26,
          25,
          21,
          20,
          19,
          17,
          17,
          16,
          14,
          13,
          10,
          9,
          8,
          8,
          7,
          7,
          6,
          5,
          4,
          4,
          4,
          2
         ]
        }
       ],
       "layout": {
        "template": {
         "data": {
          "bar": [
           {
            "error_x": {
             "color": "#2a3f5f"
            },
            "error_y": {
             "color": "#2a3f5f"
            },
            "marker": {
             "line": {
              "color": "#E5ECF6",
              "width": 0.5
             },
             "pattern": {
              "fillmode": "overlay",
              "size": 10,
              "solidity": 0.2
             }
            },
            "type": "bar"
           }
          ],
          "barpolar": [
           {
            "marker": {
             "line": {
              "color": "#E5ECF6",
              "width": 0.5
             },
             "pattern": {
              "fillmode": "overlay",
              "size": 10,
              "solidity": 0.2
             }
            },
            "type": "barpolar"
           }
          ],
          "carpet": [
           {
            "aaxis": {
             "endlinecolor": "#2a3f5f",
             "gridcolor": "white",
             "linecolor": "white",
             "minorgridcolor": "white",
             "startlinecolor": "#2a3f5f"
            },
            "baxis": {
             "endlinecolor": "#2a3f5f",
             "gridcolor": "white",
             "linecolor": "white",
             "minorgridcolor": "white",
             "startlinecolor": "#2a3f5f"
            },
            "type": "carpet"
           }
          ],
          "choropleth": [
           {
            "colorbar": {
             "outlinewidth": 0,
             "ticks": ""
            },
            "type": "choropleth"
           }
          ],
          "contour": [
           {
            "colorbar": {
             "outlinewidth": 0,
             "ticks": ""
            },
            "colorscale": [
             [
              0,
              "#0d0887"
             ],
             [
              0.1111111111111111,
              "#46039f"
             ],
             [
              0.2222222222222222,
              "#7201a8"
             ],
             [
              0.3333333333333333,
              "#9c179e"
             ],
             [
              0.4444444444444444,
              "#bd3786"
             ],
             [
              0.5555555555555556,
              "#d8576b"
             ],
             [
              0.6666666666666666,
              "#ed7953"
             ],
             [
              0.7777777777777778,
              "#fb9f3a"
             ],
             [
              0.8888888888888888,
              "#fdca26"
             ],
             [
              1,
              "#f0f921"
             ]
            ],
            "type": "contour"
           }
          ],
          "contourcarpet": [
           {
            "colorbar": {
             "outlinewidth": 0,
             "ticks": ""
            },
            "type": "contourcarpet"
           }
          ],
          "heatmap": [
           {
            "colorbar": {
             "outlinewidth": 0,
             "ticks": ""
            },
            "colorscale": [
             [
              0,
              "#0d0887"
             ],
             [
              0.1111111111111111,
              "#46039f"
             ],
             [
              0.2222222222222222,
              "#7201a8"
             ],
             [
              0.3333333333333333,
              "#9c179e"
             ],
             [
              0.4444444444444444,
              "#bd3786"
             ],
             [
              0.5555555555555556,
              "#d8576b"
             ],
             [
              0.6666666666666666,
              "#ed7953"
             ],
             [
              0.7777777777777778,
              "#fb9f3a"
             ],
             [
              0.8888888888888888,
              "#fdca26"
             ],
             [
              1,
              "#f0f921"
             ]
            ],
            "type": "heatmap"
           }
          ],
          "heatmapgl": [
           {
            "colorbar": {
             "outlinewidth": 0,
             "ticks": ""
            },
            "colorscale": [
             [
              0,
              "#0d0887"
             ],
             [
              0.1111111111111111,
              "#46039f"
             ],
             [
              0.2222222222222222,
              "#7201a8"
             ],
             [
              0.3333333333333333,
              "#9c179e"
             ],
             [
              0.4444444444444444,
              "#bd3786"
             ],
             [
              0.5555555555555556,
              "#d8576b"
             ],
             [
              0.6666666666666666,
              "#ed7953"
             ],
             [
              0.7777777777777778,
              "#fb9f3a"
             ],
             [
              0.8888888888888888,
              "#fdca26"
             ],
             [
              1,
              "#f0f921"
             ]
            ],
            "type": "heatmapgl"
           }
          ],
          "histogram": [
           {
            "marker": {
             "pattern": {
              "fillmode": "overlay",
              "size": 10,
              "solidity": 0.2
             }
            },
            "type": "histogram"
           }
          ],
          "histogram2d": [
           {
            "colorbar": {
             "outlinewidth": 0,
             "ticks": ""
            },
            "colorscale": [
             [
              0,
              "#0d0887"
             ],
             [
              0.1111111111111111,
              "#46039f"
             ],
             [
              0.2222222222222222,
              "#7201a8"
             ],
             [
              0.3333333333333333,
              "#9c179e"
             ],
             [
              0.4444444444444444,
              "#bd3786"
             ],
             [
              0.5555555555555556,
              "#d8576b"
             ],
             [
              0.6666666666666666,
              "#ed7953"
             ],
             [
              0.7777777777777778,
              "#fb9f3a"
             ],
             [
              0.8888888888888888,
              "#fdca26"
             ],
             [
              1,
              "#f0f921"
             ]
            ],
            "type": "histogram2d"
           }
          ],
          "histogram2dcontour": [
           {
            "colorbar": {
             "outlinewidth": 0,
             "ticks": ""
            },
            "colorscale": [
             [
              0,
              "#0d0887"
             ],
             [
              0.1111111111111111,
              "#46039f"
             ],
             [
              0.2222222222222222,
              "#7201a8"
             ],
             [
              0.3333333333333333,
              "#9c179e"
             ],
             [
              0.4444444444444444,
              "#bd3786"
             ],
             [
              0.5555555555555556,
              "#d8576b"
             ],
             [
              0.6666666666666666,
              "#ed7953"
             ],
             [
              0.7777777777777778,
              "#fb9f3a"
             ],
             [
              0.8888888888888888,
              "#fdca26"
             ],
             [
              1,
              "#f0f921"
             ]
            ],
            "type": "histogram2dcontour"
           }
          ],
          "mesh3d": [
           {
            "colorbar": {
             "outlinewidth": 0,
             "ticks": ""
            },
            "type": "mesh3d"
           }
          ],
          "parcoords": [
           {
            "line": {
             "colorbar": {
              "outlinewidth": 0,
              "ticks": ""
             }
            },
            "type": "parcoords"
           }
          ],
          "pie": [
           {
            "automargin": true,
            "type": "pie"
           }
          ],
          "scatter": [
           {
            "marker": {
             "colorbar": {
              "outlinewidth": 0,
              "ticks": ""
             }
            },
            "type": "scatter"
           }
          ],
          "scatter3d": [
           {
            "line": {
             "colorbar": {
              "outlinewidth": 0,
              "ticks": ""
             }
            },
            "marker": {
             "colorbar": {
              "outlinewidth": 0,
              "ticks": ""
             }
            },
            "type": "scatter3d"
           }
          ],
          "scattercarpet": [
           {
            "marker": {
             "colorbar": {
              "outlinewidth": 0,
              "ticks": ""
             }
            },
            "type": "scattercarpet"
           }
          ],
          "scattergeo": [
           {
            "marker": {
             "colorbar": {
              "outlinewidth": 0,
              "ticks": ""
             }
            },
            "type": "scattergeo"
           }
          ],
          "scattergl": [
           {
            "marker": {
             "colorbar": {
              "outlinewidth": 0,
              "ticks": ""
             }
            },
            "type": "scattergl"
           }
          ],
          "scattermapbox": [
           {
            "marker": {
             "colorbar": {
              "outlinewidth": 0,
              "ticks": ""
             }
            },
            "type": "scattermapbox"
           }
          ],
          "scatterpolar": [
           {
            "marker": {
             "colorbar": {
              "outlinewidth": 0,
              "ticks": ""
             }
            },
            "type": "scatterpolar"
           }
          ],
          "scatterpolargl": [
           {
            "marker": {
             "colorbar": {
              "outlinewidth": 0,
              "ticks": ""
             }
            },
            "type": "scatterpolargl"
           }
          ],
          "scatterternary": [
           {
            "marker": {
             "colorbar": {
              "outlinewidth": 0,
              "ticks": ""
             }
            },
            "type": "scatterternary"
           }
          ],
          "surface": [
           {
            "colorbar": {
             "outlinewidth": 0,
             "ticks": ""
            },
            "colorscale": [
             [
              0,
              "#0d0887"
             ],
             [
              0.1111111111111111,
              "#46039f"
             ],
             [
              0.2222222222222222,
              "#7201a8"
             ],
             [
              0.3333333333333333,
              "#9c179e"
             ],
             [
              0.4444444444444444,
              "#bd3786"
             ],
             [
              0.5555555555555556,
              "#d8576b"
             ],
             [
              0.6666666666666666,
              "#ed7953"
             ],
             [
              0.7777777777777778,
              "#fb9f3a"
             ],
             [
              0.8888888888888888,
              "#fdca26"
             ],
             [
              1,
              "#f0f921"
             ]
            ],
            "type": "surface"
           }
          ],
          "table": [
           {
            "cells": {
             "fill": {
              "color": "#EBF0F8"
             },
             "line": {
              "color": "white"
             }
            },
            "header": {
             "fill": {
              "color": "#C8D4E3"
             },
             "line": {
              "color": "white"
             }
            },
            "type": "table"
           }
          ]
         },
         "layout": {
          "annotationdefaults": {
           "arrowcolor": "#2a3f5f",
           "arrowhead": 0,
           "arrowwidth": 1
          },
          "autotypenumbers": "strict",
          "coloraxis": {
           "colorbar": {
            "outlinewidth": 0,
            "ticks": ""
           }
          },
          "colorscale": {
           "diverging": [
            [
             0,
             "#8e0152"
            ],
            [
             0.1,
             "#c51b7d"
            ],
            [
             0.2,
             "#de77ae"
            ],
            [
             0.3,
             "#f1b6da"
            ],
            [
             0.4,
             "#fde0ef"
            ],
            [
             0.5,
             "#f7f7f7"
            ],
            [
             0.6,
             "#e6f5d0"
            ],
            [
             0.7,
             "#b8e186"
            ],
            [
             0.8,
             "#7fbc41"
            ],
            [
             0.9,
             "#4d9221"
            ],
            [
             1,
             "#276419"
            ]
           ],
           "sequential": [
            [
             0,
             "#0d0887"
            ],
            [
             0.1111111111111111,
             "#46039f"
            ],
            [
             0.2222222222222222,
             "#7201a8"
            ],
            [
             0.3333333333333333,
             "#9c179e"
            ],
            [
             0.4444444444444444,
             "#bd3786"
            ],
            [
             0.5555555555555556,
             "#d8576b"
            ],
            [
             0.6666666666666666,
             "#ed7953"
            ],
            [
             0.7777777777777778,
             "#fb9f3a"
            ],
            [
             0.8888888888888888,
             "#fdca26"
            ],
            [
             1,
             "#f0f921"
            ]
           ],
           "sequentialminus": [
            [
             0,
             "#0d0887"
            ],
            [
             0.1111111111111111,
             "#46039f"
            ],
            [
             0.2222222222222222,
             "#7201a8"
            ],
            [
             0.3333333333333333,
             "#9c179e"
            ],
            [
             0.4444444444444444,
             "#bd3786"
            ],
            [
             0.5555555555555556,
             "#d8576b"
            ],
            [
             0.6666666666666666,
             "#ed7953"
            ],
            [
             0.7777777777777778,
             "#fb9f3a"
            ],
            [
             0.8888888888888888,
             "#fdca26"
            ],
            [
             1,
             "#f0f921"
            ]
           ]
          },
          "colorway": [
           "#636efa",
           "#EF553B",
           "#00cc96",
           "#ab63fa",
           "#FFA15A",
           "#19d3f3",
           "#FF6692",
           "#B6E880",
           "#FF97FF",
           "#FECB52"
          ],
          "font": {
           "color": "#2a3f5f"
          },
          "geo": {
           "bgcolor": "white",
           "lakecolor": "white",
           "landcolor": "#E5ECF6",
           "showlakes": true,
           "showland": true,
           "subunitcolor": "white"
          },
          "hoverlabel": {
           "align": "left"
          },
          "hovermode": "closest",
          "mapbox": {
           "style": "light"
          },
          "paper_bgcolor": "white",
          "plot_bgcolor": "#E5ECF6",
          "polar": {
           "angularaxis": {
            "gridcolor": "white",
            "linecolor": "white",
            "ticks": ""
           },
           "bgcolor": "#E5ECF6",
           "radialaxis": {
            "gridcolor": "white",
            "linecolor": "white",
            "ticks": ""
           }
          },
          "scene": {
           "xaxis": {
            "backgroundcolor": "#E5ECF6",
            "gridcolor": "white",
            "gridwidth": 2,
            "linecolor": "white",
            "showbackground": true,
            "ticks": "",
            "zerolinecolor": "white"
           },
           "yaxis": {
            "backgroundcolor": "#E5ECF6",
            "gridcolor": "white",
            "gridwidth": 2,
            "linecolor": "white",
            "showbackground": true,
            "ticks": "",
            "zerolinecolor": "white"
           },
           "zaxis": {
            "backgroundcolor": "#E5ECF6",
            "gridcolor": "white",
            "gridwidth": 2,
            "linecolor": "white",
            "showbackground": true,
            "ticks": "",
            "zerolinecolor": "white"
           }
          },
          "shapedefaults": {
           "line": {
            "color": "#2a3f5f"
           }
          },
          "ternary": {
           "aaxis": {
            "gridcolor": "white",
            "linecolor": "white",
            "ticks": ""
           },
           "baxis": {
            "gridcolor": "white",
            "linecolor": "white",
            "ticks": ""
           },
           "bgcolor": "#E5ECF6",
           "caxis": {
            "gridcolor": "white",
            "linecolor": "white",
            "ticks": ""
           }
          },
          "title": {
           "x": 0.05
          },
          "xaxis": {
           "automargin": true,
           "gridcolor": "white",
           "linecolor": "white",
           "ticks": "",
           "title": {
            "standoff": 15
           },
           "zerolinecolor": "white",
           "zerolinewidth": 2
          },
          "yaxis": {
           "automargin": true,
           "gridcolor": "white",
           "linecolor": "white",
           "ticks": "",
           "title": {
            "standoff": 15
           },
           "zerolinecolor": "white",
           "zerolinewidth": 2
          }
         }
        },
        "title": {
         "text": "Values in each Sentiment"
        },
        "xaxis": {
         "title": {
          "text": "Sentiment"
         }
        },
        "yaxis": {
         "title": {
          "text": "Values"
         }
        }
       }
      }
     },
     "metadata": {},
     "output_type": "display_data"
    }
   ],
   "source": [
    "fig = go.Figure([go.Bar(x = df_merged.review_scores_rating.value_counts().index, y = df_merged.review_scores_rating.value_counts().tolist())])\n",
    "fig.update_layout(\n",
    "    title=\"Values in each Sentiment\",\n",
    "    xaxis_title = \"Sentiment\",\n",
    "    yaxis_title = \"Values\")\n",
    "fig.show()"
   ]
  },
  {
   "cell_type": "code",
   "execution_count": 67,
   "metadata": {},
   "outputs": [
    {
     "data": {
      "text/html": [
       "<div>\n",
       "<style scoped>\n",
       "    .dataframe tbody tr th:only-of-type {\n",
       "        vertical-align: middle;\n",
       "    }\n",
       "\n",
       "    .dataframe tbody tr th {\n",
       "        vertical-align: top;\n",
       "    }\n",
       "\n",
       "    .dataframe thead th {\n",
       "        text-align: right;\n",
       "    }\n",
       "</style>\n",
       "<table border=\"1\" class=\"dataframe\">\n",
       "  <thead>\n",
       "    <tr style=\"text-align: right;\">\n",
       "      <th></th>\n",
       "      <th>id</th>\n",
       "      <th>date</th>\n",
       "      <th>reviewer_name</th>\n",
       "      <th>comments</th>\n",
       "      <th>review_scores_rating</th>\n",
       "      <th>price</th>\n",
       "    </tr>\n",
       "  </thead>\n",
       "  <tbody>\n",
       "    <tr>\n",
       "      <th>0</th>\n",
       "      <td>177</td>\n",
       "      <td>2016-09-04</td>\n",
       "      <td>Brenna</td>\n",
       "      <td>great place stay definit tini home still cozi ...</td>\n",
       "      <td>4.8</td>\n",
       "      <td>99.0</td>\n",
       "    </tr>\n",
       "    <tr>\n",
       "      <th>1</th>\n",
       "      <td>177</td>\n",
       "      <td>2016-09-13</td>\n",
       "      <td>Rachael</td>\n",
       "      <td>joe wa veri friendli gave us inform needed hou...</td>\n",
       "      <td>4.8</td>\n",
       "      <td>99.0</td>\n",
       "    </tr>\n",
       "    <tr>\n",
       "      <th>2</th>\n",
       "      <td>177</td>\n",
       "      <td>2016-09-14</td>\n",
       "      <td>Haley</td>\n",
       "      <td>amaz properti joe wa great host even offer wal...</td>\n",
       "      <td>4.8</td>\n",
       "      <td>99.0</td>\n",
       "    </tr>\n",
       "    <tr>\n",
       "      <th>3</th>\n",
       "      <td>177</td>\n",
       "      <td>2016-09-19</td>\n",
       "      <td>Mike</td>\n",
       "      <td>joe wa great host descript thi tini hous wa sp...</td>\n",
       "      <td>4.8</td>\n",
       "      <td>99.0</td>\n",
       "    </tr>\n",
       "    <tr>\n",
       "      <th>4</th>\n",
       "      <td>177</td>\n",
       "      <td>2016-09-22</td>\n",
       "      <td>Carol</td>\n",
       "      <td>welcom us first arriv gave great recommend din...</td>\n",
       "      <td>4.8</td>\n",
       "      <td>99.0</td>\n",
       "    </tr>\n",
       "    <tr>\n",
       "      <th>5</th>\n",
       "      <td>177</td>\n",
       "      <td>2016-09-25</td>\n",
       "      <td>Rosa</td>\n",
       "      <td>great tini home veri eco friendli owner veri v...</td>\n",
       "      <td>4.8</td>\n",
       "      <td>99.0</td>\n",
       "    </tr>\n",
       "    <tr>\n",
       "      <th>6</th>\n",
       "      <td>177</td>\n",
       "      <td>2016-09-30</td>\n",
       "      <td>Albert</td>\n",
       "      <td>joe wa welcoming explain detail tini hous gave...</td>\n",
       "      <td>4.8</td>\n",
       "      <td>99.0</td>\n",
       "    </tr>\n",
       "    <tr>\n",
       "      <th>7</th>\n",
       "      <td>177</td>\n",
       "      <td>2016-10-03</td>\n",
       "      <td>Jairo</td>\n",
       "      <td>experi wa great joe wa veri kind welcoming pla...</td>\n",
       "      <td>4.8</td>\n",
       "      <td>99.0</td>\n",
       "    </tr>\n",
       "    <tr>\n",
       "      <th>8</th>\n",
       "      <td>177</td>\n",
       "      <td>2016-10-15</td>\n",
       "      <td>Jacqueline</td>\n",
       "      <td>joe place wa everyth hope would wa veri consid...</td>\n",
       "      <td>4.8</td>\n",
       "      <td>99.0</td>\n",
       "    </tr>\n",
       "    <tr>\n",
       "      <th>9</th>\n",
       "      <td>177</td>\n",
       "      <td>2016-11-14</td>\n",
       "      <td>Jim</td>\n",
       "      <td>joe great host along hi famili deagan dog woul...</td>\n",
       "      <td>4.8</td>\n",
       "      <td>99.0</td>\n",
       "    </tr>\n",
       "  </tbody>\n",
       "</table>\n",
       "</div>"
      ],
      "text/plain": [
       "    id        date reviewer_name  \\\n",
       "0  177  2016-09-04        Brenna   \n",
       "1  177  2016-09-13       Rachael   \n",
       "2  177  2016-09-14         Haley   \n",
       "3  177  2016-09-19          Mike   \n",
       "4  177  2016-09-22         Carol   \n",
       "5  177  2016-09-25          Rosa   \n",
       "6  177  2016-09-30        Albert   \n",
       "7  177  2016-10-03         Jairo   \n",
       "8  177  2016-10-15    Jacqueline   \n",
       "9  177  2016-11-14           Jim   \n",
       "\n",
       "                                            comments  review_scores_rating  \\\n",
       "0  great place stay definit tini home still cozi ...                   4.8   \n",
       "1  joe wa veri friendli gave us inform needed hou...                   4.8   \n",
       "2  amaz properti joe wa great host even offer wal...                   4.8   \n",
       "3  joe wa great host descript thi tini hous wa sp...                   4.8   \n",
       "4  welcom us first arriv gave great recommend din...                   4.8   \n",
       "5  great tini home veri eco friendli owner veri v...                   4.8   \n",
       "6  joe wa welcoming explain detail tini hous gave...                   4.8   \n",
       "7  experi wa great joe wa veri kind welcoming pla...                   4.8   \n",
       "8  joe place wa everyth hope would wa veri consid...                   4.8   \n",
       "9  joe great host along hi famili deagan dog woul...                   4.8   \n",
       "\n",
       "   price  \n",
       "0   99.0  \n",
       "1   99.0  \n",
       "2   99.0  \n",
       "3   99.0  \n",
       "4   99.0  \n",
       "5   99.0  \n",
       "6   99.0  \n",
       "7   99.0  \n",
       "8   99.0  \n",
       "9   99.0  "
      ]
     },
     "execution_count": 67,
     "metadata": {},
     "output_type": "execute_result"
    }
   ],
   "source": [
    "df_train_set = df_merged.dropna()\n",
    "df_train_set.head(10)\n",
    "# df_train_set.to_csv(\"airbnb-train-set.csv\",index=False)"
   ]
  },
  {
   "cell_type": "code",
   "execution_count": 33,
   "metadata": {},
   "outputs": [
    {
     "data": {
      "text/html": [
       "<div>\n",
       "<style scoped>\n",
       "    .dataframe tbody tr th:only-of-type {\n",
       "        vertical-align: middle;\n",
       "    }\n",
       "\n",
       "    .dataframe tbody tr th {\n",
       "        vertical-align: top;\n",
       "    }\n",
       "\n",
       "    .dataframe thead th {\n",
       "        text-align: right;\n",
       "    }\n",
       "</style>\n",
       "<table border=\"1\" class=\"dataframe\">\n",
       "  <thead>\n",
       "    <tr style=\"text-align: right;\">\n",
       "      <th></th>\n",
       "      <th>id</th>\n",
       "      <th>date</th>\n",
       "      <th>reviewer_name</th>\n",
       "      <th>comments</th>\n",
       "      <th>review_scores_rating</th>\n",
       "      <th>price</th>\n",
       "      <th>neg</th>\n",
       "      <th>neu</th>\n",
       "      <th>pos</th>\n",
       "      <th>compound</th>\n",
       "    </tr>\n",
       "  </thead>\n",
       "  <tbody>\n",
       "    <tr>\n",
       "      <th>0</th>\n",
       "      <td>177</td>\n",
       "      <td>2016-09-04</td>\n",
       "      <td>Brenna</td>\n",
       "      <td>great place stay definit tini home still cozi ...</td>\n",
       "      <td>4.8</td>\n",
       "      <td>99.0</td>\n",
       "      <td>0.0</td>\n",
       "      <td>0.491</td>\n",
       "      <td>0.509</td>\n",
       "      <td>0.9744</td>\n",
       "    </tr>\n",
       "    <tr>\n",
       "      <th>1</th>\n",
       "      <td>177</td>\n",
       "      <td>2016-09-13</td>\n",
       "      <td>Rachael</td>\n",
       "      <td>joe wa veri friendli gave us inform needed hou...</td>\n",
       "      <td>4.8</td>\n",
       "      <td>99.0</td>\n",
       "      <td>0.0</td>\n",
       "      <td>0.883</td>\n",
       "      <td>0.117</td>\n",
       "      <td>0.5106</td>\n",
       "    </tr>\n",
       "    <tr>\n",
       "      <th>2</th>\n",
       "      <td>177</td>\n",
       "      <td>2016-09-14</td>\n",
       "      <td>Haley</td>\n",
       "      <td>amaz properti joe wa great host even offer wal...</td>\n",
       "      <td>4.8</td>\n",
       "      <td>99.0</td>\n",
       "      <td>0.0</td>\n",
       "      <td>0.728</td>\n",
       "      <td>0.272</td>\n",
       "      <td>0.6249</td>\n",
       "    </tr>\n",
       "    <tr>\n",
       "      <th>3</th>\n",
       "      <td>177</td>\n",
       "      <td>2016-09-19</td>\n",
       "      <td>Mike</td>\n",
       "      <td>joe wa great host descript thi tini hous wa sp...</td>\n",
       "      <td>4.8</td>\n",
       "      <td>99.0</td>\n",
       "      <td>0.0</td>\n",
       "      <td>0.674</td>\n",
       "      <td>0.326</td>\n",
       "      <td>0.8271</td>\n",
       "    </tr>\n",
       "    <tr>\n",
       "      <th>4</th>\n",
       "      <td>177</td>\n",
       "      <td>2016-09-22</td>\n",
       "      <td>Carol</td>\n",
       "      <td>welcom us first arriv gave great recommend din...</td>\n",
       "      <td>4.8</td>\n",
       "      <td>99.0</td>\n",
       "      <td>0.0</td>\n",
       "      <td>0.476</td>\n",
       "      <td>0.524</td>\n",
       "      <td>0.7650</td>\n",
       "    </tr>\n",
       "  </tbody>\n",
       "</table>\n",
       "</div>"
      ],
      "text/plain": [
       "    id        date reviewer_name  \\\n",
       "0  177  2016-09-04        Brenna   \n",
       "1  177  2016-09-13       Rachael   \n",
       "2  177  2016-09-14         Haley   \n",
       "3  177  2016-09-19          Mike   \n",
       "4  177  2016-09-22         Carol   \n",
       "\n",
       "                                            comments  review_scores_rating  \\\n",
       "0  great place stay definit tini home still cozi ...                   4.8   \n",
       "1  joe wa veri friendli gave us inform needed hou...                   4.8   \n",
       "2  amaz properti joe wa great host even offer wal...                   4.8   \n",
       "3  joe wa great host descript thi tini hous wa sp...                   4.8   \n",
       "4  welcom us first arriv gave great recommend din...                   4.8   \n",
       "\n",
       "   price  neg    neu    pos  compound  \n",
       "0   99.0  0.0  0.491  0.509    0.9744  \n",
       "1   99.0  0.0  0.883  0.117    0.5106  \n",
       "2   99.0  0.0  0.728  0.272    0.6249  \n",
       "3   99.0  0.0  0.674  0.326    0.8271  \n",
       "4   99.0  0.0  0.476  0.524    0.7650  "
      ]
     },
     "execution_count": 33,
     "metadata": {},
     "output_type": "execute_result"
    }
   ],
   "source": [
    "df_train_set[\"sentiment_scores\"] = df_train_set[\"comments\"].apply(lambda x: SIA.polarity_scores(x))\n",
    "df_train_set = pd.concat([df_train_set.drop(['sentiment_scores'], axis = 1), df_train_set['sentiment_scores'].apply(pd.Series)], axis = 1)\n",
    "df_train_set.head()"
   ]
  },
  {
   "cell_type": "code",
   "execution_count": null,
   "metadata": {},
   "outputs": [],
   "source": [
    "# df_train_set['polarity'] = df_train_set['']"
   ]
  },
  {
   "cell_type": "code",
   "execution_count": 71,
   "metadata": {},
   "outputs": [],
   "source": [
    "# tfidf_vectorizer.get_feature_names()\n",
    "df_train_set.drop_duplicates(inplace=True)\n",
    "X = tfidf_vectorizer_vectors.toarray()\n",
    "Y = df_train_set['review_scores_rating'].astype(int)[:100000]"
   ]
  },
  {
   "cell_type": "code",
   "execution_count": 72,
   "metadata": {},
   "outputs": [
    {
     "data": {
      "text/plain": [
       "2000"
      ]
     },
     "execution_count": 72,
     "metadata": {},
     "output_type": "execute_result"
    }
   ],
   "source": [
    "len(X[0])"
   ]
  },
  {
   "cell_type": "code",
   "execution_count": 74,
   "metadata": {},
   "outputs": [],
   "source": [
    "from sklearn.model_selection import train_test_split, StratifiedKFold, GridSearchCV \n",
    "from sklearn.metrics import mean_absolute_error, accuracy_score, confusion_matrix, classification_report, roc_auc_score,roc_curve,auc\n",
    "from sklearn.tree import DecisionTreeClassifier\n",
    "\n",
    "#Dividing into train and validation sets\n",
    "\n",
    "SEED = 123\n",
    "\n",
    "X_train, X_test, y_train, y_test = train_test_split(X, Y, test_size = 0.2, random_state = SEED)"
   ]
  },
  {
   "cell_type": "code",
   "execution_count": 75,
   "metadata": {},
   "outputs": [
    {
     "name": "stdout",
     "output_type": "stream",
     "text": [
      "Training Accuracy score: 0.9994\n",
      "Testing Accuracy score: 0.9748\n"
     ]
    }
   ],
   "source": [
    "dt = DecisionTreeClassifier(random_state=SEED)\n",
    "dt.fit(X_train,y_train)\n",
    "y_pred_test = dt.predict(X_test)\n",
    "print(\"Training Accuracy score: \"+str(round(accuracy_score(y_train,dt.predict(X_train)),4)))\n",
    "print(\"Testing Accuracy score: \"+str(round(accuracy_score(y_test,dt.predict(X_test)),4)))"
   ]
  },
  {
   "cell_type": "code",
   "execution_count": 78,
   "metadata": {},
   "outputs": [
    {
     "name": "stdout",
     "output_type": "stream",
     "text": [
      "              precision    recall  f1-score   support\n",
      "\n",
      "    ignore_1       0.00      0.00      0.00         1\n",
      "    ignore_2       0.00      0.00      0.00         1\n",
      "    positive       0.99      0.99      0.99     19644\n",
      "    negative       0.26      0.23      0.24       354\n",
      "\n",
      "    accuracy                           0.97     20000\n",
      "   macro avg       0.31      0.30      0.31     20000\n",
      "weighted avg       0.97      0.97      0.97     20000\n",
      "\n"
     ]
    },
    {
     "name": "stderr",
     "output_type": "stream",
     "text": [
      "/opt/homebrew/lib/python3.9/site-packages/sklearn/metrics/_classification.py:1308: UndefinedMetricWarning:\n",
      "\n",
      "Precision and F-score are ill-defined and being set to 0.0 in labels with no predicted samples. Use `zero_division` parameter to control this behavior.\n",
      "\n",
      "/opt/homebrew/lib/python3.9/site-packages/sklearn/metrics/_classification.py:1308: UndefinedMetricWarning:\n",
      "\n",
      "Precision and F-score are ill-defined and being set to 0.0 in labels with no predicted samples. Use `zero_division` parameter to control this behavior.\n",
      "\n",
      "/opt/homebrew/lib/python3.9/site-packages/sklearn/metrics/_classification.py:1308: UndefinedMetricWarning:\n",
      "\n",
      "Precision and F-score are ill-defined and being set to 0.0 in labels with no predicted samples. Use `zero_division` parameter to control this behavior.\n",
      "\n"
     ]
    }
   ],
   "source": [
    "#Must assign neutral values to positive\n",
    "#Neutral scores tend to have positive sentiment utilizing neutral words\n",
    "print(classification_report(y_test, y_pred_test, target_names = ['ignore_1', 'ignore_2', 'positive', 'negative']))"
   ]
  },
  {
   "cell_type": "code",
   "execution_count": 81,
   "metadata": {},
   "outputs": [
    {
     "data": {
      "image/png": "[encoded data removed]",
      "text/plain": [
       "<Figure size 432x288 with 2 Axes>"
      ]
     },
     "metadata": {
      "needs_background": "light"
     },
     "output_type": "display_data"
    }
   ],
   "source": [
    "cm = confusion_matrix(y_test, y_pred_test)\n",
    "#print('Confusion matrix\\n', cm)\n",
    "cm_matrix = pd.DataFrame(data=cm, columns=['Ignore', 'Ignore_2', 'Actual Negative', 'Actual Positive'], \n",
    "                        index=['Ignore', 'Ignore_2', 'Predict Negative', 'Predict Positive'])\n",
    "sns.heatmap(cm_matrix, annot=True, fmt='d', cmap='YlGnBu')\n",
    "plt.show()"
   ]
  },
  {
   "cell_type": "code",
   "execution_count": 82,
   "metadata": {},
   "outputs": [
    {
     "name": "stdout",
     "output_type": "stream",
     "text": [
      "Training Accuracy score: 0.4257\n",
      "Testing Accuracy score: 0.4218\n"
     ]
    }
   ],
   "source": [
    "from sklearn.naive_bayes import GaussianNB\n",
    "gnb = GaussianNB()\n",
    "gnb.fit(X_train, y_train)\n",
    "y_pred_train = gnb.predict(X_train)\n",
    "y_pred_test = gnb.predict(X_test)\n",
    "print(\"Training Accuracy score: \" + str(round(accuracy_score(y_train, gnb.predict(X_train)), 4)))\n",
    "print(\"Testing Accuracy score: \" + str(round(accuracy_score(y_test, gnb.predict(X_test)), 4)))"
   ]
  },
  {
   "cell_type": "code",
   "execution_count": 84,
   "metadata": {},
   "outputs": [
    {
     "name": "stdout",
     "output_type": "stream",
     "text": [
      "              precision    recall  f1-score   support\n",
      "\n",
      "      ignore       0.00      0.00      0.00         1\n",
      "    ignore_2       0.00      0.00      0.00         1\n",
      "    positive       0.99      0.41      0.58     19644\n",
      "    negative       0.03      0.83      0.05       354\n",
      "\n",
      "    accuracy                           0.42     20000\n",
      "   macro avg       0.25      0.31      0.16     20000\n",
      "weighted avg       0.98      0.42      0.58     20000\n",
      "\n"
     ]
    },
    {
     "name": "stderr",
     "output_type": "stream",
     "text": [
      "/opt/homebrew/lib/python3.9/site-packages/sklearn/metrics/_classification.py:1308: UndefinedMetricWarning:\n",
      "\n",
      "Precision and F-score are ill-defined and being set to 0.0 in labels with no predicted samples. Use `zero_division` parameter to control this behavior.\n",
      "\n",
      "/opt/homebrew/lib/python3.9/site-packages/sklearn/metrics/_classification.py:1308: UndefinedMetricWarning:\n",
      "\n",
      "Precision and F-score are ill-defined and being set to 0.0 in labels with no predicted samples. Use `zero_division` parameter to control this behavior.\n",
      "\n",
      "/opt/homebrew/lib/python3.9/site-packages/sklearn/metrics/_classification.py:1308: UndefinedMetricWarning:\n",
      "\n",
      "Precision and F-score are ill-defined and being set to 0.0 in labels with no predicted samples. Use `zero_division` parameter to control this behavior.\n",
      "\n"
     ]
    }
   ],
   "source": [
    "print(classification_report(y_test, y_pred_test, target_names=['ignore', 'ignore_2', 'positive', 'negative']))"
   ]
  },
  {
   "cell_type": "code",
   "execution_count": 87,
   "metadata": {},
   "outputs": [
    {
     "data": {
      "image/png": "[encoded data removed]",
      "text/plain": [
       "<Figure size 432x288 with 2 Axes>"
      ]
     },
     "metadata": {
      "needs_background": "light"
     },
     "output_type": "display_data"
    }
   ],
   "source": [
    "cm = confusion_matrix(y_test, y_pred_test)\n",
    "#print('Confusion matrix\\n', cm)\n",
    "cm_matrix = pd.DataFrame(data=cm, columns=['ignore', 'ignore_2', 'Actual Negative', 'Actual Positive'], \n",
    "                        index=['ignore', 'ignore_2', 'Predict Negative', 'Predict Positive'])\n",
    "sns.heatmap(cm_matrix, annot=True, fmt='d', cmap='YlGnBu')\n",
    "plt.show()"
   ]
  },
  {
   "cell_type": "code",
   "execution_count": 89,
   "metadata": {},
   "outputs": [
    {
     "name": "stderr",
     "output_type": "stream",
     "text": [
      "/opt/homebrew/lib/python3.9/site-packages/sklearn/linear_model/_logistic.py:814: ConvergenceWarning:\n",
      "\n",
      "lbfgs failed to converge (status=1):\n",
      "STOP: TOTAL NO. of ITERATIONS REACHED LIMIT.\n",
      "\n",
      "Increase the number of iterations (max_iter) or scale the data as shown in:\n",
      "    https://scikit-learn.org/stable/modules/preprocessing.html\n",
      "Please also refer to the documentation for alternative solver options:\n",
      "    https://scikit-learn.org/stable/modules/linear_model.html#logistic-regression\n",
      "\n"
     ]
    },
    {
     "name": "stdout",
     "output_type": "stream",
     "text": [
      "Training Accuracy score: 0.984\n",
      "Testing Accuracy score: 0.984\n"
     ]
    }
   ],
   "source": [
    "from sklearn.linear_model import LogisticRegression\n",
    "lr = LogisticRegression(random_state=SEED).fit(X_train, y_train)\n",
    "y_pred_train = lr.predict(X_train)\n",
    "y_pred_test = lr.predict(X_test)\n",
    "print(\"Training Accuracy score: \"+str(round(accuracy_score(y_train,lr.predict(X_train)),4)))\n",
    "print(\"Testing Accuracy score: \"+str(round(accuracy_score(y_test,lr.predict(X_test)),4)))"
   ]
  },
  {
   "cell_type": "code",
   "execution_count": 91,
   "metadata": {},
   "outputs": [
    {
     "name": "stdout",
     "output_type": "stream",
     "text": [
      "              precision    recall  f1-score   support\n",
      "\n",
      "      ignore       0.00      0.00      0.00         1\n",
      "    ignore_2       0.00      0.00      0.00         1\n",
      "    positive       0.98      1.00      0.99     19644\n",
      "    negative       0.88      0.12      0.21       354\n",
      "\n",
      "    accuracy                           0.98     20000\n",
      "   macro avg       0.47      0.28      0.30     20000\n",
      "weighted avg       0.98      0.98      0.98     20000\n",
      "\n"
     ]
    },
    {
     "name": "stderr",
     "output_type": "stream",
     "text": [
      "/opt/homebrew/lib/python3.9/site-packages/sklearn/metrics/_classification.py:1308: UndefinedMetricWarning:\n",
      "\n",
      "Precision and F-score are ill-defined and being set to 0.0 in labels with no predicted samples. Use `zero_division` parameter to control this behavior.\n",
      "\n",
      "/opt/homebrew/lib/python3.9/site-packages/sklearn/metrics/_classification.py:1308: UndefinedMetricWarning:\n",
      "\n",
      "Precision and F-score are ill-defined and being set to 0.0 in labels with no predicted samples. Use `zero_division` parameter to control this behavior.\n",
      "\n",
      "/opt/homebrew/lib/python3.9/site-packages/sklearn/metrics/_classification.py:1308: UndefinedMetricWarning:\n",
      "\n",
      "Precision and F-score are ill-defined and being set to 0.0 in labels with no predicted samples. Use `zero_division` parameter to control this behavior.\n",
      "\n"
     ]
    }
   ],
   "source": [
    "print(classification_report(y_test, y_pred_test, target_names=['ignore', 'ignore_2', 'positive', 'negative']))"
   ]
  },
  {
   "cell_type": "code",
   "execution_count": 94,
   "metadata": {},
   "outputs": [
    {
     "data": {
      "image/png": "[encoded data removed]",
      "text/plain": [
       "<Figure size 432x288 with 2 Axes>"
      ]
     },
     "metadata": {
      "needs_background": "light"
     },
     "output_type": "display_data"
    }
   ],
   "source": [
    "cm = confusion_matrix(y_test, y_pred_test)\n",
    "#print('Confusion matrix\\n', cm)\n",
    "cm_matrix = pd.DataFrame(data=cm, columns=['ignore', 'ignore_2', 'Actual Positive', 'Actual Negative'], \n",
    "                        index=['ignore', 'ignore_2', 'Predict Positive', 'Predict Negative'])\n",
    "sns.heatmap(cm_matrix, annot=True, fmt='d', cmap='YlGnBu')\n",
    "plt.show()"
   ]
  },
  {
   "cell_type": "code",
   "execution_count": 95,
   "metadata": {},
   "outputs": [
    {
     "name": "stdout",
     "output_type": "stream",
     "text": [
      "Training Accuracy score: 0.9994\n",
      "Testing Accuracy score: 0.9844\n"
     ]
    }
   ],
   "source": [
    "from sklearn.ensemble import RandomForestClassifier\n",
    "clf = RandomForestClassifier()\n",
    "clf.fit(X_train, y_train)\n",
    "y_pred_train = clf.predict(X_train)\n",
    "y_pred_test = clf.predict(X_test)\n",
    "print(\"Training Accuracy score: \"+str(round(accuracy_score(y_train,clf.predict(X_train)), 4)))\n",
    "print(\"Testing Accuracy score: \"+str(round(accuracy_score(y_test,clf.predict(X_test)), 4)))"
   ]
  },
  {
   "cell_type": "code",
   "execution_count": 97,
   "metadata": {},
   "outputs": [
    {
     "name": "stdout",
     "output_type": "stream",
     "text": [
      "              precision    recall  f1-score   support\n",
      "\n",
      "      ignore       0.00      0.00      0.00         1\n",
      "    ignore_2       0.00      0.00      0.00         1\n",
      "    positive       0.98      1.00      0.99     19644\n",
      "    negative       0.88      0.15      0.25       354\n",
      "\n",
      "    accuracy                           0.98     20000\n",
      "   macro avg       0.47      0.29      0.31     20000\n",
      "weighted avg       0.98      0.98      0.98     20000\n",
      "\n"
     ]
    },
    {
     "name": "stderr",
     "output_type": "stream",
     "text": [
      "/opt/homebrew/lib/python3.9/site-packages/sklearn/metrics/_classification.py:1308: UndefinedMetricWarning:\n",
      "\n",
      "Precision and F-score are ill-defined and being set to 0.0 in labels with no predicted samples. Use `zero_division` parameter to control this behavior.\n",
      "\n",
      "/opt/homebrew/lib/python3.9/site-packages/sklearn/metrics/_classification.py:1308: UndefinedMetricWarning:\n",
      "\n",
      "Precision and F-score are ill-defined and being set to 0.0 in labels with no predicted samples. Use `zero_division` parameter to control this behavior.\n",
      "\n",
      "/opt/homebrew/lib/python3.9/site-packages/sklearn/metrics/_classification.py:1308: UndefinedMetricWarning:\n",
      "\n",
      "Precision and F-score are ill-defined and being set to 0.0 in labels with no predicted samples. Use `zero_division` parameter to control this behavior.\n",
      "\n"
     ]
    }
   ],
   "source": [
    "print(classification_report(y_test, y_pred_test, target_names=['ignore', 'ignore_2', 'positive', 'negative']))"
   ]
  },
  {
   "cell_type": "code",
   "execution_count": 99,
   "metadata": {},
   "outputs": [
    {
     "data": {
      "image/png": "[encoded data removed]",
      "text/plain": [
       "<Figure size 432x288 with 2 Axes>"
      ]
     },
     "metadata": {
      "needs_background": "light"
     },
     "output_type": "display_data"
    }
   ],
   "source": [
    "cm = confusion_matrix(y_test, y_pred_test)\n",
    "#print('Confusion matrix\\n', cm)\n",
    "cm_matrix = pd.DataFrame(data=cm, columns=['ignore', 'ignore_2', 'Actual Positive', 'Actual Negative'], \n",
    "                        index=['ignore', 'ignore_2', 'Predict Positive', 'Predict Negative'])\n",
    "sns.heatmap(cm_matrix, annot=True, fmt='d', cmap='YlGnBu')\n",
    "plt.show()"
   ]
  },
  {
   "cell_type": "code",
   "execution_count": 100,
   "metadata": {},
   "outputs": [
    {
     "name": "stderr",
     "output_type": "stream",
     "text": [
      "/opt/homebrew/lib/python3.9/site-packages/sklearn/linear_model/_logistic.py:814: ConvergenceWarning:\n",
      "\n",
      "lbfgs failed to converge (status=1):\n",
      "STOP: TOTAL NO. of ITERATIONS REACHED LIMIT.\n",
      "\n",
      "Increase the number of iterations (max_iter) or scale the data as shown in:\n",
      "    https://scikit-learn.org/stable/modules/preprocessing.html\n",
      "Please also refer to the documentation for alternative solver options:\n",
      "    https://scikit-learn.org/stable/modules/linear_model.html#logistic-regression\n",
      "\n"
     ]
    },
    {
     "name": "stdout",
     "output_type": "stream",
     "text": [
      "Training Accuracy score: 0.9992\n",
      "Testing Accuracy score: 0.978\n"
     ]
    }
   ],
   "source": [
    "from sklearn.ensemble import VotingClassifier\n",
    "\n",
    "classifiers = [('Decision Tree', dt),\n",
    "               ('Logistic Regression', lr),\n",
    "                ('Naive Bayes', gnb)\n",
    "              ]\n",
    "vc = VotingClassifier(estimators=classifiers)\n",
    "# Fit 'vc' to the traing set and predict test set labels\n",
    "vc.fit(X_train, y_train)\n",
    "\n",
    "print(\"Training Accuracy score: \" + str(round(accuracy_score(y_train,vc.predict(X_train)), 4)))\n",
    "print(\"Testing Accuracy score: \" + str(round(accuracy_score(y_test,vc.predict(X_test)), 4)))"
   ]
  },
  {
   "cell_type": "code",
   "execution_count": 119,
   "metadata": {},
   "outputs": [],
   "source": [
    "#Vectorizer setup for all models\n",
    "docs_2 = list(df_merged['comments'])[:214541]\n",
    "\n",
    "tfidf_vectorizer_2 = TfidfVectorizer(use_idf=True, max_features = 2000) \n",
    " \n",
    "#Send all docs here \n",
    "tfidf_vectorizer_vectors_2 = tfidf_vectorizer_2.fit_transform(docs)"
   ]
  },
  {
   "cell_type": "code",
   "execution_count": 120,
   "metadata": {},
   "outputs": [
    {
     "data": {
      "text/html": [
       "<div>\n",
       "<style scoped>\n",
       "    .dataframe tbody tr th:only-of-type {\n",
       "        vertical-align: middle;\n",
       "    }\n",
       "\n",
       "    .dataframe tbody tr th {\n",
       "        vertical-align: top;\n",
       "    }\n",
       "\n",
       "    .dataframe thead th {\n",
       "        text-align: right;\n",
       "    }\n",
       "</style>\n",
       "<table border=\"1\" class=\"dataframe\">\n",
       "  <thead>\n",
       "    <tr style=\"text-align: right;\">\n",
       "      <th></th>\n",
       "      <th>abil</th>\n",
       "      <th>abl</th>\n",
       "      <th>abov</th>\n",
       "      <th>absolut</th>\n",
       "      <th>ac</th>\n",
       "      <th>access</th>\n",
       "      <th>accessible</th>\n",
       "      <th>accommod</th>\n",
       "      <th>accommodating</th>\n",
       "      <th>accommodation</th>\n",
       "      <th>...</th>\n",
       "      <th>yes</th>\n",
       "      <th>yet</th>\n",
       "      <th>yoga</th>\n",
       "      <th>youd</th>\n",
       "      <th>youll</th>\n",
       "      <th>young</th>\n",
       "      <th>yummi</th>\n",
       "      <th>zach</th>\n",
       "      <th>zero</th>\n",
       "      <th>zoo</th>\n",
       "    </tr>\n",
       "  </thead>\n",
       "  <tbody>\n",
       "    <tr>\n",
       "      <th>0</th>\n",
       "      <td>0.0</td>\n",
       "      <td>0.0</td>\n",
       "      <td>0.0</td>\n",
       "      <td>0.0</td>\n",
       "      <td>0.0</td>\n",
       "      <td>0.0</td>\n",
       "      <td>0.0</td>\n",
       "      <td>0.0</td>\n",
       "      <td>0.0</td>\n",
       "      <td>0.0</td>\n",
       "      <td>...</td>\n",
       "      <td>0.0</td>\n",
       "      <td>0.0</td>\n",
       "      <td>0.0</td>\n",
       "      <td>0.0</td>\n",
       "      <td>0.0</td>\n",
       "      <td>0.0</td>\n",
       "      <td>0.0</td>\n",
       "      <td>0.0</td>\n",
       "      <td>0.0</td>\n",
       "      <td>0.0</td>\n",
       "    </tr>\n",
       "    <tr>\n",
       "      <th>1</th>\n",
       "      <td>0.0</td>\n",
       "      <td>0.0</td>\n",
       "      <td>0.0</td>\n",
       "      <td>0.0</td>\n",
       "      <td>0.0</td>\n",
       "      <td>0.0</td>\n",
       "      <td>0.0</td>\n",
       "      <td>0.0</td>\n",
       "      <td>0.0</td>\n",
       "      <td>0.0</td>\n",
       "      <td>...</td>\n",
       "      <td>0.0</td>\n",
       "      <td>0.0</td>\n",
       "      <td>0.0</td>\n",
       "      <td>0.0</td>\n",
       "      <td>0.0</td>\n",
       "      <td>0.0</td>\n",
       "      <td>0.0</td>\n",
       "      <td>0.0</td>\n",
       "      <td>0.0</td>\n",
       "      <td>0.0</td>\n",
       "    </tr>\n",
       "    <tr>\n",
       "      <th>2</th>\n",
       "      <td>0.0</td>\n",
       "      <td>0.0</td>\n",
       "      <td>0.0</td>\n",
       "      <td>0.0</td>\n",
       "      <td>0.0</td>\n",
       "      <td>0.0</td>\n",
       "      <td>0.0</td>\n",
       "      <td>0.0</td>\n",
       "      <td>0.0</td>\n",
       "      <td>0.0</td>\n",
       "      <td>...</td>\n",
       "      <td>0.0</td>\n",
       "      <td>0.0</td>\n",
       "      <td>0.0</td>\n",
       "      <td>0.0</td>\n",
       "      <td>0.0</td>\n",
       "      <td>0.0</td>\n",
       "      <td>0.0</td>\n",
       "      <td>0.0</td>\n",
       "      <td>0.0</td>\n",
       "      <td>0.0</td>\n",
       "    </tr>\n",
       "    <tr>\n",
       "      <th>3</th>\n",
       "      <td>0.0</td>\n",
       "      <td>0.0</td>\n",
       "      <td>0.0</td>\n",
       "      <td>0.0</td>\n",
       "      <td>0.0</td>\n",
       "      <td>0.0</td>\n",
       "      <td>0.0</td>\n",
       "      <td>0.0</td>\n",
       "      <td>0.0</td>\n",
       "      <td>0.0</td>\n",
       "      <td>...</td>\n",
       "      <td>0.0</td>\n",
       "      <td>0.0</td>\n",
       "      <td>0.0</td>\n",
       "      <td>0.0</td>\n",
       "      <td>0.0</td>\n",
       "      <td>0.0</td>\n",
       "      <td>0.0</td>\n",
       "      <td>0.0</td>\n",
       "      <td>0.0</td>\n",
       "      <td>0.0</td>\n",
       "    </tr>\n",
       "    <tr>\n",
       "      <th>4</th>\n",
       "      <td>0.0</td>\n",
       "      <td>0.0</td>\n",
       "      <td>0.0</td>\n",
       "      <td>0.0</td>\n",
       "      <td>0.0</td>\n",
       "      <td>0.0</td>\n",
       "      <td>0.0</td>\n",
       "      <td>0.0</td>\n",
       "      <td>0.0</td>\n",
       "      <td>0.0</td>\n",
       "      <td>...</td>\n",
       "      <td>0.0</td>\n",
       "      <td>0.0</td>\n",
       "      <td>0.0</td>\n",
       "      <td>0.0</td>\n",
       "      <td>0.0</td>\n",
       "      <td>0.0</td>\n",
       "      <td>0.0</td>\n",
       "      <td>0.0</td>\n",
       "      <td>0.0</td>\n",
       "      <td>0.0</td>\n",
       "    </tr>\n",
       "    <tr>\n",
       "      <th>...</th>\n",
       "      <td>...</td>\n",
       "      <td>...</td>\n",
       "      <td>...</td>\n",
       "      <td>...</td>\n",
       "      <td>...</td>\n",
       "      <td>...</td>\n",
       "      <td>...</td>\n",
       "      <td>...</td>\n",
       "      <td>...</td>\n",
       "      <td>...</td>\n",
       "      <td>...</td>\n",
       "      <td>...</td>\n",
       "      <td>...</td>\n",
       "      <td>...</td>\n",
       "      <td>...</td>\n",
       "      <td>...</td>\n",
       "      <td>...</td>\n",
       "      <td>...</td>\n",
       "      <td>...</td>\n",
       "      <td>...</td>\n",
       "      <td>...</td>\n",
       "    </tr>\n",
       "    <tr>\n",
       "      <th>214336</th>\n",
       "      <td>0.0</td>\n",
       "      <td>0.0</td>\n",
       "      <td>0.0</td>\n",
       "      <td>0.0</td>\n",
       "      <td>0.0</td>\n",
       "      <td>0.0</td>\n",
       "      <td>0.0</td>\n",
       "      <td>0.0</td>\n",
       "      <td>0.0</td>\n",
       "      <td>0.0</td>\n",
       "      <td>...</td>\n",
       "      <td>0.0</td>\n",
       "      <td>0.0</td>\n",
       "      <td>0.0</td>\n",
       "      <td>0.0</td>\n",
       "      <td>0.0</td>\n",
       "      <td>0.0</td>\n",
       "      <td>0.0</td>\n",
       "      <td>0.0</td>\n",
       "      <td>0.0</td>\n",
       "      <td>0.0</td>\n",
       "    </tr>\n",
       "    <tr>\n",
       "      <th>214337</th>\n",
       "      <td>0.0</td>\n",
       "      <td>0.0</td>\n",
       "      <td>0.0</td>\n",
       "      <td>0.0</td>\n",
       "      <td>0.0</td>\n",
       "      <td>0.0</td>\n",
       "      <td>0.0</td>\n",
       "      <td>0.0</td>\n",
       "      <td>0.0</td>\n",
       "      <td>0.0</td>\n",
       "      <td>...</td>\n",
       "      <td>0.0</td>\n",
       "      <td>0.0</td>\n",
       "      <td>0.0</td>\n",
       "      <td>0.0</td>\n",
       "      <td>0.0</td>\n",
       "      <td>0.0</td>\n",
       "      <td>0.0</td>\n",
       "      <td>0.0</td>\n",
       "      <td>0.0</td>\n",
       "      <td>0.0</td>\n",
       "    </tr>\n",
       "    <tr>\n",
       "      <th>214338</th>\n",
       "      <td>0.0</td>\n",
       "      <td>0.0</td>\n",
       "      <td>0.0</td>\n",
       "      <td>0.0</td>\n",
       "      <td>0.0</td>\n",
       "      <td>0.0</td>\n",
       "      <td>0.0</td>\n",
       "      <td>0.0</td>\n",
       "      <td>0.0</td>\n",
       "      <td>0.0</td>\n",
       "      <td>...</td>\n",
       "      <td>0.0</td>\n",
       "      <td>0.0</td>\n",
       "      <td>0.0</td>\n",
       "      <td>0.0</td>\n",
       "      <td>0.0</td>\n",
       "      <td>0.0</td>\n",
       "      <td>0.0</td>\n",
       "      <td>0.0</td>\n",
       "      <td>0.0</td>\n",
       "      <td>0.0</td>\n",
       "    </tr>\n",
       "    <tr>\n",
       "      <th>214339</th>\n",
       "      <td>0.0</td>\n",
       "      <td>0.0</td>\n",
       "      <td>0.0</td>\n",
       "      <td>0.0</td>\n",
       "      <td>0.0</td>\n",
       "      <td>0.0</td>\n",
       "      <td>0.0</td>\n",
       "      <td>0.0</td>\n",
       "      <td>0.0</td>\n",
       "      <td>0.0</td>\n",
       "      <td>...</td>\n",
       "      <td>0.0</td>\n",
       "      <td>0.0</td>\n",
       "      <td>0.0</td>\n",
       "      <td>0.0</td>\n",
       "      <td>0.0</td>\n",
       "      <td>0.0</td>\n",
       "      <td>0.0</td>\n",
       "      <td>0.0</td>\n",
       "      <td>0.0</td>\n",
       "      <td>0.0</td>\n",
       "    </tr>\n",
       "    <tr>\n",
       "      <th>214340</th>\n",
       "      <td>0.0</td>\n",
       "      <td>0.0</td>\n",
       "      <td>0.0</td>\n",
       "      <td>0.0</td>\n",
       "      <td>0.0</td>\n",
       "      <td>0.0</td>\n",
       "      <td>0.0</td>\n",
       "      <td>0.0</td>\n",
       "      <td>0.0</td>\n",
       "      <td>0.0</td>\n",
       "      <td>...</td>\n",
       "      <td>0.0</td>\n",
       "      <td>0.0</td>\n",
       "      <td>0.0</td>\n",
       "      <td>0.0</td>\n",
       "      <td>0.0</td>\n",
       "      <td>0.0</td>\n",
       "      <td>0.0</td>\n",
       "      <td>0.0</td>\n",
       "      <td>0.0</td>\n",
       "      <td>0.0</td>\n",
       "    </tr>\n",
       "  </tbody>\n",
       "</table>\n",
       "<p>214341 rows × 2000 columns</p>\n",
       "</div>"
      ],
      "text/plain": [
       "        abil  abl  abov  absolut   ac  access  accessible  accommod  \\\n",
       "0        0.0  0.0   0.0      0.0  0.0     0.0         0.0       0.0   \n",
       "1        0.0  0.0   0.0      0.0  0.0     0.0         0.0       0.0   \n",
       "2        0.0  0.0   0.0      0.0  0.0     0.0         0.0       0.0   \n",
       "3        0.0  0.0   0.0      0.0  0.0     0.0         0.0       0.0   \n",
       "4        0.0  0.0   0.0      0.0  0.0     0.0         0.0       0.0   \n",
       "...      ...  ...   ...      ...  ...     ...         ...       ...   \n",
       "214336   0.0  0.0   0.0      0.0  0.0     0.0         0.0       0.0   \n",
       "214337   0.0  0.0   0.0      0.0  0.0     0.0         0.0       0.0   \n",
       "214338   0.0  0.0   0.0      0.0  0.0     0.0         0.0       0.0   \n",
       "214339   0.0  0.0   0.0      0.0  0.0     0.0         0.0       0.0   \n",
       "214340   0.0  0.0   0.0      0.0  0.0     0.0         0.0       0.0   \n",
       "\n",
       "        accommodating  accommodation  ...  yes  yet  yoga  youd  youll  young  \\\n",
       "0                 0.0            0.0  ...  0.0  0.0   0.0   0.0    0.0    0.0   \n",
       "1                 0.0            0.0  ...  0.0  0.0   0.0   0.0    0.0    0.0   \n",
       "2                 0.0            0.0  ...  0.0  0.0   0.0   0.0    0.0    0.0   \n",
       "3                 0.0            0.0  ...  0.0  0.0   0.0   0.0    0.0    0.0   \n",
       "4                 0.0            0.0  ...  0.0  0.0   0.0   0.0    0.0    0.0   \n",
       "...               ...            ...  ...  ...  ...   ...   ...    ...    ...   \n",
       "214336            0.0            0.0  ...  0.0  0.0   0.0   0.0    0.0    0.0   \n",
       "214337            0.0            0.0  ...  0.0  0.0   0.0   0.0    0.0    0.0   \n",
       "214338            0.0            0.0  ...  0.0  0.0   0.0   0.0    0.0    0.0   \n",
       "214339            0.0            0.0  ...  0.0  0.0   0.0   0.0    0.0    0.0   \n",
       "214340            0.0            0.0  ...  0.0  0.0   0.0   0.0    0.0    0.0   \n",
       "\n",
       "        yummi  zach  zero  zoo  \n",
       "0         0.0   0.0   0.0  0.0  \n",
       "1         0.0   0.0   0.0  0.0  \n",
       "2         0.0   0.0   0.0  0.0  \n",
       "3         0.0   0.0   0.0  0.0  \n",
       "4         0.0   0.0   0.0  0.0  \n",
       "...       ...   ...   ...  ...  \n",
       "214336    0.0   0.0   0.0  0.0  \n",
       "214337    0.0   0.0   0.0  0.0  \n",
       "214338    0.0   0.0   0.0  0.0  \n",
       "214339    0.0   0.0   0.0  0.0  \n",
       "214340    0.0   0.0   0.0  0.0  \n",
       "\n",
       "[214341 rows x 2000 columns]"
      ]
     },
     "execution_count": 120,
     "metadata": {},
     "output_type": "execute_result"
    }
   ],
   "source": [
    "vectors = tfidf_vectorizer_2.transform(docs_2)\n",
    "words_df = pd.DataFrame(vectors.toarray(), columns = tfidf_vectorizer_2.get_feature_names_out())\n",
    "words_df.head(-100)"
   ]
  },
  {
   "cell_type": "code",
   "execution_count": 118,
   "metadata": {},
   "outputs": [
    {
     "name": "stdout",
     "output_type": "stream",
     "text": [
      "<class 'pandas.core.frame.DataFrame'>\n",
      "Int64Index: 215316 entries, 0 to 215315\n",
      "Columns: 2000 entries, abil to zoo\n",
      "dtypes: float64(2000)\n",
      "memory usage: 3.2 GB\n"
     ]
    }
   ],
   "source": [
    "words_df_clean = words_df.dropna()\n",
    "words_df_clean.info()"
   ]
  },
  {
   "cell_type": "code",
   "execution_count": 122,
   "metadata": {},
   "outputs": [
    {
     "name": "stderr",
     "output_type": "stream",
     "text": [
      "/opt/homebrew/lib/python3.9/site-packages/sklearn/base.py:438: UserWarning:\n",
      "\n",
      "X has feature names, but LogisticRegression was fitted without feature names\n",
      "\n",
      "/opt/homebrew/lib/python3.9/site-packages/sklearn/base.py:438: UserWarning:\n",
      "\n",
      "X has feature names, but LogisticRegression was fitted without feature names\n",
      "\n",
      "/opt/homebrew/lib/python3.9/site-packages/sklearn/base.py:438: UserWarning:\n",
      "\n",
      "X has feature names, but DecisionTreeClassifier was fitted without feature names\n",
      "\n",
      "/opt/homebrew/lib/python3.9/site-packages/sklearn/base.py:438: UserWarning:\n",
      "\n",
      "X has feature names, but DecisionTreeClassifier was fitted without feature names\n",
      "\n",
      "/opt/homebrew/lib/python3.9/site-packages/sklearn/base.py:438: UserWarning:\n",
      "\n",
      "X has feature names, but GaussianNB was fitted without feature names\n",
      "\n",
      "/opt/homebrew/lib/python3.9/site-packages/sklearn/base.py:438: UserWarning:\n",
      "\n",
      "X has feature names, but GaussianNB was fitted without feature names\n",
      "\n"
     ]
    }
   ],
   "source": [
    "# Predict using all our models. \n",
    "\n",
    "# Logistic Regression predictions + probabilities\n",
    "df_train_set['pred_logreg'] = lr.predict(words_df)\n",
    "df_train_set['pred_logreg_proba'] = lr.predict_proba(words_df)[:,1]\n",
    "\n",
    "# Decision Tree predictions + probabilities\n",
    "df_train_set['pred_forest'] = dt.predict(words_df)\n",
    "df_train_set['pred_forest_proba'] = dt.predict_proba(words_df)[:,1]\n",
    "\n",
    "# Bayes predictions + probabilities\n",
    "df_train_set['pred_bayes'] = gnb.predict(words_df)\n",
    "df_train_set['pred_bayes_proba'] = gnb.predict_proba(words_df)[:,1]\n",
    "\n",
    "\n",
    "\n",
    "# df_train_set = pd.concat([df_train_set.drop(['sentiment_scores'], axis = 1), df_train_set['sentiment_scores'].apply(pd.Series)], axis = 1)\n"
   ]
  },
  {
   "cell_type": "code",
   "execution_count": 141,
   "metadata": {},
   "outputs": [
    {
     "name": "stderr",
     "output_type": "stream",
     "text": [
      "/opt/homebrew/lib/python3.9/site-packages/sklearn/base.py:438: UserWarning:\n",
      "\n",
      "X has feature names, but RandomForestClassifier was fitted without feature names\n",
      "\n",
      "/opt/homebrew/lib/python3.9/site-packages/sklearn/base.py:438: UserWarning:\n",
      "\n",
      "X has feature names, but RandomForestClassifier was fitted without feature names\n",
      "\n"
     ]
    }
   ],
   "source": [
    "df_train_set['rand_forest'] = clf.predict(words_df)\n",
    "df_train_set['rand_forest_prob'] = clf.predict_proba(words_df)[:,1]"
   ]
  },
  {
   "cell_type": "code",
   "execution_count": 125,
   "metadata": {},
   "outputs": [
    {
     "name": "stderr",
     "output_type": "stream",
     "text": [
      "/opt/homebrew/lib/python3.9/site-packages/sklearn/base.py:438: UserWarning:\n",
      "\n",
      "X has feature names, but DecisionTreeClassifier was fitted without feature names\n",
      "\n",
      "/opt/homebrew/lib/python3.9/site-packages/sklearn/base.py:438: UserWarning:\n",
      "\n",
      "X has feature names, but LogisticRegression was fitted without feature names\n",
      "\n",
      "/opt/homebrew/lib/python3.9/site-packages/sklearn/base.py:438: UserWarning:\n",
      "\n",
      "X has feature names, but GaussianNB was fitted without feature names\n",
      "\n"
     ]
    },
    {
     "ename": "AttributeError",
     "evalue": "predict_proba is not available when voting='hard'",
     "output_type": "error",
     "traceback": [
      "\u001b[0;31m---------------------------------------------------------------------------\u001b[0m",
      "\u001b[0;31mAttributeError\u001b[0m                            Traceback (most recent call last)",
      "\u001b[0;32m/var/folders/hf/hcgy4n2500511jg_9zcfqmn00000gp/T/ipykernel_20179/2609710745.py\u001b[0m in \u001b[0;36m<module>\u001b[0;34m\u001b[0m\n\u001b[1;32m      1\u001b[0m \u001b[0;31m# Voting Classifier predictions + probabilities\u001b[0m\u001b[0;34m\u001b[0m\u001b[0;34m\u001b[0m\u001b[0m\n\u001b[1;32m      2\u001b[0m \u001b[0mdf_train_set\u001b[0m\u001b[0;34m[\u001b[0m\u001b[0;34m'vc_class'\u001b[0m\u001b[0;34m]\u001b[0m \u001b[0;34m=\u001b[0m \u001b[0mvc\u001b[0m\u001b[0;34m.\u001b[0m\u001b[0mpredict\u001b[0m\u001b[0;34m(\u001b[0m\u001b[0mwords_df\u001b[0m\u001b[0;34m)\u001b[0m\u001b[0;34m\u001b[0m\u001b[0;34m\u001b[0m\u001b[0m\n\u001b[0;32m----> 3\u001b[0;31m \u001b[0mdf_train_set\u001b[0m\u001b[0;34m[\u001b[0m\u001b[0;34m'vc_class_prob'\u001b[0m\u001b[0;34m]\u001b[0m \u001b[0;34m=\u001b[0m \u001b[0mvc\u001b[0m\u001b[0;34m.\u001b[0m\u001b[0mpredict_proba\u001b[0m\u001b[0;34m(\u001b[0m\u001b[0mwords_df\u001b[0m\u001b[0;34m)\u001b[0m\u001b[0;34m[\u001b[0m\u001b[0;34m:\u001b[0m\u001b[0;34m,\u001b[0m\u001b[0;36m1\u001b[0m\u001b[0;34m]\u001b[0m\u001b[0;34m\u001b[0m\u001b[0;34m\u001b[0m\u001b[0m\n\u001b[0m",
      "\u001b[0;32m/opt/homebrew/lib/python3.9/site-packages/sklearn/utils/metaestimators.py\u001b[0m in \u001b[0;36m__get__\u001b[0;34m(self, obj, owner)\u001b[0m\n\u001b[1;32m    107\u001b[0m             \u001b[0;31m# delegate only on instances, not the classes.\u001b[0m\u001b[0;34m\u001b[0m\u001b[0;34m\u001b[0m\u001b[0m\n\u001b[1;32m    108\u001b[0m             \u001b[0;31m# this is to allow access to the docstrings.\u001b[0m\u001b[0;34m\u001b[0m\u001b[0;34m\u001b[0m\u001b[0m\n\u001b[0;32m--> 109\u001b[0;31m             \u001b[0;32mif\u001b[0m \u001b[0;32mnot\u001b[0m \u001b[0mself\u001b[0m\u001b[0;34m.\u001b[0m\u001b[0mcheck\u001b[0m\u001b[0;34m(\u001b[0m\u001b[0mobj\u001b[0m\u001b[0;34m)\u001b[0m\u001b[0;34m:\u001b[0m\u001b[0;34m\u001b[0m\u001b[0;34m\u001b[0m\u001b[0m\n\u001b[0m\u001b[1;32m    110\u001b[0m                 \u001b[0;32mraise\u001b[0m \u001b[0mattr_err\u001b[0m\u001b[0;34m\u001b[0m\u001b[0;34m\u001b[0m\u001b[0m\n\u001b[1;32m    111\u001b[0m \u001b[0;34m\u001b[0m\u001b[0m\n",
      "\u001b[0;32m/opt/homebrew/lib/python3.9/site-packages/sklearn/ensemble/_voting.py\u001b[0m in \u001b[0;36m_check_voting\u001b[0;34m(self)\u001b[0m\n\u001b[1;32m    359\u001b[0m     \u001b[0;32mdef\u001b[0m \u001b[0m_check_voting\u001b[0m\u001b[0;34m(\u001b[0m\u001b[0mself\u001b[0m\u001b[0;34m)\u001b[0m\u001b[0;34m:\u001b[0m\u001b[0;34m\u001b[0m\u001b[0;34m\u001b[0m\u001b[0m\n\u001b[1;32m    360\u001b[0m         \u001b[0;32mif\u001b[0m \u001b[0mself\u001b[0m\u001b[0;34m.\u001b[0m\u001b[0mvoting\u001b[0m \u001b[0;34m==\u001b[0m \u001b[0;34m\"hard\"\u001b[0m\u001b[0;34m:\u001b[0m\u001b[0;34m\u001b[0m\u001b[0;34m\u001b[0m\u001b[0m\n\u001b[0;32m--> 361\u001b[0;31m             raise AttributeError(\n\u001b[0m\u001b[1;32m    362\u001b[0m                 \u001b[0;34mf\"predict_proba is not available when voting={repr(self.voting)}\"\u001b[0m\u001b[0;34m\u001b[0m\u001b[0;34m\u001b[0m\u001b[0m\n\u001b[1;32m    363\u001b[0m             )\n",
      "\u001b[0;31mAttributeError\u001b[0m: predict_proba is not available when voting='hard'"
     ]
    }
   ],
   "source": [
    "# Voting Classifier predictions + probabilities\n",
    "df_train_set['vc_class'] = vc.predict(words_df)\n",
    "df_train_set['vc_class_prob'] = vc.predict_proba(words_df)[:,1]"
   ]
  },
  {
   "cell_type": "code",
   "execution_count": 142,
   "metadata": {},
   "outputs": [
    {
     "data": {
      "text/html": [
       "<div>\n",
       "<style scoped>\n",
       "    .dataframe tbody tr th:only-of-type {\n",
       "        vertical-align: middle;\n",
       "    }\n",
       "\n",
       "    .dataframe tbody tr th {\n",
       "        vertical-align: top;\n",
       "    }\n",
       "\n",
       "    .dataframe thead th {\n",
       "        text-align: right;\n",
       "    }\n",
       "</style>\n",
       "<table border=\"1\" class=\"dataframe\">\n",
       "  <thead>\n",
       "    <tr style=\"text-align: right;\">\n",
       "      <th></th>\n",
       "      <th>id</th>\n",
       "      <th>date</th>\n",
       "      <th>reviewer_name</th>\n",
       "      <th>comments</th>\n",
       "      <th>review_scores_rating</th>\n",
       "      <th>price</th>\n",
       "      <th>pred_logreg</th>\n",
       "      <th>pred_logreg_proba</th>\n",
       "      <th>pred_forest</th>\n",
       "      <th>pred_forest_proba</th>\n",
       "      <th>pred_bayes</th>\n",
       "      <th>pred_bayes_proba</th>\n",
       "      <th>vc_class</th>\n",
       "      <th>rand_forest</th>\n",
       "      <th>rand_forest_prob</th>\n",
       "    </tr>\n",
       "  </thead>\n",
       "  <tbody>\n",
       "    <tr>\n",
       "      <th>0</th>\n",
       "      <td>177</td>\n",
       "      <td>2016-09-04</td>\n",
       "      <td>Brenna</td>\n",
       "      <td>great place stay definit tini home still cozi ...</td>\n",
       "      <td>4.80</td>\n",
       "      <td>99.0</td>\n",
       "      <td>4</td>\n",
       "      <td>0.995856</td>\n",
       "      <td>4</td>\n",
       "      <td>1.0</td>\n",
       "      <td>4</td>\n",
       "      <td>1.0</td>\n",
       "      <td>4</td>\n",
       "      <td>4</td>\n",
       "      <td>0.0</td>\n",
       "    </tr>\n",
       "    <tr>\n",
       "      <th>1</th>\n",
       "      <td>177</td>\n",
       "      <td>2016-09-13</td>\n",
       "      <td>Rachael</td>\n",
       "      <td>joe wa veri friendli gave us inform needed hou...</td>\n",
       "      <td>4.80</td>\n",
       "      <td>99.0</td>\n",
       "      <td>4</td>\n",
       "      <td>0.986607</td>\n",
       "      <td>4</td>\n",
       "      <td>1.0</td>\n",
       "      <td>4</td>\n",
       "      <td>1.0</td>\n",
       "      <td>4</td>\n",
       "      <td>4</td>\n",
       "      <td>0.0</td>\n",
       "    </tr>\n",
       "    <tr>\n",
       "      <th>2</th>\n",
       "      <td>177</td>\n",
       "      <td>2016-09-14</td>\n",
       "      <td>Haley</td>\n",
       "      <td>amaz properti joe wa great host even offer wal...</td>\n",
       "      <td>4.80</td>\n",
       "      <td>99.0</td>\n",
       "      <td>4</td>\n",
       "      <td>0.992096</td>\n",
       "      <td>4</td>\n",
       "      <td>1.0</td>\n",
       "      <td>4</td>\n",
       "      <td>1.0</td>\n",
       "      <td>4</td>\n",
       "      <td>4</td>\n",
       "      <td>0.0</td>\n",
       "    </tr>\n",
       "    <tr>\n",
       "      <th>3</th>\n",
       "      <td>177</td>\n",
       "      <td>2016-09-19</td>\n",
       "      <td>Mike</td>\n",
       "      <td>joe wa great host descript thi tini hous wa sp...</td>\n",
       "      <td>4.80</td>\n",
       "      <td>99.0</td>\n",
       "      <td>4</td>\n",
       "      <td>0.996590</td>\n",
       "      <td>4</td>\n",
       "      <td>1.0</td>\n",
       "      <td>4</td>\n",
       "      <td>1.0</td>\n",
       "      <td>4</td>\n",
       "      <td>4</td>\n",
       "      <td>0.0</td>\n",
       "    </tr>\n",
       "    <tr>\n",
       "      <th>4</th>\n",
       "      <td>177</td>\n",
       "      <td>2016-09-22</td>\n",
       "      <td>Carol</td>\n",
       "      <td>welcom us first arriv gave great recommend din...</td>\n",
       "      <td>4.80</td>\n",
       "      <td>99.0</td>\n",
       "      <td>4</td>\n",
       "      <td>0.992751</td>\n",
       "      <td>4</td>\n",
       "      <td>1.0</td>\n",
       "      <td>5</td>\n",
       "      <td>0.0</td>\n",
       "      <td>4</td>\n",
       "      <td>4</td>\n",
       "      <td>0.0</td>\n",
       "    </tr>\n",
       "    <tr>\n",
       "      <th>...</th>\n",
       "      <td>...</td>\n",
       "      <td>...</td>\n",
       "      <td>...</td>\n",
       "      <td>...</td>\n",
       "      <td>...</td>\n",
       "      <td>...</td>\n",
       "      <td>...</td>\n",
       "      <td>...</td>\n",
       "      <td>...</td>\n",
       "      <td>...</td>\n",
       "      <td>...</td>\n",
       "      <td>...</td>\n",
       "      <td>...</td>\n",
       "      <td>...</td>\n",
       "      <td>...</td>\n",
       "    </tr>\n",
       "    <tr>\n",
       "      <th>95</th>\n",
       "      <td>360</td>\n",
       "      <td>2018-08-23</td>\n",
       "      <td>Ziad</td>\n",
       "      <td>amaz stay one best kept airbnb secret world hi...</td>\n",
       "      <td>4.99</td>\n",
       "      <td>135.0</td>\n",
       "      <td>4</td>\n",
       "      <td>0.983682</td>\n",
       "      <td>4</td>\n",
       "      <td>1.0</td>\n",
       "      <td>5</td>\n",
       "      <td>0.0</td>\n",
       "      <td>4</td>\n",
       "      <td>4</td>\n",
       "      <td>0.0</td>\n",
       "    </tr>\n",
       "    <tr>\n",
       "      <th>96</th>\n",
       "      <td>360</td>\n",
       "      <td>2018-08-24</td>\n",
       "      <td>Andrea</td>\n",
       "      <td>cottag ha great set garden sever outdoor area ...</td>\n",
       "      <td>4.99</td>\n",
       "      <td>135.0</td>\n",
       "      <td>4</td>\n",
       "      <td>0.993042</td>\n",
       "      <td>4</td>\n",
       "      <td>1.0</td>\n",
       "      <td>4</td>\n",
       "      <td>1.0</td>\n",
       "      <td>4</td>\n",
       "      <td>4</td>\n",
       "      <td>0.0</td>\n",
       "    </tr>\n",
       "    <tr>\n",
       "      <th>97</th>\n",
       "      <td>360</td>\n",
       "      <td>2018-08-26</td>\n",
       "      <td>Iris</td>\n",
       "      <td>super cute place veri peac love gardenbri onli...</td>\n",
       "      <td>4.99</td>\n",
       "      <td>135.0</td>\n",
       "      <td>4</td>\n",
       "      <td>0.995943</td>\n",
       "      <td>4</td>\n",
       "      <td>1.0</td>\n",
       "      <td>4</td>\n",
       "      <td>1.0</td>\n",
       "      <td>4</td>\n",
       "      <td>4</td>\n",
       "      <td>0.0</td>\n",
       "    </tr>\n",
       "    <tr>\n",
       "      <th>98</th>\n",
       "      <td>360</td>\n",
       "      <td>2018-08-29</td>\n",
       "      <td>Michael</td>\n",
       "      <td>great spot made point stay second time</td>\n",
       "      <td>4.99</td>\n",
       "      <td>135.0</td>\n",
       "      <td>4</td>\n",
       "      <td>0.981507</td>\n",
       "      <td>4</td>\n",
       "      <td>1.0</td>\n",
       "      <td>5</td>\n",
       "      <td>0.0</td>\n",
       "      <td>4</td>\n",
       "      <td>4</td>\n",
       "      <td>0.0</td>\n",
       "    </tr>\n",
       "    <tr>\n",
       "      <th>99</th>\n",
       "      <td>360</td>\n",
       "      <td>2018-08-30</td>\n",
       "      <td>Nick</td>\n",
       "      <td>jennif gio amaz hosts thi wa one best stay gre...</td>\n",
       "      <td>4.99</td>\n",
       "      <td>135.0</td>\n",
       "      <td>4</td>\n",
       "      <td>0.994494</td>\n",
       "      <td>4</td>\n",
       "      <td>1.0</td>\n",
       "      <td>4</td>\n",
       "      <td>1.0</td>\n",
       "      <td>4</td>\n",
       "      <td>4</td>\n",
       "      <td>0.0</td>\n",
       "    </tr>\n",
       "  </tbody>\n",
       "</table>\n",
       "<p>100 rows × 15 columns</p>\n",
       "</div>"
      ],
      "text/plain": [
       "     id        date reviewer_name  \\\n",
       "0   177  2016-09-04        Brenna   \n",
       "1   177  2016-09-13       Rachael   \n",
       "2   177  2016-09-14         Haley   \n",
       "3   177  2016-09-19          Mike   \n",
       "4   177  2016-09-22         Carol   \n",
       "..  ...         ...           ...   \n",
       "95  360  2018-08-23          Ziad   \n",
       "96  360  2018-08-24        Andrea   \n",
       "97  360  2018-08-26          Iris   \n",
       "98  360  2018-08-29       Michael   \n",
       "99  360  2018-08-30          Nick   \n",
       "\n",
       "                                             comments  review_scores_rating  \\\n",
       "0   great place stay definit tini home still cozi ...                  4.80   \n",
       "1   joe wa veri friendli gave us inform needed hou...                  4.80   \n",
       "2   amaz properti joe wa great host even offer wal...                  4.80   \n",
       "3   joe wa great host descript thi tini hous wa sp...                  4.80   \n",
       "4   welcom us first arriv gave great recommend din...                  4.80   \n",
       "..                                                ...                   ...   \n",
       "95  amaz stay one best kept airbnb secret world hi...                  4.99   \n",
       "96  cottag ha great set garden sever outdoor area ...                  4.99   \n",
       "97  super cute place veri peac love gardenbri onli...                  4.99   \n",
       "98             great spot made point stay second time                  4.99   \n",
       "99  jennif gio amaz hosts thi wa one best stay gre...                  4.99   \n",
       "\n",
       "    price  pred_logreg  pred_logreg_proba  pred_forest  pred_forest_proba  \\\n",
       "0    99.0            4           0.995856            4                1.0   \n",
       "1    99.0            4           0.986607            4                1.0   \n",
       "2    99.0            4           0.992096            4                1.0   \n",
       "3    99.0            4           0.996590            4                1.0   \n",
       "4    99.0            4           0.992751            4                1.0   \n",
       "..    ...          ...                ...          ...                ...   \n",
       "95  135.0            4           0.983682            4                1.0   \n",
       "96  135.0            4           0.993042            4                1.0   \n",
       "97  135.0            4           0.995943            4                1.0   \n",
       "98  135.0            4           0.981507            4                1.0   \n",
       "99  135.0            4           0.994494            4                1.0   \n",
       "\n",
       "    pred_bayes  pred_bayes_proba  vc_class  rand_forest  rand_forest_prob  \n",
       "0            4               1.0         4            4               0.0  \n",
       "1            4               1.0         4            4               0.0  \n",
       "2            4               1.0         4            4               0.0  \n",
       "3            4               1.0         4            4               0.0  \n",
       "4            5               0.0         4            4               0.0  \n",
       "..         ...               ...       ...          ...               ...  \n",
       "95           5               0.0         4            4               0.0  \n",
       "96           4               1.0         4            4               0.0  \n",
       "97           4               1.0         4            4               0.0  \n",
       "98           5               0.0         4            4               0.0  \n",
       "99           4               1.0         4            4               0.0  \n",
       "\n",
       "[100 rows x 15 columns]"
      ]
     },
     "execution_count": 142,
     "metadata": {},
     "output_type": "execute_result"
    }
   ],
   "source": [
    "df_train_set.head(100)"
   ]
  },
  {
   "cell_type": "code",
   "execution_count": 127,
   "metadata": {},
   "outputs": [],
   "source": [
    "from sklearn.metrics import mean_squared_error, r2_score, accuracy_score, mean_absolute_error"
   ]
  },
  {
   "cell_type": "code",
   "execution_count": 143,
   "metadata": {},
   "outputs": [
    {
     "data": {
      "text/plain": [
       "0.58035"
      ]
     },
     "execution_count": 143,
     "metadata": {},
     "output_type": "execute_result"
    }
   ],
   "source": [
    "y_preds = gnb.predict(X_test)\n",
    "\n",
    "mean_squared_error(y_test, y_preds)"
   ]
  },
  {
   "cell_type": "code",
   "execution_count": 144,
   "metadata": {},
   "outputs": [
    {
     "data": {
      "text/plain": [
       "0.7618070621883207"
      ]
     },
     "execution_count": 144,
     "metadata": {},
     "output_type": "execute_result"
    }
   ],
   "source": [
    "from math import sqrt\n",
    "rmse = sqrt(mean_squared_error(y_test, y_preds))\n",
    "rmse"
   ]
  },
  {
   "cell_type": "code",
   "execution_count": 130,
   "metadata": {},
   "outputs": [
    {
     "data": {
      "text/plain": [
       "array([4, 4, 4, 4, 4, 4, 4, 4, 4, 4])"
      ]
     },
     "execution_count": 130,
     "metadata": {},
     "output_type": "execute_result"
    }
   ],
   "source": [
    "y_preds[:10]"
   ]
  },
  {
   "cell_type": "code",
   "execution_count": null,
   "metadata": {},
   "outputs": [],
   "source": [
    "# def compare_model_residuals(models,X,y):\n",
    "#     f, (ax1, ax2, ax3) = plt.subplots(3, sharex=True, sharey=True)\n",
    "#     plt.title('Plotting residuals using training (blue) and test (green) data')\n",
    "#     mean_sq_e = []\n",
    "#     for m, ax in ((models[0], ax1),(models[1], ax2),(models[2], ax3)):\n",
    "#         X_train, X_test, y_train, y_test = train_test_split(X, y, test_size=0.2)\n",
    "#         m[0].fit(X_train, y_train)\n",
    "#         y_preds_train = m[0].predict(X_train)\n",
    "#         y_preds_test = m[0].predict(X_test)\n",
    "#         ax.scatter(m[0].predict(X_train), y_preds_train - y_train,c='#2B94E9',s=40,alpha=0.5)\n",
    "#         ax.scatter(m[0].predict(X_test), y_preds_test - y_test,c='#94BA65',s=40)\n",
    "#         ax.hlines(y=0, xmin=0, xmax=100)\n",
    "#         ax.set_title(m[1])\n",
    "#         ax.set_ylabel('Residuals')\n",
    "#         mean_sq_e.append(\"Model {} with absolute error {}\".format(m[1], str(mean_absolute_error(y_test,y_preds_test))))\n",
    "#     plt.xlim([20,70])\n",
    "#     plt.ylim([-100,100])  \n",
    "#     plt.show()\n",
    "#     print(mean_sq_e)\n",
    "# models = np.array([(dt,'Decision Tree'), (lr,'Logistic Regression'), (clf,'Random Forest')])\n",
    "# compare_model_residuals(models, X, Y)"
   ]
  },
  {
   "cell_type": "code",
   "execution_count": 186,
   "metadata": {},
   "outputs": [],
   "source": [
    "predictions = pd.Series(lr.predict(X), name=\"sentiment\")\n",
    "results = pd.concat([predictions],axis=1)\n",
    "results.to_csv(\"airbnb-review-sentiment.csv\",index=False)"
   ]
  },
  {
   "cell_type": "markdown",
   "metadata": {},
   "source": [
    "Hence we successfully studied various models like Decision Tree, SVM, Naive Bayes and Logistic Regression and implemented them for the given dataset as part of the experiment along with a comparative analysis of various metrics and made the following observations.\n",
    "\n",
    "Naïve Bayes and Decision Tree are susceptible to noise if present in the dataset because when we reduced the number of features by considering only the most frequent words the accuracy and AUC score increased significantly.\n",
    "Logistic Regression and SVM performed almost same for the given dataset even with the initial number of features.\n",
    "We can increase Accuracy marginally by removing Named Entities using spacy and performing Lemmatization on top of that on all the models mentioned above."
   ]
  },
  {
   "cell_type": "code",
   "execution_count": 187,
   "metadata": {},
   "outputs": [
    {
     "name": "stdout",
     "output_type": "stream",
     "text": [
      "<class 'pandas.core.frame.DataFrame'>\n",
      "Int64Index: 100000 entries, 0 to 99999\n",
      "Data columns (total 12 columns):\n",
      " #   Column                Non-Null Count   Dtype  \n",
      "---  ------                --------------   -----  \n",
      " 0   id                    100000 non-null  int64  \n",
      " 1   date                  100000 non-null  object \n",
      " 2   reviewer_name         100000 non-null  object \n",
      " 3   comments              100000 non-null  object \n",
      " 4   listing_url           100000 non-null  object \n",
      " 5   host_name             100000 non-null  object \n",
      " 6   review_scores_rating  99996 non-null   float64\n",
      " 7   price                 100000 non-null  float64\n",
      " 8   neg                   100000 non-null  float64\n",
      " 9   neu                   100000 non-null  float64\n",
      " 10  pos                   100000 non-null  float64\n",
      " 11  compound              100000 non-null  float64\n",
      "dtypes: float64(6), int64(1), object(5)\n",
      "memory usage: 9.9+ MB\n"
     ]
    }
   ],
   "source": [
    "# add sentiment anaylsis columns\n",
    "# df_sample_set[\"sentiment_scores\"] = df_sample_set[\"comments\"].apply(lambda x: SIA.polarity_scores(x))\n",
    "# df_sample_set = pd.concat([df_sample_set.drop(['sentiment_scores'], axis = 1), df_sample_set['sentiment_scores'].apply(pd.Series)], axis = 1)\n",
    "# df_sample_set.info()"
   ]
  },
  {
   "cell_type": "code",
   "execution_count": 146,
   "metadata": {},
   "outputs": [],
   "source": [
    "#Calculates pscores (builtin nltk sentiment analysis)\n",
    "pscores = [SIA.polarity_scores(comments) for comments in df_train_set['comments']]"
   ]
  },
  {
   "cell_type": "code",
   "execution_count": 147,
   "metadata": {},
   "outputs": [
    {
     "data": {
      "text/plain": [
       "Text(0, 0.5, 'frequency')"
      ]
     },
     "execution_count": 147,
     "metadata": {},
     "output_type": "execute_result"
    },
    {
     "data": {
      "image/png": "[encoded data removed]",
      "text/plain": [
       "<Figure size 432x288 with 1 Axes>"
      ]
     },
     "metadata": {
      "needs_background": "light"
     },
     "output_type": "display_data"
    }
   ],
   "source": [
    "pd.Series([score['compound'] for score in pscores]).plot(kind = 'hist')\n",
    "plt.title('Compound Scores')\n",
    "plt.xlabel('Scores')\n",
    "plt.ylabel('frequency')"
   ]
  },
  {
   "cell_type": "code",
   "execution_count": 148,
   "metadata": {},
   "outputs": [
    {
     "data": {
      "text/plain": [
       "Text(0, 0.5, 'Frequency')"
      ]
     },
     "execution_count": 148,
     "metadata": {},
     "output_type": "execute_result"
    },
    {
     "data": {
      "image/png": "[encoded data removed]",
      "text/plain": [
       "<Figure size 432x288 with 1 Axes>"
      ]
     },
     "metadata": {
      "needs_background": "light"
     },
     "output_type": "display_data"
    }
   ],
   "source": [
    "pd.Series([score['neu'] for score in pscores]).plot(kind='hist')\n",
    "plt.title('Neutral')\n",
    "plt.xlabel('Scores')\n",
    "plt.ylabel('Frequency')"
   ]
  },
  {
   "cell_type": "code",
   "execution_count": 149,
   "metadata": {},
   "outputs": [
    {
     "data": {
      "text/plain": [
       "Text(0, 0.5, 'Frequency')"
      ]
     },
     "execution_count": 149,
     "metadata": {},
     "output_type": "execute_result"
    },
    {
     "data": {
      "image/png": "[encoded data removed]",
      "text/plain": [
       "<Figure size 432x288 with 1 Axes>"
      ]
     },
     "metadata": {
      "needs_background": "light"
     },
     "output_type": "display_data"
    }
   ],
   "source": [
    "pd.Series([score['pos'] for score in pscores]).plot(kind='hist')\n",
    "plt.title('Positive Scores')\n",
    "plt.xlabel('Scores')\n",
    "plt.ylabel('Frequency')"
   ]
  },
  {
   "cell_type": "code",
   "execution_count": 150,
   "metadata": {},
   "outputs": [
    {
     "data": {
      "text/plain": [
       "Text(0, 0.5, 'Frequency')"
      ]
     },
     "execution_count": 150,
     "metadata": {},
     "output_type": "execute_result"
    },
    {
     "data": {
      "image/png": "[encoded data removed]",
      "text/plain": [
       "<Figure size 432x288 with 1 Axes>"
      ]
     },
     "metadata": {
      "needs_background": "light"
     },
     "output_type": "display_data"
    }
   ],
   "source": [
    "pd.Series([score['neg'] for score in pscores]).plot(kind='hist', bins=25)\n",
    "plt.title('Negative Scores')\n",
    "plt.xlabel('Scores')\n",
    "plt.ylabel('Frequency')"
   ]
  },
  {
   "cell_type": "code",
   "execution_count": 152,
   "metadata": {},
   "outputs": [],
   "source": [
    "scored_reviews = pd.DataFrame()\n",
    "scored_reviews['review'] = [r for r in df_train_set['comments']]\n",
    "scored_reviews['compound'] = [score['compound'] for score in pscores]\n",
    "scored_reviews['negativity'] = [score['neg'] for score in pscores]\n",
    "scored_reviews['neutrality'] = [score['neu'] for score in pscores]\n",
    "scored_reviews['positivity'] = [score['pos'] for score in pscores]"
   ]
  },
  {
   "cell_type": "code",
   "execution_count": 153,
   "metadata": {},
   "outputs": [
    {
     "data": {
      "text/html": [
       "<div>\n",
       "<style scoped>\n",
       "    .dataframe tbody tr th:only-of-type {\n",
       "        vertical-align: middle;\n",
       "    }\n",
       "\n",
       "    .dataframe tbody tr th {\n",
       "        vertical-align: top;\n",
       "    }\n",
       "\n",
       "    .dataframe thead th {\n",
       "        text-align: right;\n",
       "    }\n",
       "</style>\n",
       "<table border=\"1\" class=\"dataframe\">\n",
       "  <thead>\n",
       "    <tr style=\"text-align: right;\">\n",
       "      <th></th>\n",
       "      <th>review</th>\n",
       "      <th>compound</th>\n",
       "      <th>negativity</th>\n",
       "      <th>neutrality</th>\n",
       "      <th>positivity</th>\n",
       "    </tr>\n",
       "  </thead>\n",
       "  <tbody>\n",
       "    <tr>\n",
       "      <th>10</th>\n",
       "      <td>enjoy privaci hospit dure stay joe wa veri und...</td>\n",
       "      <td>0.5267</td>\n",
       "      <td>0.070</td>\n",
       "      <td>0.758</td>\n",
       "      <td>0.173</td>\n",
       "    </tr>\n",
       "    <tr>\n",
       "      <th>15</th>\n",
       "      <td>thi tini hous wa wonderful joe wa excel explai...</td>\n",
       "      <td>0.9887</td>\n",
       "      <td>0.039</td>\n",
       "      <td>0.684</td>\n",
       "      <td>0.277</td>\n",
       "    </tr>\n",
       "    <tr>\n",
       "      <th>16</th>\n",
       "      <td>great experi anyon consid go tiny love cozi li...</td>\n",
       "      <td>0.8176</td>\n",
       "      <td>0.044</td>\n",
       "      <td>0.754</td>\n",
       "      <td>0.202</td>\n",
       "    </tr>\n",
       "    <tr>\n",
       "      <th>20</th>\n",
       "      <td>thi wa experi would keep everyth book checkout...</td>\n",
       "      <td>0.9592</td>\n",
       "      <td>0.029</td>\n",
       "      <td>0.721</td>\n",
       "      <td>0.250</td>\n",
       "    </tr>\n",
       "    <tr>\n",
       "      <th>21</th>\n",
       "      <td>quaint cozi setting compost toilet amazing mes...</td>\n",
       "      <td>0.3182</td>\n",
       "      <td>0.153</td>\n",
       "      <td>0.613</td>\n",
       "      <td>0.233</td>\n",
       "    </tr>\n",
       "    <tr>\n",
       "      <th>...</th>\n",
       "      <td>...</td>\n",
       "      <td>...</td>\n",
       "      <td>...</td>\n",
       "      <td>...</td>\n",
       "      <td>...</td>\n",
       "    </tr>\n",
       "    <tr>\n",
       "      <th>214379</th>\n",
       "      <td>great time denver stay wa great needed onli wa...</td>\n",
       "      <td>0.9042</td>\n",
       "      <td>0.052</td>\n",
       "      <td>0.644</td>\n",
       "      <td>0.304</td>\n",
       "    </tr>\n",
       "    <tr>\n",
       "      <th>214390</th>\n",
       "      <td>great home away home love stay quick getaway w...</td>\n",
       "      <td>0.9668</td>\n",
       "      <td>0.094</td>\n",
       "      <td>0.491</td>\n",
       "      <td>0.416</td>\n",
       "    </tr>\n",
       "    <tr>\n",
       "      <th>214397</th>\n",
       "      <td>thi wonder place stay exactli advertised mani ...</td>\n",
       "      <td>-0.8126</td>\n",
       "      <td>0.233</td>\n",
       "      <td>0.708</td>\n",
       "      <td>0.059</td>\n",
       "    </tr>\n",
       "    <tr>\n",
       "      <th>214416</th>\n",
       "      <td>highli recommend justin downstair apartment ve...</td>\n",
       "      <td>0.9485</td>\n",
       "      <td>0.064</td>\n",
       "      <td>0.672</td>\n",
       "      <td>0.264</td>\n",
       "    </tr>\n",
       "    <tr>\n",
       "      <th>214429</th>\n",
       "      <td>great stay place wa exactli advertised clean s...</td>\n",
       "      <td>0.9517</td>\n",
       "      <td>0.061</td>\n",
       "      <td>0.452</td>\n",
       "      <td>0.487</td>\n",
       "    </tr>\n",
       "  </tbody>\n",
       "</table>\n",
       "<p>30700 rows × 5 columns</p>\n",
       "</div>"
      ],
      "text/plain": [
       "                                                   review  compound  \\\n",
       "10      enjoy privaci hospit dure stay joe wa veri und...    0.5267   \n",
       "15      thi tini hous wa wonderful joe wa excel explai...    0.9887   \n",
       "16      great experi anyon consid go tiny love cozi li...    0.8176   \n",
       "20      thi wa experi would keep everyth book checkout...    0.9592   \n",
       "21      quaint cozi setting compost toilet amazing mes...    0.3182   \n",
       "...                                                   ...       ...   \n",
       "214379  great time denver stay wa great needed onli wa...    0.9042   \n",
       "214390  great home away home love stay quick getaway w...    0.9668   \n",
       "214397  thi wonder place stay exactli advertised mani ...   -0.8126   \n",
       "214416  highli recommend justin downstair apartment ve...    0.9485   \n",
       "214429  great stay place wa exactli advertised clean s...    0.9517   \n",
       "\n",
       "        negativity  neutrality  positivity  \n",
       "10           0.070       0.758       0.173  \n",
       "15           0.039       0.684       0.277  \n",
       "16           0.044       0.754       0.202  \n",
       "20           0.029       0.721       0.250  \n",
       "21           0.153       0.613       0.233  \n",
       "...            ...         ...         ...  \n",
       "214379       0.052       0.644       0.304  \n",
       "214390       0.094       0.491       0.416  \n",
       "214397       0.233       0.708       0.059  \n",
       "214416       0.064       0.672       0.264  \n",
       "214429       0.061       0.452       0.487  \n",
       "\n",
       "[30700 rows x 5 columns]"
      ]
     },
     "execution_count": 153,
     "metadata": {},
     "output_type": "execute_result"
    }
   ],
   "source": [
    "scored_reviews.query('negativity > 0')"
   ]
  },
  {
   "cell_type": "markdown",
   "metadata": {},
   "source": [
    "Not many negative reviews"
   ]
  },
  {
   "cell_type": "code",
   "execution_count": 74,
   "metadata": {},
   "outputs": [
    {
     "data": {
      "text/html": [
       "<div>\n",
       "<style scoped>\n",
       "    .dataframe tbody tr th:only-of-type {\n",
       "        vertical-align: middle;\n",
       "    }\n",
       "\n",
       "    .dataframe tbody tr th {\n",
       "        vertical-align: top;\n",
       "    }\n",
       "\n",
       "    .dataframe thead th {\n",
       "        text-align: right;\n",
       "    }\n",
       "</style>\n",
       "<table border=\"1\" class=\"dataframe\">\n",
       "  <thead>\n",
       "    <tr style=\"text-align: right;\">\n",
       "      <th></th>\n",
       "      <th>review</th>\n",
       "      <th>compound</th>\n",
       "      <th>negativity</th>\n",
       "      <th>neutrality</th>\n",
       "      <th>positivity</th>\n",
       "    </tr>\n",
       "  </thead>\n",
       "  <tbody>\n",
       "    <tr>\n",
       "      <th>30</th>\n",
       "      <td>joe host made us veri uncomfortable left town ...</td>\n",
       "      <td>-0.7466</td>\n",
       "      <td>0.251</td>\n",
       "      <td>0.677</td>\n",
       "      <td>0.072</td>\n",
       "    </tr>\n",
       "    <tr>\n",
       "      <th>35</th>\n",
       "      <td>host cancel thi reserv day befor arrival thi a...</td>\n",
       "      <td>-0.2500</td>\n",
       "      <td>0.182</td>\n",
       "      <td>0.818</td>\n",
       "      <td>0.000</td>\n",
       "    </tr>\n",
       "    <tr>\n",
       "      <th>623</th>\n",
       "      <td>jill place wa great valu indeed bu stop close ...</td>\n",
       "      <td>0.2910</td>\n",
       "      <td>0.111</td>\n",
       "      <td>0.791</td>\n",
       "      <td>0.098</td>\n",
       "    </tr>\n",
       "    <tr>\n",
       "      <th>723</th>\n",
       "      <td>start trip us jill veri short notice couldnt f...</td>\n",
       "      <td>-0.2537</td>\n",
       "      <td>0.188</td>\n",
       "      <td>0.708</td>\n",
       "      <td>0.104</td>\n",
       "    </tr>\n",
       "    <tr>\n",
       "      <th>762</th>\n",
       "      <td>host wa extrem commun thi lower stress level b...</td>\n",
       "      <td>-0.2023</td>\n",
       "      <td>0.113</td>\n",
       "      <td>0.814</td>\n",
       "      <td>0.072</td>\n",
       "    </tr>\n",
       "    <tr>\n",
       "      <th>...</th>\n",
       "      <td>...</td>\n",
       "      <td>...</td>\n",
       "      <td>...</td>\n",
       "      <td>...</td>\n",
       "      <td>...</td>\n",
       "    </tr>\n",
       "    <tr>\n",
       "      <th>99136</th>\n",
       "      <td>host cancel thi reserv day befor arrival thi a...</td>\n",
       "      <td>-0.2500</td>\n",
       "      <td>0.182</td>\n",
       "      <td>0.818</td>\n",
       "      <td>0.000</td>\n",
       "    </tr>\n",
       "    <tr>\n",
       "      <th>99180</th>\n",
       "      <td>get pay</td>\n",
       "      <td>-0.1027</td>\n",
       "      <td>0.583</td>\n",
       "      <td>0.417</td>\n",
       "      <td>0.000</td>\n",
       "    </tr>\n",
       "    <tr>\n",
       "      <th>99215</th>\n",
       "      <td>host cancel thi reserv day befor arrival thi a...</td>\n",
       "      <td>-0.2500</td>\n",
       "      <td>0.182</td>\n",
       "      <td>0.818</td>\n",
       "      <td>0.000</td>\n",
       "    </tr>\n",
       "    <tr>\n",
       "      <th>99242</th>\n",
       "      <td>setup stay amin place dure major renov build w...</td>\n",
       "      <td>-0.5600</td>\n",
       "      <td>0.144</td>\n",
       "      <td>0.741</td>\n",
       "      <td>0.115</td>\n",
       "    </tr>\n",
       "    <tr>\n",
       "      <th>99244</th>\n",
       "      <td>host cancel thi reserv day befor arrival thi a...</td>\n",
       "      <td>-0.2500</td>\n",
       "      <td>0.182</td>\n",
       "      <td>0.818</td>\n",
       "      <td>0.000</td>\n",
       "    </tr>\n",
       "  </tbody>\n",
       "</table>\n",
       "<p>1024 rows × 5 columns</p>\n",
       "</div>"
      ],
      "text/plain": [
       "                                                  review  compound  \\\n",
       "30     joe host made us veri uncomfortable left town ...   -0.7466   \n",
       "35     host cancel thi reserv day befor arrival thi a...   -0.2500   \n",
       "623    jill place wa great valu indeed bu stop close ...    0.2910   \n",
       "723    start trip us jill veri short notice couldnt f...   -0.2537   \n",
       "762    host wa extrem commun thi lower stress level b...   -0.2023   \n",
       "...                                                  ...       ...   \n",
       "99136  host cancel thi reserv day befor arrival thi a...   -0.2500   \n",
       "99180                                            get pay   -0.1027   \n",
       "99215  host cancel thi reserv day befor arrival thi a...   -0.2500   \n",
       "99242  setup stay amin place dure major renov build w...   -0.5600   \n",
       "99244  host cancel thi reserv day befor arrival thi a...   -0.2500   \n",
       "\n",
       "       negativity  neutrality  positivity  \n",
       "30          0.251       0.677       0.072  \n",
       "35          0.182       0.818       0.000  \n",
       "623         0.111       0.791       0.098  \n",
       "723         0.188       0.708       0.104  \n",
       "762         0.113       0.814       0.072  \n",
       "...           ...         ...         ...  \n",
       "99136       0.182       0.818       0.000  \n",
       "99180       0.583       0.417       0.000  \n",
       "99215       0.182       0.818       0.000  \n",
       "99242       0.144       0.741       0.115  \n",
       "99244       0.182       0.818       0.000  \n",
       "\n",
       "[1024 rows x 5 columns]"
      ]
     },
     "execution_count": 74,
     "metadata": {},
     "output_type": "execute_result"
    }
   ],
   "source": [
    "scored_reviews.query('negativity > positivity').query('negativity > 0.1')"
   ]
  },
  {
   "cell_type": "code",
   "execution_count": 65,
   "metadata": {},
   "outputs": [],
   "source": [
    "#TODO: nltk built in sentiment analysis seems to be not as accurate as I'd like\n",
    "# marking comments negative even though overall sentiment is positive"
   ]
  },
  {
   "cell_type": "code",
   "execution_count": 128,
   "metadata": {},
   "outputs": [
    {
     "name": "stderr",
     "output_type": "stream",
     "text": [
      "[nltk_data] Downloading package punkt to /Users/yobae/nltk_data...\n",
      "[nltk_data]   Unzipping tokenizers/punkt.zip.\n",
      "[nltk_data] Downloading package wordnet to /Users/yobae/nltk_data...\n",
      "[nltk_data]   Unzipping corpora/wordnet.zip.\n",
      "[nltk_data] Downloading package stopwords to /Users/yobae/nltk_data...\n",
      "[nltk_data]   Package stopwords is already up-to-date!\n"
     ]
    }
   ],
   "source": [
    "from nltk.tokenize import word_tokenize\n",
    "from sklearn.feature_extraction.text import CountVectorizer, TfidfTransformer\n",
    "from nltk.stem import WordNetLemmatizer\n",
    "from sklearn.ensemble import RandomForestRegressor, RandomForestClassifier\n",
    "from sklearn.pipeline import Pipeline\n",
    "nltk.download(['punkt', 'wordnet', 'stopwords'])\n",
    "from nltk.tokenize import word_tokenize, sent_tokenize\n",
    "from nltk.corpus import stopwords"
   ]
  },
  {
   "cell_type": "code",
   "execution_count": 129,
   "metadata": {},
   "outputs": [],
   "source": [
    "def tokenize(text):\n",
    "    '''\n",
    "    Input: Text String (str)\n",
    "    \n",
    "    Process: \n",
    "    1. Tokenize text into tokens\n",
    "    2. Remove stop words\n",
    "    3. Lemmatize\n",
    "    \n",
    "    Output: List of text tokens for string\n",
    "    '''\n",
    "    tokens = word_tokenize(text)\n",
    "    stop_words = set(stopwords.words('english')) \n",
    "    lemmatizer = WordNetLemmatizer()\n",
    "    tokens = [w for w in tokens if not w in stop_words]\n",
    "    tokens = [lemmatizer.lemmatize(w.lower().strip()) for w in tokens]\n",
    "    return tokens"
   ]
  },
  {
   "cell_type": "code",
   "execution_count": 130,
   "metadata": {},
   "outputs": [],
   "source": [
    "# Initialize ML pipeline\n",
    "pipeline = Pipeline([\n",
    "    ('vect', CountVectorizer(tokenizer=tokenize)),\n",
    "    ('tfidf', TfidfTransformer()),\n",
    "    ('clf', RandomForestRegressor())\n",
    "])"
   ]
  },
  {
   "cell_type": "code",
   "execution_count": 134,
   "metadata": {},
   "outputs": [],
   "source": [
    "# Import train_test_split, Split data\n",
    "from sklearn.model_selection import train_test_split\n",
    "X = df_test['comments']\n",
    "Y = df_test['price']\n",
    "X_train, X_test, y_train, y_test = train_test_split(X, Y, test_size = 0.2)"
   ]
  },
  {
   "cell_type": "code",
   "execution_count": null,
   "metadata": {},
   "outputs": [],
   "source": [
    "# Fit pipeline\n",
    "# Takes too long to run\n",
    "pipeline.fit(X_train, y_train)"
   ]
  },
  {
   "cell_type": "code",
   "execution_count": null,
   "metadata": {},
   "outputs": [],
   "source": [
    "y_preds = pipeline.predict(X_test)"
   ]
  },
  {
   "cell_type": "code",
   "execution_count": null,
   "metadata": {},
   "outputs": [],
   "source": [
    "y_preds = pipeline.predict(X_test)\n",
    "\n",
    "mean_squared_error(y_test, y_preds)"
   ]
  },
  {
   "cell_type": "code",
   "execution_count": null,
   "metadata": {},
   "outputs": [],
   "source": [
    "from math import sqrt\n",
    "rmse = sqrt(mean_squared_error(y_test, y_preds))\n",
    "rmse\n"
   ]
  },
  {
   "cell_type": "code",
   "execution_count": null,
   "metadata": {},
   "outputs": [],
   "source": [
    "y_preds[:10]"
   ]
  },
  {
   "cell_type": "code",
   "execution_count": null,
   "metadata": {},
   "outputs": [],
   "source": []
  },
  {
   "cell_type": "code",
   "execution_count": null,
   "metadata": {},
   "outputs": [],
   "source": []
  },
  {
   "cell_type": "code",
   "execution_count": null,
   "metadata": {},
   "outputs": [],
   "source": []
  },
  {
   "cell_type": "code",
   "execution_count": null,
   "metadata": {},
   "outputs": [],
   "source": []
  },
  {
   "cell_type": "code",
   "execution_count": null,
   "metadata": {},
   "outputs": [],
   "source": []
  },
  {
   "cell_type": "code",
   "execution_count": null,
   "metadata": {},
   "outputs": [],
   "source": []
  },
  {
   "cell_type": "code",
   "execution_count": null,
   "metadata": {},
   "outputs": [],
   "source": [
    "# # Re-format the comments for each listing_id to a list instead of series\n",
    "# from langdetect import detect\n",
    "# base_dict = dict(tuple(df_sample_set.groupby(\"id\")))\n",
    "# sentiment_dict = {}\n",
    "# listing_ids = []\n",
    "\n",
    "# for listing_id in base_dict:\n",
    "#     base_dict[listing_id] = base_dict[listing_id][\"comments\"].values.tolist()\n",
    "#     # These four variables will hold the comments/features classified as positive/negative based on polarity\n",
    "#     negative_comments_list = []\n",
    "#     positive_comments_list = []\n",
    "#     negative_features_list = {}\n",
    "#     positive_features_list = {}\n",
    "#     sentiment_score = 0  # The overall sentiment polarity of the listing\n",
    "\n",
    "#     # For every review in each listing_id\n",
    "#     for comment in base_dict[listing_id]:\n",
    "\n",
    "#         # Use a try/catch block to catch errors where langdetect cannot identify the language of the comment\n",
    "#         try:\n",
    "\n",
    "#             # Only proceed if the comment is in English\n",
    "#             if detect(comment) == \"en\":\n",
    "\n",
    "#                 # Maintain a list of listing_ids with valid English reviews\n",
    "#                 if listing_id not in listing_ids:\n",
    "#                     listing_ids.append(listing_id)\n",
    "\n",
    "#                 # Generate a sentiment score (with polarity) for the given review\n",
    "#                 ss = SIA.polarity_scores(comment)\n",
    "\n",
    "#                 \"\"\" \n",
    "#                 We classify neutral (0) reviews as positive since manual analysis of tweets indicate that neutrally classified comments \n",
    "#                 simply used 'neutral language' to praise a listing as opposed to the sentiments actually being neutral\n",
    "#                 \"\"\"\n",
    "#                 # If the comment is negative, place it in the negative comments list and update the sentiment score of the overall listing\n",
    "#                 if ss[\"compound\"] < 0:\n",
    "#                     negative_comments_list.append(comment.strip())\n",
    "#                     sentiment_score += ss[\"compound\"]\n",
    "\n",
    "#                 # If the comment is positive, place it in the positive comments list and update the sentiment score of the overall listing\n",
    "#                 if ss[\"compound\"] >= 0:\n",
    "#                     positive_comments_list.append(comment.strip())\n",
    "#                     sentiment_score += ss[\"compound\"]\n",
    "#         except Exception as identifier:\n",
    "#                 pass\n",
    "\n",
    "# # Populate the listing_id key with the accumulated results of the sentiment analysis over all comments for a given listing\n",
    "#     if len(positive_comments_list) + len(negative_comments_list) == 0:\n",
    "#         sentiment_score = 0\n",
    "#     else:\n",
    "#         sentiment_score = sentiment_score / (\n",
    "#             len(positive_comments_list) + len(negative_comments_list)\n",
    "#         )\n",
    "\n",
    "#     sentiment_dict[listing_id] = {\n",
    "#         \"positive_comments\": positive_comments_list,\n",
    "#         \"negative_comments\": negative_comments_list,\n",
    "#         \"positive_features\": positive_features_list,\n",
    "#         \"negative_features\": negative_features_list,\n",
    "#         \"sentiment_score\": (\n",
    "#             sentiment_score  # This score is an average score over all listing reviews\n",
    "#         ),\n",
    "#     }\n",
    "\n",
    "#     # Now that population of each comment and feature is complete, we can generate data for this listing\n",
    "#     for sentiment in [\"positive_features\", \"negative_features\"]:\n",
    "\n",
    "#         # Initialize a dataframe from the sentiment dictionary and sort by # of times feature was mentioned\n",
    "#         sent_df = pd.DataFrame.from_dict(\n",
    "#             sentiment_dict[listing_id][sentiment],\n",
    "#             orient=\"index\",\n",
    "#             columns=[\"count\", \"adjectives\"],\n",
    "#         ).sort_values(by=\"count\", ascending=False)\n"
   ]
  }
 ],
 "metadata": {
  "interpreter": {
   "hash": "aee8b7b246df8f9039afb4144a1f6fd8d2ca17a180786b69acc140d282b71a49"
  },
  "kernelspec": {
   "display_name": "Python 3.8.5 64-bit",
   "language": "python",
   "name": "python3"
  },
  "language_info": {
   "codemirror_mode": {
    "name": "ipython",
    "version": 3
   },
   "file_extension": ".py",
   "mimetype": "text/x-python",
   "name": "python",
   "nbconvert_exporter": "python",
   "pygments_lexer": "ipython3",
   "version": "3.9.8"
  },
  "orig_nbformat": 4
 },
 "nbformat": 4,
 "nbformat_minor": 2
}
